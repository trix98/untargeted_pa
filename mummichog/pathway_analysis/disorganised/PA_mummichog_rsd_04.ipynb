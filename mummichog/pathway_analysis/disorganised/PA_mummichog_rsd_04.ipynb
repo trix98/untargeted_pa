{
 "cells": [
  {
   "cell_type": "code",
   "execution_count": 6,
   "metadata": {},
   "outputs": [],
   "source": [
    "# For general data science and matrix manipulation\n",
    "import numpy as np\n",
    "import pandas as pd\n",
    "from sklearn.preprocessing import StandardScaler\n",
    "from sklearn.decomposition import PCA\n",
    "from scipy import stats\n",
    "\n",
    "# For pathway analysis in python\n",
    "import sspa\n",
    "import gseapy\n",
    "\n",
    "# For plotting\n",
    "import seaborn as sns\n",
    "import matplotlib.pyplot as plt\n",
    "import plotly.express as px\n",
    "import plotly.graph_objects as go\n",
    "\n",
    "# For network creation and visualisation\n",
    "import networkx as nx"
   ]
  },
  {
   "cell_type": "code",
   "execution_count": 7,
   "metadata": {},
   "outputs": [
    {
     "name": "stdout",
     "output_type": "stream",
     "text": [
      "275\n",
      "291\n"
     ]
    }
   ],
   "source": [
    "# Getting my data to look like theirs:\n",
    "mum_out_file = \"/Users/pranathipoojary/Projects/mummichog_proj/untargeted_pa/mummichog/runs/trans_omic_covid_data.run_1_default/tables/userInput_to_EmpiricalCompounds.tsv\"\n",
    "mum_out_map = pd.read_csv(mum_out_file, sep='\\t')\n",
    "\n",
    "print(len(np.unique(mum_out_map['CompoundID_from_user']))) # 275 != no_of_EIDs because multiple metabolite features can map to one EID (218 EIDs)\n",
    "print(len(mum_out_map))\n",
    "\n",
    "drop_cols = [col for col in mum_out_map.columns if col not in [\"compound_names\", \"CompoundID_from_user\"]]\n",
    "mum_out_map.drop(columns=drop_cols, inplace=True)\n",
    "mum_out_map = mum_out_map.rename(columns={'CompoundID_from_user': 'namecustom'})\n",
    "mum_out_map['annotation'] = [str(row['compound_names']).split(';')[0] for _, row in mum_out_map.iterrows()]\n",
    "mum_out_map.drop(columns=['compound_names'], inplace=True)\n",
    "# for i, o in enumerate(mum_out_map['annotation'].tolist()):\n",
    "#     print(i, o, mum_out_map['namecustom'].iloc[i])\n",
    "\n",
    "\n"
   ]
  },
  {
   "cell_type": "code",
   "execution_count": 8,
   "metadata": {},
   "outputs": [
    {
     "name": "stdout",
     "output_type": "stream",
     "text": [
      "158 samples\n",
      "291 compounds\n"
     ]
    },
    {
     "data": {
      "text/html": [
       "<div>\n",
       "<style scoped>\n",
       "    .dataframe tbody tr th:only-of-type {\n",
       "        vertical-align: middle;\n",
       "    }\n",
       "\n",
       "    .dataframe tbody tr th {\n",
       "        vertical-align: top;\n",
       "    }\n",
       "\n",
       "    .dataframe thead th {\n",
       "        text-align: right;\n",
       "    }\n",
       "</style>\n",
       "<table border=\"1\" class=\"dataframe\">\n",
       "  <thead>\n",
       "    <tr style=\"text-align: right;\">\n",
       "      <th>sample_id</th>\n",
       "      <th>1-pyrroline</th>\n",
       "      <th>Acrylamide</th>\n",
       "      <th>Aminoacetone$beta-Aminopropion aldehyde</th>\n",
       "      <th>L-Lysine</th>\n",
       "      <th>(R)-Lactaldehyde</th>\n",
       "      <th>Glycine</th>\n",
       "      <th>Sarcosine</th>\n",
       "      <th>D-Lactate$3-Hydroxypropanoate</th>\n",
       "      <th>D-Lactate$3-Hydroxypropanoate</th>\n",
       "      <th>cyanosulfurous acid anion</th>\n",
       "      <th>...</th>\n",
       "      <th>docosa-4,7,10,13,16-pentaenoyl carnitine$clupanodonyl carnitine</th>\n",
       "      <th>tetracosapentaenoyl carnitine$tetracosapentaenoyl carnitine</th>\n",
       "      <th>Cellulose</th>\n",
       "      <th>Cellulose</th>\n",
       "      <th>Platelet-activating factor</th>\n",
       "      <th>Platelet-activating factor</th>\n",
       "      <th>Diacylglycerol</th>\n",
       "      <th>Sphingomyelin</th>\n",
       "      <th>O-(4-Hydroxy-3,5-diidophenyl)-3,5-diiodo-L-tyrosine</th>\n",
       "      <th>O-(4-Hydroxy-3,5-diidophenyl)-3,5-diiodo-L-tyrosine</th>\n",
       "    </tr>\n",
       "  </thead>\n",
       "  <tbody>\n",
       "    <tr>\n",
       "      <th>20P02820001_BEHC18_POS</th>\n",
       "      <td>9.586599e+06</td>\n",
       "      <td>500594.433263</td>\n",
       "      <td>1.650055e+06</td>\n",
       "      <td>1.650055e+06</td>\n",
       "      <td>2.964170e+07</td>\n",
       "      <td>1.736655e+06</td>\n",
       "      <td>4.441695e+07</td>\n",
       "      <td>1.754777e+07</td>\n",
       "      <td>8.942074e+05</td>\n",
       "      <td>3.359977e+06</td>\n",
       "      <td>...</td>\n",
       "      <td>2.846502e+09</td>\n",
       "      <td>1.297294e+09</td>\n",
       "      <td>631601.234551</td>\n",
       "      <td>377840.632907</td>\n",
       "      <td>7.529606e+06</td>\n",
       "      <td>1.000743e+07</td>\n",
       "      <td>3.057846e+06</td>\n",
       "      <td>1.282466e+06</td>\n",
       "      <td>4.106021e+06</td>\n",
       "      <td>666864.255341</td>\n",
       "    </tr>\n",
       "    <tr>\n",
       "      <th>20P02820002_BEHC18_POS</th>\n",
       "      <td>7.135026e+06</td>\n",
       "      <td>627499.623865</td>\n",
       "      <td>1.655892e+06</td>\n",
       "      <td>1.655892e+06</td>\n",
       "      <td>4.373973e+07</td>\n",
       "      <td>1.251457e+06</td>\n",
       "      <td>1.123149e+07</td>\n",
       "      <td>1.882648e+07</td>\n",
       "      <td>9.458464e+05</td>\n",
       "      <td>3.149133e+06</td>\n",
       "      <td>...</td>\n",
       "      <td>2.186309e+09</td>\n",
       "      <td>6.906990e+08</td>\n",
       "      <td>467777.238959</td>\n",
       "      <td>282095.649790</td>\n",
       "      <td>5.077834e+06</td>\n",
       "      <td>8.439636e+06</td>\n",
       "      <td>1.601464e+06</td>\n",
       "      <td>1.136240e+06</td>\n",
       "      <td>3.225313e+06</td>\n",
       "      <td>523462.026155</td>\n",
       "    </tr>\n",
       "    <tr>\n",
       "      <th>20P02820006_BEHC18_POS</th>\n",
       "      <td>6.042677e+06</td>\n",
       "      <td>607563.660403</td>\n",
       "      <td>3.052753e+06</td>\n",
       "      <td>3.052753e+06</td>\n",
       "      <td>9.800986e+07</td>\n",
       "      <td>1.457548e+06</td>\n",
       "      <td>1.912244e+07</td>\n",
       "      <td>1.881966e+07</td>\n",
       "      <td>7.248538e+05</td>\n",
       "      <td>3.346238e+06</td>\n",
       "      <td>...</td>\n",
       "      <td>1.393014e+09</td>\n",
       "      <td>5.595865e+08</td>\n",
       "      <td>561161.184395</td>\n",
       "      <td>328400.416784</td>\n",
       "      <td>1.738785e+06</td>\n",
       "      <td>3.350195e+06</td>\n",
       "      <td>2.413099e+06</td>\n",
       "      <td>1.058635e+06</td>\n",
       "      <td>2.216370e+06</td>\n",
       "      <td>324092.723047</td>\n",
       "    </tr>\n",
       "    <tr>\n",
       "      <th>20P02820016_BEHC18_POS</th>\n",
       "      <td>1.952811e+07</td>\n",
       "      <td>559371.453907</td>\n",
       "      <td>2.664509e+06</td>\n",
       "      <td>2.664509e+06</td>\n",
       "      <td>3.693705e+07</td>\n",
       "      <td>2.758953e+06</td>\n",
       "      <td>5.645569e+07</td>\n",
       "      <td>1.719112e+07</td>\n",
       "      <td>1.130963e+06</td>\n",
       "      <td>3.310986e+06</td>\n",
       "      <td>...</td>\n",
       "      <td>4.079052e+09</td>\n",
       "      <td>1.283862e+09</td>\n",
       "      <td>654914.651013</td>\n",
       "      <td>407136.845586</td>\n",
       "      <td>5.270399e+06</td>\n",
       "      <td>8.844514e+06</td>\n",
       "      <td>2.461041e+06</td>\n",
       "      <td>8.910983e+05</td>\n",
       "      <td>3.795157e+06</td>\n",
       "      <td>645135.095474</td>\n",
       "    </tr>\n",
       "    <tr>\n",
       "      <th>20P02820017_BEHC18_POS</th>\n",
       "      <td>1.761037e+07</td>\n",
       "      <td>463999.885733</td>\n",
       "      <td>2.931284e+06</td>\n",
       "      <td>2.931284e+06</td>\n",
       "      <td>4.993484e+07</td>\n",
       "      <td>2.639565e+06</td>\n",
       "      <td>5.328948e+07</td>\n",
       "      <td>2.380405e+07</td>\n",
       "      <td>1.269466e+06</td>\n",
       "      <td>3.374461e+06</td>\n",
       "      <td>...</td>\n",
       "      <td>3.749521e+09</td>\n",
       "      <td>1.749349e+09</td>\n",
       "      <td>744624.691027</td>\n",
       "      <td>453232.219491</td>\n",
       "      <td>8.829612e+06</td>\n",
       "      <td>1.232093e+07</td>\n",
       "      <td>1.974573e+06</td>\n",
       "      <td>1.429257e+06</td>\n",
       "      <td>3.947846e+06</td>\n",
       "      <td>620079.799776</td>\n",
       "    </tr>\n",
       "  </tbody>\n",
       "</table>\n",
       "<p>5 rows × 291 columns</p>\n",
       "</div>"
      ],
      "text/plain": [
       "sample_id                1-pyrroline     Acrylamide  \\\n",
       "20P02820001_BEHC18_POS  9.586599e+06  500594.433263   \n",
       "20P02820002_BEHC18_POS  7.135026e+06  627499.623865   \n",
       "20P02820006_BEHC18_POS  6.042677e+06  607563.660403   \n",
       "20P02820016_BEHC18_POS  1.952811e+07  559371.453907   \n",
       "20P02820017_BEHC18_POS  1.761037e+07  463999.885733   \n",
       "\n",
       "sample_id               Aminoacetone$beta-Aminopropion aldehyde      L-Lysine  \\\n",
       "20P02820001_BEHC18_POS                             1.650055e+06  1.650055e+06   \n",
       "20P02820002_BEHC18_POS                             1.655892e+06  1.655892e+06   \n",
       "20P02820006_BEHC18_POS                             3.052753e+06  3.052753e+06   \n",
       "20P02820016_BEHC18_POS                             2.664509e+06  2.664509e+06   \n",
       "20P02820017_BEHC18_POS                             2.931284e+06  2.931284e+06   \n",
       "\n",
       "sample_id               (R)-Lactaldehyde       Glycine     Sarcosine  \\\n",
       "20P02820001_BEHC18_POS      2.964170e+07  1.736655e+06  4.441695e+07   \n",
       "20P02820002_BEHC18_POS      4.373973e+07  1.251457e+06  1.123149e+07   \n",
       "20P02820006_BEHC18_POS      9.800986e+07  1.457548e+06  1.912244e+07   \n",
       "20P02820016_BEHC18_POS      3.693705e+07  2.758953e+06  5.645569e+07   \n",
       "20P02820017_BEHC18_POS      4.993484e+07  2.639565e+06  5.328948e+07   \n",
       "\n",
       "sample_id               D-Lactate$3-Hydroxypropanoate  \\\n",
       "20P02820001_BEHC18_POS                   1.754777e+07   \n",
       "20P02820002_BEHC18_POS                   1.882648e+07   \n",
       "20P02820006_BEHC18_POS                   1.881966e+07   \n",
       "20P02820016_BEHC18_POS                   1.719112e+07   \n",
       "20P02820017_BEHC18_POS                   2.380405e+07   \n",
       "\n",
       "sample_id               D-Lactate$3-Hydroxypropanoate  \\\n",
       "20P02820001_BEHC18_POS                   8.942074e+05   \n",
       "20P02820002_BEHC18_POS                   9.458464e+05   \n",
       "20P02820006_BEHC18_POS                   7.248538e+05   \n",
       "20P02820016_BEHC18_POS                   1.130963e+06   \n",
       "20P02820017_BEHC18_POS                   1.269466e+06   \n",
       "\n",
       "sample_id               cyanosulfurous acid anion  ...  \\\n",
       "20P02820001_BEHC18_POS               3.359977e+06  ...   \n",
       "20P02820002_BEHC18_POS               3.149133e+06  ...   \n",
       "20P02820006_BEHC18_POS               3.346238e+06  ...   \n",
       "20P02820016_BEHC18_POS               3.310986e+06  ...   \n",
       "20P02820017_BEHC18_POS               3.374461e+06  ...   \n",
       "\n",
       "sample_id               docosa-4,7,10,13,16-pentaenoyl carnitine$clupanodonyl carnitine  \\\n",
       "20P02820001_BEHC18_POS                                       2.846502e+09                 \n",
       "20P02820002_BEHC18_POS                                       2.186309e+09                 \n",
       "20P02820006_BEHC18_POS                                       1.393014e+09                 \n",
       "20P02820016_BEHC18_POS                                       4.079052e+09                 \n",
       "20P02820017_BEHC18_POS                                       3.749521e+09                 \n",
       "\n",
       "sample_id               tetracosapentaenoyl carnitine$tetracosapentaenoyl carnitine  \\\n",
       "20P02820001_BEHC18_POS                                       1.297294e+09             \n",
       "20P02820002_BEHC18_POS                                       6.906990e+08             \n",
       "20P02820006_BEHC18_POS                                       5.595865e+08             \n",
       "20P02820016_BEHC18_POS                                       1.283862e+09             \n",
       "20P02820017_BEHC18_POS                                       1.749349e+09             \n",
       "\n",
       "sample_id                   Cellulose      Cellulose  \\\n",
       "20P02820001_BEHC18_POS  631601.234551  377840.632907   \n",
       "20P02820002_BEHC18_POS  467777.238959  282095.649790   \n",
       "20P02820006_BEHC18_POS  561161.184395  328400.416784   \n",
       "20P02820016_BEHC18_POS  654914.651013  407136.845586   \n",
       "20P02820017_BEHC18_POS  744624.691027  453232.219491   \n",
       "\n",
       "sample_id               Platelet-activating factor  \\\n",
       "20P02820001_BEHC18_POS                7.529606e+06   \n",
       "20P02820002_BEHC18_POS                5.077834e+06   \n",
       "20P02820006_BEHC18_POS                1.738785e+06   \n",
       "20P02820016_BEHC18_POS                5.270399e+06   \n",
       "20P02820017_BEHC18_POS                8.829612e+06   \n",
       "\n",
       "sample_id               Platelet-activating factor  Diacylglycerol  \\\n",
       "20P02820001_BEHC18_POS                1.000743e+07    3.057846e+06   \n",
       "20P02820002_BEHC18_POS                8.439636e+06    1.601464e+06   \n",
       "20P02820006_BEHC18_POS                3.350195e+06    2.413099e+06   \n",
       "20P02820016_BEHC18_POS                8.844514e+06    2.461041e+06   \n",
       "20P02820017_BEHC18_POS                1.232093e+07    1.974573e+06   \n",
       "\n",
       "sample_id               Sphingomyelin  \\\n",
       "20P02820001_BEHC18_POS   1.282466e+06   \n",
       "20P02820002_BEHC18_POS   1.136240e+06   \n",
       "20P02820006_BEHC18_POS   1.058635e+06   \n",
       "20P02820016_BEHC18_POS   8.910983e+05   \n",
       "20P02820017_BEHC18_POS   1.429257e+06   \n",
       "\n",
       "sample_id               O-(4-Hydroxy-3,5-diidophenyl)-3,5-diiodo-L-tyrosine  \\\n",
       "20P02820001_BEHC18_POS                                       4.106021e+06     \n",
       "20P02820002_BEHC18_POS                                       3.225313e+06     \n",
       "20P02820006_BEHC18_POS                                       2.216370e+06     \n",
       "20P02820016_BEHC18_POS                                       3.795157e+06     \n",
       "20P02820017_BEHC18_POS                                       3.947846e+06     \n",
       "\n",
       "sample_id               O-(4-Hydroxy-3,5-diidophenyl)-3,5-diiodo-L-tyrosine  \n",
       "20P02820001_BEHC18_POS                                      666864.255341    \n",
       "20P02820002_BEHC18_POS                                      523462.026155    \n",
       "20P02820006_BEHC18_POS                                      324092.723047    \n",
       "20P02820016_BEHC18_POS                                      645135.095474    \n",
       "20P02820017_BEHC18_POS                                      620079.799776    \n",
       "\n",
       "[5 rows x 291 columns]"
      ]
     },
     "execution_count": 8,
     "metadata": {},
     "output_type": "execute_result"
    }
   ],
   "source": [
    "mum_input_file = \"/Users/pranathipoojary/Projects/mummichog_proj/untargeted_pa/data/trans_omic_untargeted/prs_feat_table_pos.csv\"\n",
    "mum_input = pd.read_csv(mum_input_file)\n",
    "drop_cols = [col for col in mum_input.columns if col[0]!=\"2\" and col not in [\"namecustom\"]]\n",
    "mum_input.drop(columns=drop_cols, inplace=True)\n",
    "# print(len(mum_input))\n",
    "# print(len(mum_input.columns))\n",
    "# print(mum_input.head().iloc[:, :5])\n",
    "\n",
    "df_merged = mum_out_map.merge(mum_input, on='namecustom')\n",
    "# print(len(df_merged))\n",
    "# print(df_merged.head().iloc[:, :5])\n",
    "\n",
    "df_merged = df_merged.drop(columns=['namecustom'])\n",
    "df_merged = df_merged.rename(columns={df_merged.columns[0]: 'sample_id'})\n",
    "df_merged = df_merged.set_index('sample_id')\n",
    "df_merged = df_merged.transpose()\n",
    "\n",
    "print(len(df_merged), 'samples')\n",
    "print(len(df_merged.columns), 'compounds')\n",
    "df_merged.head()"
   ]
  },
  {
   "cell_type": "code",
   "execution_count": 9,
   "metadata": {},
   "outputs": [
    {
     "name": "stdout",
     "output_type": "stream",
     "text": [
      "158 samples\n"
     ]
    },
    {
     "data": {
      "text/html": [
       "<div>\n",
       "<style scoped>\n",
       "    .dataframe tbody tr th:only-of-type {\n",
       "        vertical-align: middle;\n",
       "    }\n",
       "\n",
       "    .dataframe tbody tr th {\n",
       "        vertical-align: top;\n",
       "    }\n",
       "\n",
       "    .dataframe thead th {\n",
       "        text-align: right;\n",
       "    }\n",
       "</style>\n",
       "<table border=\"1\" class=\"dataframe\">\n",
       "  <thead>\n",
       "    <tr style=\"text-align: right;\">\n",
       "      <th></th>\n",
       "      <th>is_bad</th>\n",
       "      <th>age</th>\n",
       "    </tr>\n",
       "    <tr>\n",
       "      <th>sample_id</th>\n",
       "      <th></th>\n",
       "      <th></th>\n",
       "    </tr>\n",
       "  </thead>\n",
       "  <tbody>\n",
       "    <tr>\n",
       "      <th>20P02820001_BEHC18_POS</th>\n",
       "      <td>0</td>\n",
       "      <td>38</td>\n",
       "    </tr>\n",
       "    <tr>\n",
       "      <th>20P02820002_BEHC18_POS</th>\n",
       "      <td>0</td>\n",
       "      <td>57</td>\n",
       "    </tr>\n",
       "    <tr>\n",
       "      <th>20P02820006_BEHC18_POS</th>\n",
       "      <td>1</td>\n",
       "      <td>49</td>\n",
       "    </tr>\n",
       "    <tr>\n",
       "      <th>20P02820016_BEHC18_POS</th>\n",
       "      <td>1</td>\n",
       "      <td>24</td>\n",
       "    </tr>\n",
       "    <tr>\n",
       "      <th>20P02820017_BEHC18_POS</th>\n",
       "      <td>1</td>\n",
       "      <td>37</td>\n",
       "    </tr>\n",
       "  </tbody>\n",
       "</table>\n",
       "</div>"
      ],
      "text/plain": [
       "                        is_bad  age\n",
       "sample_id                          \n",
       "20P02820001_BEHC18_POS       0   38\n",
       "20P02820002_BEHC18_POS       0   57\n",
       "20P02820006_BEHC18_POS       1   49\n",
       "20P02820016_BEHC18_POS       1   24\n",
       "20P02820017_BEHC18_POS       1   37"
      ]
     },
     "execution_count": 9,
     "metadata": {},
     "output_type": "execute_result"
    }
   ],
   "source": [
    "df_meta = pd.read_csv(\"/Users/pranathipoojary/Projects/mummichog_proj/untargeted_pa/data/trans_omic_untargeted/meta_data.csv\")\n",
    "df_meta = df_meta[['sample_id', 'is_bad', 'age']]\n",
    "df_meta = df_meta[df_meta['sample_id'].isin(df_merged.index)]\n",
    "df_meta = df_meta.set_index('sample_id')\n",
    "\n",
    "print(len(df_meta), 'samples')\n",
    "df_meta.head()"
   ]
  },
  {
   "cell_type": "code",
   "execution_count": 10,
   "metadata": {},
   "outputs": [
    {
     "name": "stdout",
     "output_type": "stream",
     "text": [
      "158\n",
      "158\n",
      "158\n",
      "158\n",
      "158\n"
     ]
    },
    {
     "data": {
      "text/html": [
       "<div>\n",
       "<style scoped>\n",
       "    .dataframe tbody tr th:only-of-type {\n",
       "        vertical-align: middle;\n",
       "    }\n",
       "\n",
       "    .dataframe tbody tr th {\n",
       "        vertical-align: top;\n",
       "    }\n",
       "\n",
       "    .dataframe thead th {\n",
       "        text-align: right;\n",
       "    }\n",
       "</style>\n",
       "<table border=\"1\" class=\"dataframe\">\n",
       "  <thead>\n",
       "    <tr style=\"text-align: right;\">\n",
       "      <th>sample_id</th>\n",
       "      <th>1-pyrroline</th>\n",
       "      <th>Acrylamide</th>\n",
       "      <th>Aminoacetone$beta-Aminopropion aldehyde</th>\n",
       "      <th>L-Lysine</th>\n",
       "      <th>(R)-Lactaldehyde</th>\n",
       "      <th>Glycine</th>\n",
       "      <th>Sarcosine</th>\n",
       "      <th>D-Lactate$3-Hydroxypropanoate</th>\n",
       "      <th>D-Lactate$3-Hydroxypropanoate</th>\n",
       "      <th>cyanosulfurous acid anion</th>\n",
       "      <th>...</th>\n",
       "      <th>docosa-4,7,10,13,16-pentaenoyl carnitine$clupanodonyl carnitine</th>\n",
       "      <th>tetracosapentaenoyl carnitine$tetracosapentaenoyl carnitine</th>\n",
       "      <th>Cellulose</th>\n",
       "      <th>Cellulose</th>\n",
       "      <th>Platelet-activating factor</th>\n",
       "      <th>Platelet-activating factor</th>\n",
       "      <th>Diacylglycerol</th>\n",
       "      <th>Sphingomyelin</th>\n",
       "      <th>O-(4-Hydroxy-3,5-diidophenyl)-3,5-diiodo-L-tyrosine</th>\n",
       "      <th>O-(4-Hydroxy-3,5-diidophenyl)-3,5-diiodo-L-tyrosine</th>\n",
       "    </tr>\n",
       "  </thead>\n",
       "  <tbody>\n",
       "    <tr>\n",
       "      <th>20P02820001_BEHC18_POS</th>\n",
       "      <td>-0.883662</td>\n",
       "      <td>-0.064219</td>\n",
       "      <td>-0.739133</td>\n",
       "      <td>-0.739133</td>\n",
       "      <td>-1.272601</td>\n",
       "      <td>-0.174995</td>\n",
       "      <td>0.938938</td>\n",
       "      <td>0.494266</td>\n",
       "      <td>-0.558754</td>\n",
       "      <td>0.526820</td>\n",
       "      <td>...</td>\n",
       "      <td>0.587790</td>\n",
       "      <td>0.823294</td>\n",
       "      <td>0.684200</td>\n",
       "      <td>0.644634</td>\n",
       "      <td>1.176439</td>\n",
       "      <td>0.691683</td>\n",
       "      <td>0.775012</td>\n",
       "      <td>0.369420</td>\n",
       "      <td>0.751203</td>\n",
       "      <td>0.808578</td>\n",
       "    </tr>\n",
       "    <tr>\n",
       "      <th>20P02820002_BEHC18_POS</th>\n",
       "      <td>-1.782299</td>\n",
       "      <td>0.734335</td>\n",
       "      <td>-0.727592</td>\n",
       "      <td>-0.727592</td>\n",
       "      <td>-0.189532</td>\n",
       "      <td>-1.114603</td>\n",
       "      <td>-3.073310</td>\n",
       "      <td>0.689103</td>\n",
       "      <td>-0.360443</td>\n",
       "      <td>0.316929</td>\n",
       "      <td>...</td>\n",
       "      <td>0.052022</td>\n",
       "      <td>-0.726905</td>\n",
       "      <td>-0.608190</td>\n",
       "      <td>-0.463185</td>\n",
       "      <td>0.282542</td>\n",
       "      <td>0.264042</td>\n",
       "      <td>-0.695277</td>\n",
       "      <td>0.037751</td>\n",
       "      <td>0.223682</td>\n",
       "      <td>0.260681</td>\n",
       "    </tr>\n",
       "    <tr>\n",
       "      <th>20P02820006_BEHC18_POS</th>\n",
       "      <td>-2.287887</td>\n",
       "      <td>0.620228</td>\n",
       "      <td>1.271608</td>\n",
       "      <td>1.271608</td>\n",
       "      <td>2.056392</td>\n",
       "      <td>-0.677431</td>\n",
       "      <td>-1.520409</td>\n",
       "      <td>0.688099</td>\n",
       "      <td>-1.300421</td>\n",
       "      <td>0.513549</td>\n",
       "      <td>...</td>\n",
       "      <td>-0.863160</td>\n",
       "      <td>-1.244610</td>\n",
       "      <td>0.175234</td>\n",
       "      <td>0.112994</td>\n",
       "      <td>-2.149162</td>\n",
       "      <td>-2.054807</td>\n",
       "      <td>0.236721</td>\n",
       "      <td>-0.156069</td>\n",
       "      <td>-0.596053</td>\n",
       "      <td>-0.824229</td>\n",
       "    </tr>\n",
       "    <tr>\n",
       "      <th>20P02820016_BEHC18_POS</th>\n",
       "      <td>1.281124</td>\n",
       "      <td>0.328145</td>\n",
       "      <td>0.827048</td>\n",
       "      <td>0.827048</td>\n",
       "      <td>-0.660094</td>\n",
       "      <td>1.152435</td>\n",
       "      <td>1.638827</td>\n",
       "      <td>0.437388</td>\n",
       "      <td>0.270936</td>\n",
       "      <td>0.479249</td>\n",
       "      <td>...</td>\n",
       "      <td>1.318266</td>\n",
       "      <td>0.797697</td>\n",
       "      <td>0.840211</td>\n",
       "      <td>0.927731</td>\n",
       "      <td>0.366997</td>\n",
       "      <td>0.381646</td>\n",
       "      <td>0.281441</td>\n",
       "      <td>-0.628069</td>\n",
       "      <td>0.579178</td>\n",
       "      <td>0.733616</td>\n",
       "    </tr>\n",
       "    <tr>\n",
       "      <th>20P02820017_BEHC18_POS</th>\n",
       "      <td>0.966618</td>\n",
       "      <td>-0.332512</td>\n",
       "      <td>1.138907</td>\n",
       "      <td>1.138907</td>\n",
       "      <td>0.179204</td>\n",
       "      <td>1.025577</td>\n",
       "      <td>1.470396</td>\n",
       "      <td>1.338926</td>\n",
       "      <td>0.679009</td>\n",
       "      <td>0.540750</td>\n",
       "      <td>...</td>\n",
       "      <td>1.147234</td>\n",
       "      <td>1.558545</td>\n",
       "      <td>1.392758</td>\n",
       "      <td>1.334332</td>\n",
       "      <td>1.537822</td>\n",
       "      <td>1.213648</td>\n",
       "      <td>-0.219192</td>\n",
       "      <td>0.666323</td>\n",
       "      <td>0.665365</td>\n",
       "      <td>0.643979</td>\n",
       "    </tr>\n",
       "  </tbody>\n",
       "</table>\n",
       "<p>5 rows × 291 columns</p>\n",
       "</div>"
      ],
      "text/plain": [
       "sample_id               1-pyrroline  Acrylamide  \\\n",
       "20P02820001_BEHC18_POS    -0.883662   -0.064219   \n",
       "20P02820002_BEHC18_POS    -1.782299    0.734335   \n",
       "20P02820006_BEHC18_POS    -2.287887    0.620228   \n",
       "20P02820016_BEHC18_POS     1.281124    0.328145   \n",
       "20P02820017_BEHC18_POS     0.966618   -0.332512   \n",
       "\n",
       "sample_id               Aminoacetone$beta-Aminopropion aldehyde  L-Lysine  \\\n",
       "20P02820001_BEHC18_POS                                -0.739133 -0.739133   \n",
       "20P02820002_BEHC18_POS                                -0.727592 -0.727592   \n",
       "20P02820006_BEHC18_POS                                 1.271608  1.271608   \n",
       "20P02820016_BEHC18_POS                                 0.827048  0.827048   \n",
       "20P02820017_BEHC18_POS                                 1.138907  1.138907   \n",
       "\n",
       "sample_id               (R)-Lactaldehyde   Glycine  Sarcosine  \\\n",
       "20P02820001_BEHC18_POS         -1.272601 -0.174995   0.938938   \n",
       "20P02820002_BEHC18_POS         -0.189532 -1.114603  -3.073310   \n",
       "20P02820006_BEHC18_POS          2.056392 -0.677431  -1.520409   \n",
       "20P02820016_BEHC18_POS         -0.660094  1.152435   1.638827   \n",
       "20P02820017_BEHC18_POS          0.179204  1.025577   1.470396   \n",
       "\n",
       "sample_id               D-Lactate$3-Hydroxypropanoate  \\\n",
       "20P02820001_BEHC18_POS                       0.494266   \n",
       "20P02820002_BEHC18_POS                       0.689103   \n",
       "20P02820006_BEHC18_POS                       0.688099   \n",
       "20P02820016_BEHC18_POS                       0.437388   \n",
       "20P02820017_BEHC18_POS                       1.338926   \n",
       "\n",
       "sample_id               D-Lactate$3-Hydroxypropanoate  \\\n",
       "20P02820001_BEHC18_POS                      -0.558754   \n",
       "20P02820002_BEHC18_POS                      -0.360443   \n",
       "20P02820006_BEHC18_POS                      -1.300421   \n",
       "20P02820016_BEHC18_POS                       0.270936   \n",
       "20P02820017_BEHC18_POS                       0.679009   \n",
       "\n",
       "sample_id               cyanosulfurous acid anion  ...  \\\n",
       "20P02820001_BEHC18_POS                   0.526820  ...   \n",
       "20P02820002_BEHC18_POS                   0.316929  ...   \n",
       "20P02820006_BEHC18_POS                   0.513549  ...   \n",
       "20P02820016_BEHC18_POS                   0.479249  ...   \n",
       "20P02820017_BEHC18_POS                   0.540750  ...   \n",
       "\n",
       "sample_id               docosa-4,7,10,13,16-pentaenoyl carnitine$clupanodonyl carnitine  \\\n",
       "20P02820001_BEHC18_POS                                           0.587790                 \n",
       "20P02820002_BEHC18_POS                                           0.052022                 \n",
       "20P02820006_BEHC18_POS                                          -0.863160                 \n",
       "20P02820016_BEHC18_POS                                           1.318266                 \n",
       "20P02820017_BEHC18_POS                                           1.147234                 \n",
       "\n",
       "sample_id               tetracosapentaenoyl carnitine$tetracosapentaenoyl carnitine  \\\n",
       "20P02820001_BEHC18_POS                                           0.823294             \n",
       "20P02820002_BEHC18_POS                                          -0.726905             \n",
       "20P02820006_BEHC18_POS                                          -1.244610             \n",
       "20P02820016_BEHC18_POS                                           0.797697             \n",
       "20P02820017_BEHC18_POS                                           1.558545             \n",
       "\n",
       "sample_id               Cellulose  Cellulose  Platelet-activating factor  \\\n",
       "20P02820001_BEHC18_POS   0.684200   0.644634                    1.176439   \n",
       "20P02820002_BEHC18_POS  -0.608190  -0.463185                    0.282542   \n",
       "20P02820006_BEHC18_POS   0.175234   0.112994                   -2.149162   \n",
       "20P02820016_BEHC18_POS   0.840211   0.927731                    0.366997   \n",
       "20P02820017_BEHC18_POS   1.392758   1.334332                    1.537822   \n",
       "\n",
       "sample_id               Platelet-activating factor  Diacylglycerol  \\\n",
       "20P02820001_BEHC18_POS                    0.691683        0.775012   \n",
       "20P02820002_BEHC18_POS                    0.264042       -0.695277   \n",
       "20P02820006_BEHC18_POS                   -2.054807        0.236721   \n",
       "20P02820016_BEHC18_POS                    0.381646        0.281441   \n",
       "20P02820017_BEHC18_POS                    1.213648       -0.219192   \n",
       "\n",
       "sample_id               Sphingomyelin  \\\n",
       "20P02820001_BEHC18_POS       0.369420   \n",
       "20P02820002_BEHC18_POS       0.037751   \n",
       "20P02820006_BEHC18_POS      -0.156069   \n",
       "20P02820016_BEHC18_POS      -0.628069   \n",
       "20P02820017_BEHC18_POS       0.666323   \n",
       "\n",
       "sample_id               O-(4-Hydroxy-3,5-diidophenyl)-3,5-diiodo-L-tyrosine  \\\n",
       "20P02820001_BEHC18_POS                                           0.751203     \n",
       "20P02820002_BEHC18_POS                                           0.223682     \n",
       "20P02820006_BEHC18_POS                                          -0.596053     \n",
       "20P02820016_BEHC18_POS                                           0.579178     \n",
       "20P02820017_BEHC18_POS                                           0.665365     \n",
       "\n",
       "sample_id               O-(4-Hydroxy-3,5-diidophenyl)-3,5-diiodo-L-tyrosine  \n",
       "20P02820001_BEHC18_POS                                           0.808578    \n",
       "20P02820002_BEHC18_POS                                           0.260681    \n",
       "20P02820006_BEHC18_POS                                          -0.824229    \n",
       "20P02820016_BEHC18_POS                                           0.733616    \n",
       "20P02820017_BEHC18_POS                                           0.643979    \n",
       "\n",
       "[5 rows x 291 columns]"
      ]
     },
     "execution_count": 10,
     "metadata": {},
     "output_type": "execute_result"
    }
   ],
   "source": [
    "print(len(df_merged))\n",
    "data_filt = df_merged.loc[:, df_merged.isin([' ', np.nan, 0]).mean() < 0.5]\n",
    "print(len(data_filt))\n",
    "imputed_mat = data_filt.fillna(data_filt.median())\n",
    "print(len(imputed_mat))\n",
    "log2_mat = np.log2(imputed_mat)\n",
    "print(len(log2_mat))\n",
    "processed_data = pd.DataFrame(StandardScaler().fit_transform(log2_mat), columns=df_merged.columns, index=df_merged.index)\n",
    "print(len(processed_data))\n",
    "processed_data.head()\n"
   ]
  },
  {
   "cell_type": "code",
   "execution_count": 11,
   "metadata": {},
   "outputs": [
    {
     "data": {
      "text/plain": [
       "sample_id\n",
       "1-pyrroline                                1.129898e-15\n",
       "Acrylamide                                 7.184127e-15\n",
       "Aminoacetone$beta-Aminopropion aldehyde    4.980545e-15\n",
       "L-Lysine                                   4.980545e-15\n",
       "(R)-Lactaldehyde                           1.292918e-15\n",
       "dtype: float64"
      ]
     },
     "execution_count": 11,
     "metadata": {},
     "output_type": "execute_result"
    }
   ],
   "source": [
    "processed_data.mean().head()"
   ]
  },
  {
   "cell_type": "code",
   "execution_count": 12,
   "metadata": {},
   "outputs": [],
   "source": [
    "PCA_covid = PCA(n_components=2)\n",
    "PCA_scores = pd.DataFrame(PCA_covid.fit_transform(processed_data), columns=['PC1', 'PC2'], index=df_merged.index)\n",
    "PCA_scores['is_bad'] = df_meta['is_bad'].values\n",
    "PCA_scores['age'] = df_meta['age'].values"
   ]
  },
  {
   "cell_type": "code",
   "execution_count": 13,
   "metadata": {},
   "outputs": [
    {
     "data": {
      "text/html": [
       "<div>\n",
       "<style scoped>\n",
       "    .dataframe tbody tr th:only-of-type {\n",
       "        vertical-align: middle;\n",
       "    }\n",
       "\n",
       "    .dataframe tbody tr th {\n",
       "        vertical-align: top;\n",
       "    }\n",
       "\n",
       "    .dataframe thead th {\n",
       "        text-align: right;\n",
       "    }\n",
       "</style>\n",
       "<table border=\"1\" class=\"dataframe\">\n",
       "  <thead>\n",
       "    <tr style=\"text-align: right;\">\n",
       "      <th></th>\n",
       "      <th>PC1</th>\n",
       "      <th>PC2</th>\n",
       "      <th>is_bad</th>\n",
       "      <th>age</th>\n",
       "    </tr>\n",
       "  </thead>\n",
       "  <tbody>\n",
       "    <tr>\n",
       "      <th>20P02820001_BEHC18_POS</th>\n",
       "      <td>-1.522116</td>\n",
       "      <td>0.464831</td>\n",
       "      <td>0</td>\n",
       "      <td>38</td>\n",
       "    </tr>\n",
       "    <tr>\n",
       "      <th>20P02820002_BEHC18_POS</th>\n",
       "      <td>-7.120678</td>\n",
       "      <td>-1.331779</td>\n",
       "      <td>0</td>\n",
       "      <td>57</td>\n",
       "    </tr>\n",
       "    <tr>\n",
       "      <th>20P02820006_BEHC18_POS</th>\n",
       "      <td>1.478557</td>\n",
       "      <td>9.605894</td>\n",
       "      <td>1</td>\n",
       "      <td>49</td>\n",
       "    </tr>\n",
       "    <tr>\n",
       "      <th>20P02820016_BEHC18_POS</th>\n",
       "      <td>8.962580</td>\n",
       "      <td>-0.437170</td>\n",
       "      <td>1</td>\n",
       "      <td>24</td>\n",
       "    </tr>\n",
       "    <tr>\n",
       "      <th>20P02820017_BEHC18_POS</th>\n",
       "      <td>11.477293</td>\n",
       "      <td>0.548819</td>\n",
       "      <td>1</td>\n",
       "      <td>37</td>\n",
       "    </tr>\n",
       "  </tbody>\n",
       "</table>\n",
       "</div>"
      ],
      "text/plain": [
       "                              PC1       PC2  is_bad  age\n",
       "20P02820001_BEHC18_POS  -1.522116  0.464831       0   38\n",
       "20P02820002_BEHC18_POS  -7.120678 -1.331779       0   57\n",
       "20P02820006_BEHC18_POS   1.478557  9.605894       1   49\n",
       "20P02820016_BEHC18_POS   8.962580 -0.437170       1   24\n",
       "20P02820017_BEHC18_POS  11.477293  0.548819       1   37"
      ]
     },
     "execution_count": 13,
     "metadata": {},
     "output_type": "execute_result"
    }
   ],
   "source": [
    "PCA_scores.head(5)"
   ]
  },
  {
   "cell_type": "code",
   "execution_count": 14,
   "metadata": {},
   "outputs": [
    {
     "data": {
      "image/png": "[encoded data removed]",
      "text/plain": [
       "<Figure size 1000x500 with 2 Axes>"
      ]
     },
     "metadata": {},
     "output_type": "display_data"
    }
   ],
   "source": [
    "sns.set_style('darkgrid')\n",
    "fig, (ax1, ax2) = plt.subplots(1, 2, figsize=(10, 5))\n",
    "\n",
    "sns.scatterplot(\n",
    "    data=PCA_scores,\n",
    "    x='PC1',\n",
    "    y='PC2',\n",
    "    hue='is_bad',\n",
    "    linewidth=0.5,\n",
    "    edgecolor='k',\n",
    "    s=50,\n",
    "    # palette='Reds',\n",
    "    # hue_order=['0', '1-2', '3-4', '5-7'],\n",
    "    ax=ax1\n",
    ")\n",
    "\n",
    "sns.scatterplot(\n",
    "    data=PCA_scores,\n",
    "    x='PC1',\n",
    "    y='PC2',\n",
    "    hue='age',\n",
    "    linewidth=0.5,\n",
    "    edgecolor='k',\n",
    "    s=50,\n",
    "    palette='Reds',\n",
    "    hue_order=['0', '1-2', '3-4', '5-7'],\n",
    "    ax=ax2\n",
    ")\n",
    "plt.show()"
   ]
  },
  {
   "cell_type": "code",
   "execution_count": 17,
   "metadata": {},
   "outputs": [],
   "source": [
    "processed_data.to_csv(\"transomic_covid_data_processed_rsd04.csv\")\n",
    "compound_names = processed_data.columns.tolist()\n",
    "df = pd.DataFrame({\"Compounds\": compound_names})\n",
    "df.to_csv(\"Compounds_to_metaboanalyse_rsd04.csv\", index=False)"
   ]
  },
  {
   "cell_type": "code",
   "execution_count": 18,
   "metadata": {},
   "outputs": [
    {
     "data": {
      "text/html": [
       "<div>\n",
       "<style scoped>\n",
       "    .dataframe tbody tr th:only-of-type {\n",
       "        vertical-align: middle;\n",
       "    }\n",
       "\n",
       "    .dataframe tbody tr th {\n",
       "        vertical-align: top;\n",
       "    }\n",
       "\n",
       "    .dataframe thead th {\n",
       "        text-align: right;\n",
       "    }\n",
       "</style>\n",
       "<table border=\"1\" class=\"dataframe\">\n",
       "  <thead>\n",
       "    <tr style=\"text-align: right;\">\n",
       "      <th></th>\n",
       "      <th>Query</th>\n",
       "      <th>Match</th>\n",
       "      <th>HMDB</th>\n",
       "      <th>PubChem</th>\n",
       "      <th>ChEBI</th>\n",
       "      <th>KEGG</th>\n",
       "      <th>METLIN</th>\n",
       "      <th>SMILES</th>\n",
       "      <th>Comment</th>\n",
       "    </tr>\n",
       "  </thead>\n",
       "  <tbody>\n",
       "    <tr>\n",
       "      <th>0</th>\n",
       "      <td>1-pyrroline</td>\n",
       "      <td>1-Pyrroline</td>\n",
       "      <td>HMDB0012497</td>\n",
       "      <td>79803.0</td>\n",
       "      <td>19092.0</td>\n",
       "      <td>C15668</td>\n",
       "      <td>NaN</td>\n",
       "      <td>C1CC=NC1</td>\n",
       "      <td>1</td>\n",
       "    </tr>\n",
       "    <tr>\n",
       "      <th>1</th>\n",
       "      <td>Acrylamide</td>\n",
       "      <td>Acrylamide</td>\n",
       "      <td>HMDB0004296</td>\n",
       "      <td>6579.0</td>\n",
       "      <td>28619.0</td>\n",
       "      <td>C01659</td>\n",
       "      <td>NaN</td>\n",
       "      <td>NC(=O)C=C</td>\n",
       "      <td>1</td>\n",
       "    </tr>\n",
       "    <tr>\n",
       "      <th>2</th>\n",
       "      <td>Aminoacetone$beta-Aminopropion aldehyde</td>\n",
       "      <td>NaN</td>\n",
       "      <td>NaN</td>\n",
       "      <td>NaN</td>\n",
       "      <td>NaN</td>\n",
       "      <td>NaN</td>\n",
       "      <td>NaN</td>\n",
       "      <td>NaN</td>\n",
       "      <td>0</td>\n",
       "    </tr>\n",
       "    <tr>\n",
       "      <th>3</th>\n",
       "      <td>L-Lysine</td>\n",
       "      <td>Lysine</td>\n",
       "      <td>HMDB0000182</td>\n",
       "      <td>5962.0</td>\n",
       "      <td>18019.0</td>\n",
       "      <td>C00047</td>\n",
       "      <td>5200.0</td>\n",
       "      <td>NCCCC[C@H](N)C(O)=O</td>\n",
       "      <td>1</td>\n",
       "    </tr>\n",
       "    <tr>\n",
       "      <th>4</th>\n",
       "      <td>(R)-Lactaldehyde</td>\n",
       "      <td>D-Lactaldehyde</td>\n",
       "      <td>HMDB0006458</td>\n",
       "      <td>439350.0</td>\n",
       "      <td>17167.0</td>\n",
       "      <td>C00937</td>\n",
       "      <td>NaN</td>\n",
       "      <td>C[C@@H](O)C=O</td>\n",
       "      <td>1</td>\n",
       "    </tr>\n",
       "  </tbody>\n",
       "</table>\n",
       "</div>"
      ],
      "text/plain": [
       "                                     Query           Match         HMDB  \\\n",
       "0                              1-pyrroline     1-Pyrroline  HMDB0012497   \n",
       "1                               Acrylamide      Acrylamide  HMDB0004296   \n",
       "2  Aminoacetone$beta-Aminopropion aldehyde             NaN          NaN   \n",
       "3                                 L-Lysine          Lysine  HMDB0000182   \n",
       "4                         (R)-Lactaldehyde  D-Lactaldehyde  HMDB0006458   \n",
       "\n",
       "    PubChem    ChEBI    KEGG  METLIN               SMILES  Comment  \n",
       "0   79803.0  19092.0  C15668     NaN             C1CC=NC1        1  \n",
       "1    6579.0  28619.0  C01659     NaN            NC(=O)C=C        1  \n",
       "2       NaN      NaN     NaN     NaN                  NaN        0  \n",
       "3    5962.0  18019.0  C00047  5200.0  NCCCC[C@H](N)C(O)=O        1  \n",
       "4  439350.0  17167.0  C00937     NaN        C[C@@H](O)C=O        1  "
      ]
     },
     "execution_count": 18,
     "metadata": {},
     "output_type": "execute_result"
    }
   ],
   "source": [
    "conversion_table = pd.read_csv('/Users/pranathipoojary/Projects/mummichog_proj/untargeted_pa/mummichog/pathway_analysis/name_map_rsd_04.csv')\n",
    "conversion_table[\"Comment\"].value_counts()\n",
    "conversion_table.head()"
   ]
  },
  {
   "cell_type": "code",
   "execution_count": 19,
   "metadata": {},
   "outputs": [],
   "source": [
    "processed_data_mapped = sspa.map_identifiers(conversion_table, output_id_type=\"ChEBI\", matrix=processed_data)\n",
    "# processed_data_mapped.head()"
   ]
  },
  {
   "cell_type": "code",
   "execution_count": 20,
   "metadata": {},
   "outputs": [],
   "source": [
    "reactome_pathways  = sspa.process_reactome(organism=\"Homo sapiens\")"
   ]
  },
  {
   "cell_type": "code",
   "execution_count": 21,
   "metadata": {},
   "outputs": [],
   "source": [
    "kegg_human_pathways  = sspa.process_kegg(organism=\"hsa\")"
   ]
  },
  {
   "cell_type": "code",
   "execution_count": 22,
   "metadata": {},
   "outputs": [
    {
     "data": {
      "text/html": [
       "<div>\n",
       "<style scoped>\n",
       "    .dataframe tbody tr th:only-of-type {\n",
       "        vertical-align: middle;\n",
       "    }\n",
       "\n",
       "    .dataframe tbody tr th {\n",
       "        vertical-align: top;\n",
       "    }\n",
       "\n",
       "    .dataframe thead th {\n",
       "        text-align: right;\n",
       "    }\n",
       "</style>\n",
       "<table border=\"1\" class=\"dataframe\">\n",
       "  <thead>\n",
       "    <tr style=\"text-align: right;\">\n",
       "      <th></th>\n",
       "      <th>Pathway_name</th>\n",
       "      <th>0</th>\n",
       "      <th>1</th>\n",
       "      <th>2</th>\n",
       "      <th>3</th>\n",
       "      <th>4</th>\n",
       "      <th>5</th>\n",
       "      <th>6</th>\n",
       "      <th>7</th>\n",
       "      <th>8</th>\n",
       "      <th>...</th>\n",
       "      <th>1468</th>\n",
       "      <th>1469</th>\n",
       "      <th>1470</th>\n",
       "      <th>1471</th>\n",
       "      <th>1472</th>\n",
       "      <th>1473</th>\n",
       "      <th>1474</th>\n",
       "      <th>1475</th>\n",
       "      <th>1476</th>\n",
       "      <th>1477</th>\n",
       "    </tr>\n",
       "  </thead>\n",
       "  <tbody>\n",
       "    <tr>\n",
       "      <th>R-HSA-1059683</th>\n",
       "      <td>Interleukin-6 signaling</td>\n",
       "      <td>30616</td>\n",
       "      <td>456216</td>\n",
       "      <td>None</td>\n",
       "      <td>None</td>\n",
       "      <td>None</td>\n",
       "      <td>None</td>\n",
       "      <td>None</td>\n",
       "      <td>None</td>\n",
       "      <td>None</td>\n",
       "      <td>...</td>\n",
       "      <td>None</td>\n",
       "      <td>None</td>\n",
       "      <td>None</td>\n",
       "      <td>None</td>\n",
       "      <td>None</td>\n",
       "      <td>None</td>\n",
       "      <td>None</td>\n",
       "      <td>None</td>\n",
       "      <td>None</td>\n",
       "      <td>None</td>\n",
       "    </tr>\n",
       "    <tr>\n",
       "      <th>R-HSA-109581</th>\n",
       "      <td>Apoptosis</td>\n",
       "      <td>61120</td>\n",
       "      <td>4705</td>\n",
       "      <td>456216</td>\n",
       "      <td>28494</td>\n",
       "      <td>36080</td>\n",
       "      <td>15377</td>\n",
       "      <td>43474</td>\n",
       "      <td>30616</td>\n",
       "      <td>16412</td>\n",
       "      <td>...</td>\n",
       "      <td>None</td>\n",
       "      <td>None</td>\n",
       "      <td>None</td>\n",
       "      <td>None</td>\n",
       "      <td>None</td>\n",
       "      <td>None</td>\n",
       "      <td>None</td>\n",
       "      <td>None</td>\n",
       "      <td>None</td>\n",
       "      <td>None</td>\n",
       "    </tr>\n",
       "    <tr>\n",
       "      <th>R-HSA-109582</th>\n",
       "      <td>Hemostasis</td>\n",
       "      <td>15366</td>\n",
       "      <td>91144</td>\n",
       "      <td>15377</td>\n",
       "      <td>15378</td>\n",
       "      <td>15379</td>\n",
       "      <td>456215</td>\n",
       "      <td>456216</td>\n",
       "      <td>35366</td>\n",
       "      <td>37941</td>\n",
       "      <td>...</td>\n",
       "      <td>None</td>\n",
       "      <td>None</td>\n",
       "      <td>None</td>\n",
       "      <td>None</td>\n",
       "      <td>None</td>\n",
       "      <td>None</td>\n",
       "      <td>None</td>\n",
       "      <td>None</td>\n",
       "      <td>None</td>\n",
       "      <td>None</td>\n",
       "    </tr>\n",
       "    <tr>\n",
       "      <th>R-HSA-109606</th>\n",
       "      <td>Intrinsic Pathway for Apoptosis</td>\n",
       "      <td>456216</td>\n",
       "      <td>28494</td>\n",
       "      <td>36080</td>\n",
       "      <td>15377</td>\n",
       "      <td>43474</td>\n",
       "      <td>30616</td>\n",
       "      <td>None</td>\n",
       "      <td>None</td>\n",
       "      <td>None</td>\n",
       "      <td>...</td>\n",
       "      <td>None</td>\n",
       "      <td>None</td>\n",
       "      <td>None</td>\n",
       "      <td>None</td>\n",
       "      <td>None</td>\n",
       "      <td>None</td>\n",
       "      <td>None</td>\n",
       "      <td>None</td>\n",
       "      <td>None</td>\n",
       "      <td>None</td>\n",
       "    </tr>\n",
       "    <tr>\n",
       "      <th>R-HSA-109703</th>\n",
       "      <td>PKB-mediated events</td>\n",
       "      <td>456216</td>\n",
       "      <td>16618</td>\n",
       "      <td>17489</td>\n",
       "      <td>15377</td>\n",
       "      <td>456215</td>\n",
       "      <td>30616</td>\n",
       "      <td>None</td>\n",
       "      <td>None</td>\n",
       "      <td>None</td>\n",
       "      <td>...</td>\n",
       "      <td>None</td>\n",
       "      <td>None</td>\n",
       "      <td>None</td>\n",
       "      <td>None</td>\n",
       "      <td>None</td>\n",
       "      <td>None</td>\n",
       "      <td>None</td>\n",
       "      <td>None</td>\n",
       "      <td>None</td>\n",
       "      <td>None</td>\n",
       "    </tr>\n",
       "  </tbody>\n",
       "</table>\n",
       "<p>5 rows × 1479 columns</p>\n",
       "</div>"
      ],
      "text/plain": [
       "                                  Pathway_name       0       1       2      3  \\\n",
       "R-HSA-1059683          Interleukin-6 signaling   30616  456216    None   None   \n",
       "R-HSA-109581                         Apoptosis   61120    4705  456216  28494   \n",
       "R-HSA-109582                        Hemostasis   15366   91144   15377  15378   \n",
       "R-HSA-109606   Intrinsic Pathway for Apoptosis  456216   28494   36080  15377   \n",
       "R-HSA-109703               PKB-mediated events  456216   16618   17489  15377   \n",
       "\n",
       "                    4       5       6      7      8  ...  1468  1469  1470  \\\n",
       "R-HSA-1059683    None    None    None   None   None  ...  None  None  None   \n",
       "R-HSA-109581    36080   15377   43474  30616  16412  ...  None  None  None   \n",
       "R-HSA-109582    15379  456215  456216  35366  37941  ...  None  None  None   \n",
       "R-HSA-109606    43474   30616    None   None   None  ...  None  None  None   \n",
       "R-HSA-109703   456215   30616    None   None   None  ...  None  None  None   \n",
       "\n",
       "               1471  1472  1473  1474  1475  1476  1477  \n",
       "R-HSA-1059683  None  None  None  None  None  None  None  \n",
       "R-HSA-109581   None  None  None  None  None  None  None  \n",
       "R-HSA-109582   None  None  None  None  None  None  None  \n",
       "R-HSA-109606   None  None  None  None  None  None  None  \n",
       "R-HSA-109703   None  None  None  None  None  None  None  \n",
       "\n",
       "[5 rows x 1479 columns]"
      ]
     },
     "execution_count": 22,
     "metadata": {},
     "output_type": "execute_result"
    }
   ],
   "source": [
    "reactome_pathways.head()"
   ]
  },
  {
   "cell_type": "code",
   "execution_count": 23,
   "metadata": {},
   "outputs": [
    {
     "data": {
      "text/html": [
       "<div>\n",
       "<style scoped>\n",
       "    .dataframe tbody tr th:only-of-type {\n",
       "        vertical-align: middle;\n",
       "    }\n",
       "\n",
       "    .dataframe tbody tr th {\n",
       "        vertical-align: top;\n",
       "    }\n",
       "\n",
       "    .dataframe thead th {\n",
       "        text-align: right;\n",
       "    }\n",
       "</style>\n",
       "<table border=\"1\" class=\"dataframe\">\n",
       "  <thead>\n",
       "    <tr style=\"text-align: right;\">\n",
       "      <th></th>\n",
       "      <th>Pathway_name</th>\n",
       "      <th>0</th>\n",
       "      <th>1</th>\n",
       "      <th>2</th>\n",
       "      <th>3</th>\n",
       "      <th>4</th>\n",
       "      <th>5</th>\n",
       "      <th>6</th>\n",
       "      <th>7</th>\n",
       "      <th>8</th>\n",
       "      <th>...</th>\n",
       "      <th>316</th>\n",
       "      <th>317</th>\n",
       "      <th>318</th>\n",
       "      <th>319</th>\n",
       "      <th>320</th>\n",
       "      <th>321</th>\n",
       "      <th>322</th>\n",
       "      <th>323</th>\n",
       "      <th>324</th>\n",
       "      <th>325</th>\n",
       "    </tr>\n",
       "  </thead>\n",
       "  <tbody>\n",
       "    <tr>\n",
       "      <th>hsa00010</th>\n",
       "      <td>Glycolysis / Gluconeogenesis - Homo sapiens (h...</td>\n",
       "      <td>C00221</td>\n",
       "      <td>C15972</td>\n",
       "      <td>C01159</td>\n",
       "      <td>C00267</td>\n",
       "      <td>C06188</td>\n",
       "      <td>C06187</td>\n",
       "      <td>C00022</td>\n",
       "      <td>C01451</td>\n",
       "      <td>C00118</td>\n",
       "      <td>...</td>\n",
       "      <td>None</td>\n",
       "      <td>None</td>\n",
       "      <td>None</td>\n",
       "      <td>None</td>\n",
       "      <td>None</td>\n",
       "      <td>None</td>\n",
       "      <td>None</td>\n",
       "      <td>None</td>\n",
       "      <td>None</td>\n",
       "      <td>None</td>\n",
       "    </tr>\n",
       "    <tr>\n",
       "      <th>hsa00020</th>\n",
       "      <td>Citrate cycle (TCA cycle) - Homo sapiens (human)</td>\n",
       "      <td>C15972</td>\n",
       "      <td>C00026</td>\n",
       "      <td>C00022</td>\n",
       "      <td>C05125</td>\n",
       "      <td>C00024</td>\n",
       "      <td>C16255</td>\n",
       "      <td>C00122</td>\n",
       "      <td>C00417</td>\n",
       "      <td>C00158</td>\n",
       "      <td>...</td>\n",
       "      <td>None</td>\n",
       "      <td>None</td>\n",
       "      <td>None</td>\n",
       "      <td>None</td>\n",
       "      <td>None</td>\n",
       "      <td>None</td>\n",
       "      <td>None</td>\n",
       "      <td>None</td>\n",
       "      <td>None</td>\n",
       "      <td>None</td>\n",
       "    </tr>\n",
       "    <tr>\n",
       "      <th>hsa00030</th>\n",
       "      <td>Pentose phosphate pathway - Homo sapiens (human)</td>\n",
       "      <td>C03752</td>\n",
       "      <td>C00221</td>\n",
       "      <td>C01801</td>\n",
       "      <td>C00257</td>\n",
       "      <td>C00258</td>\n",
       "      <td>C20589</td>\n",
       "      <td>C00121</td>\n",
       "      <td>C00620</td>\n",
       "      <td>C00022</td>\n",
       "      <td>...</td>\n",
       "      <td>None</td>\n",
       "      <td>None</td>\n",
       "      <td>None</td>\n",
       "      <td>None</td>\n",
       "      <td>None</td>\n",
       "      <td>None</td>\n",
       "      <td>None</td>\n",
       "      <td>None</td>\n",
       "      <td>None</td>\n",
       "      <td>None</td>\n",
       "    </tr>\n",
       "    <tr>\n",
       "      <th>hsa00040</th>\n",
       "      <td>Pentose and glucuronate interconversions - Hom...</td>\n",
       "      <td>C20680</td>\n",
       "      <td>C06441</td>\n",
       "      <td>C00508</td>\n",
       "      <td>C04575</td>\n",
       "      <td>C00474</td>\n",
       "      <td>C00714</td>\n",
       "      <td>C00532</td>\n",
       "      <td>C05411</td>\n",
       "      <td>C00026</td>\n",
       "      <td>...</td>\n",
       "      <td>None</td>\n",
       "      <td>None</td>\n",
       "      <td>None</td>\n",
       "      <td>None</td>\n",
       "      <td>None</td>\n",
       "      <td>None</td>\n",
       "      <td>None</td>\n",
       "      <td>None</td>\n",
       "      <td>None</td>\n",
       "      <td>None</td>\n",
       "    </tr>\n",
       "    <tr>\n",
       "      <th>hsa00051</th>\n",
       "      <td>Fructose and mannose metabolism - Homo sapiens...</td>\n",
       "      <td>C01721</td>\n",
       "      <td>C00424</td>\n",
       "      <td>C00976</td>\n",
       "      <td>C00096</td>\n",
       "      <td>C00267</td>\n",
       "      <td>C00159</td>\n",
       "      <td>C01099</td>\n",
       "      <td>C11544</td>\n",
       "      <td>C01934</td>\n",
       "      <td>...</td>\n",
       "      <td>None</td>\n",
       "      <td>None</td>\n",
       "      <td>None</td>\n",
       "      <td>None</td>\n",
       "      <td>None</td>\n",
       "      <td>None</td>\n",
       "      <td>None</td>\n",
       "      <td>None</td>\n",
       "      <td>None</td>\n",
       "      <td>None</td>\n",
       "    </tr>\n",
       "  </tbody>\n",
       "</table>\n",
       "<p>5 rows × 327 columns</p>\n",
       "</div>"
      ],
      "text/plain": [
       "                                               Pathway_name       0       1  \\\n",
       "hsa00010  Glycolysis / Gluconeogenesis - Homo sapiens (h...  C00221  C15972   \n",
       "hsa00020   Citrate cycle (TCA cycle) - Homo sapiens (human)  C15972  C00026   \n",
       "hsa00030   Pentose phosphate pathway - Homo sapiens (human)  C03752  C00221   \n",
       "hsa00040  Pentose and glucuronate interconversions - Hom...  C20680  C06441   \n",
       "hsa00051  Fructose and mannose metabolism - Homo sapiens...  C01721  C00424   \n",
       "\n",
       "               2       3       4       5       6       7       8  ...   316  \\\n",
       "hsa00010  C01159  C00267  C06188  C06187  C00022  C01451  C00118  ...  None   \n",
       "hsa00020  C00022  C05125  C00024  C16255  C00122  C00417  C00158  ...  None   \n",
       "hsa00030  C01801  C00257  C00258  C20589  C00121  C00620  C00022  ...  None   \n",
       "hsa00040  C00508  C04575  C00474  C00714  C00532  C05411  C00026  ...  None   \n",
       "hsa00051  C00976  C00096  C00267  C00159  C01099  C11544  C01934  ...  None   \n",
       "\n",
       "           317   318   319   320   321   322   323   324   325  \n",
       "hsa00010  None  None  None  None  None  None  None  None  None  \n",
       "hsa00020  None  None  None  None  None  None  None  None  None  \n",
       "hsa00030  None  None  None  None  None  None  None  None  None  \n",
       "hsa00040  None  None  None  None  None  None  None  None  None  \n",
       "hsa00051  None  None  None  None  None  None  None  None  None  \n",
       "\n",
       "[5 rows x 327 columns]"
      ]
     },
     "execution_count": 23,
     "metadata": {},
     "output_type": "execute_result"
    }
   ],
   "source": [
    "kegg_human_pathways.head()"
   ]
  },
  {
   "cell_type": "code",
   "execution_count": 24,
   "metadata": {},
   "outputs": [
    {
     "name": "stdout",
     "output_type": "stream",
     "text": [
      "291 compounds in the dataset\n"
     ]
    }
   ],
   "source": [
    "## if using Reactome database as the pathway database\n",
    "# count all compounds in the dataset\n",
    "print(len(compound_names), \"compounds in the dataset\")\n",
    "\n",
    "# find how many input compound names in the dataset had a matching ChEBI ID\n",
    "# chebi_matches = conversion_table[(conversion_table[\"Comment\"] == 1) & (conversion_table[\"ChEBI\"].isnull()==False)][\"ChEBI\"]\n",
    "# print(len(chebi_matches), \"compounds from the dataset that have ChEBI IDs\")\n",
    "\n",
    "# # count all unique compounds in the Reactome database\n",
    "# all_reactome_cpds = set(sum(sspa.utils.pathwaydf_to_dict(reactome_pathways).values(), []))\n",
    "# print(all_reactome_cpds)\n",
    "# print(len(all_reactome_cpds), \"total unique compounds in Reactome\")\n",
    "\n",
    "# # find the intesect between all reactome compounds and all ChEBI IDs annotated to the dataset\n",
    "# mapped_annotated_cpds = set(processed_data_mapped.columns) & all_reactome_cpds\n",
    "# print(len(mapped_annotated_cpds), \"compounds present in both the dataset and Reactome pathways\")"
   ]
  },
  {
   "cell_type": "code",
   "execution_count": 25,
   "metadata": {},
   "outputs": [
    {
     "name": "stdout",
     "output_type": "stream",
     "text": [
      "291 compounds in the dataset\n",
      "103 compounds from the dataset that have KEGG IDs\n",
      "3398\n",
      "78 compounds present in both the dataset and kegg pathways\n"
     ]
    }
   ],
   "source": [
    "print(len(compound_names), \"compounds in the dataset\")\n",
    "kegg_matches = conversion_table[(conversion_table[\"Comment\"] == 1) & (conversion_table[\"KEGG\"].isnull()==False)][\"KEGG\"]\n",
    "print(len(kegg_matches), \"compounds from the dataset that have KEGG IDs\")\n",
    "\n",
    "kegg_human_pathways  = sspa.process_kegg(organism=\"hsa\")\n",
    "processed_data_mapped = sspa.map_identifiers(conversion_table, output_id_type=\"KEGG\", matrix=processed_data)\n",
    "all_kegg_cpds = set(sum(sspa.utils.pathwaydf_to_dict(kegg_human_pathways).values(), []))\n",
    "print(len(all_kegg_cpds))\n",
    "mapped_annotated_cpds = set(processed_data_mapped.columns) & all_kegg_cpds\n",
    "print(len(mapped_annotated_cpds), \"compounds present in both the dataset and kegg pathways\")"
   ]
  },
  {
   "cell_type": "code",
   "execution_count": 26,
   "metadata": {},
   "outputs": [
    {
     "data": {
      "image/png": "[encoded data removed]",
      "text/plain": [
       "<Figure size 640x480 with 1 Axes>"
      ]
     },
     "metadata": {},
     "output_type": "display_data"
    }
   ],
   "source": [
    "sns.set_context('notebook')\n",
    "sns.set_style('ticks')\n",
    "sns.barplot(\n",
    "    y=[len(compound_names), len(kegg_matches), len(mapped_annotated_cpds)],\n",
    "    x=['Original', 'Mapping to KEGG ID', 'Mapping to KEGG ID \\n and annotated to KEGG']\n",
    "    )\n",
    "plt.tight_layout()\n",
    "plt.show()"
   ]
  },
  {
   "cell_type": "code",
   "execution_count": 27,
   "metadata": {},
   "outputs": [
    {
     "data": {
      "application/vnd.plotly.v1+json": {
       "config": {
        "plotlyServerURL": "https://plot.ly"
       },
       "data": [
        {
         "hovertemplate": "count=%{x}<br>label=%{y}<extra></extra>",
         "legendgroup": "",
         "marker": {
          "color": "#636efa"
         },
         "name": "",
         "orientation": "h",
         "showlegend": false,
         "type": "funnel",
         "x": [
          291,
          103,
          78
         ],
         "xaxis": "x",
         "y": [
          "Original",
          "Mapping to KEGG ID",
          "Annotated to KEGG pathways"
         ],
         "yaxis": "y"
        }
       ],
       "layout": {
        "legend": {
         "tracegroupgap": 0
        },
        "margin": {
         "t": 60
        },
        "template": {
         "data": {
          "bar": [
           {
            "error_x": {
             "color": "#2a3f5f"
            },
            "error_y": {
             "color": "#2a3f5f"
            },
            "marker": {
             "line": {
              "color": "#E5ECF6",
              "width": 0.5
             },
             "pattern": {
              "fillmode": "overlay",
              "size": 10,
              "solidity": 0.2
             }
            },
            "type": "bar"
           }
          ],
          "barpolar": [
           {
            "marker": {
             "line": {
              "color": "#E5ECF6",
              "width": 0.5
             },
             "pattern": {
              "fillmode": "overlay",
              "size": 10,
              "solidity": 0.2
             }
            },
            "type": "barpolar"
           }
          ],
          "carpet": [
           {
            "aaxis": {
             "endlinecolor": "#2a3f5f",
             "gridcolor": "white",
             "linecolor": "white",
             "minorgridcolor": "white",
             "startlinecolor": "#2a3f5f"
            },
            "baxis": {
             "endlinecolor": "#2a3f5f",
             "gridcolor": "white",
             "linecolor": "white",
             "minorgridcolor": "white",
             "startlinecolor": "#2a3f5f"
            },
            "type": "carpet"
           }
          ],
          "choropleth": [
           {
            "colorbar": {
             "outlinewidth": 0,
             "ticks": ""
            },
            "type": "choropleth"
           }
          ],
          "contour": [
           {
            "colorbar": {
             "outlinewidth": 0,
             "ticks": ""
            },
            "colorscale": [
             [
              0,
              "#0d0887"
             ],
             [
              0.1111111111111111,
              "#46039f"
             ],
             [
              0.2222222222222222,
              "#7201a8"
             ],
             [
              0.3333333333333333,
              "#9c179e"
             ],
             [
              0.4444444444444444,
              "#bd3786"
             ],
             [
              0.5555555555555556,
              "#d8576b"
             ],
             [
              0.6666666666666666,
              "#ed7953"
             ],
             [
              0.7777777777777778,
              "#fb9f3a"
             ],
             [
              0.8888888888888888,
              "#fdca26"
             ],
             [
              1,
              "#f0f921"
             ]
            ],
            "type": "contour"
           }
          ],
          "contourcarpet": [
           {
            "colorbar": {
             "outlinewidth": 0,
             "ticks": ""
            },
            "type": "contourcarpet"
           }
          ],
          "heatmap": [
           {
            "colorbar": {
             "outlinewidth": 0,
             "ticks": ""
            },
            "colorscale": [
             [
              0,
              "#0d0887"
             ],
             [
              0.1111111111111111,
              "#46039f"
             ],
             [
              0.2222222222222222,
              "#7201a8"
             ],
             [
              0.3333333333333333,
              "#9c179e"
             ],
             [
              0.4444444444444444,
              "#bd3786"
             ],
             [
              0.5555555555555556,
              "#d8576b"
             ],
             [
              0.6666666666666666,
              "#ed7953"
             ],
             [
              0.7777777777777778,
              "#fb9f3a"
             ],
             [
              0.8888888888888888,
              "#fdca26"
             ],
             [
              1,
              "#f0f921"
             ]
            ],
            "type": "heatmap"
           }
          ],
          "heatmapgl": [
           {
            "colorbar": {
             "outlinewidth": 0,
             "ticks": ""
            },
            "colorscale": [
             [
              0,
              "#0d0887"
             ],
             [
              0.1111111111111111,
              "#46039f"
             ],
             [
              0.2222222222222222,
              "#7201a8"
             ],
             [
              0.3333333333333333,
              "#9c179e"
             ],
             [
              0.4444444444444444,
              "#bd3786"
             ],
             [
              0.5555555555555556,
              "#d8576b"
             ],
             [
              0.6666666666666666,
              "#ed7953"
             ],
             [
              0.7777777777777778,
              "#fb9f3a"
             ],
             [
              0.8888888888888888,
              "#fdca26"
             ],
             [
              1,
              "#f0f921"
             ]
            ],
            "type": "heatmapgl"
           }
          ],
          "histogram": [
           {
            "marker": {
             "pattern": {
              "fillmode": "overlay",
              "size": 10,
              "solidity": 0.2
             }
            },
            "type": "histogram"
           }
          ],
          "histogram2d": [
           {
            "colorbar": {
             "outlinewidth": 0,
             "ticks": ""
            },
            "colorscale": [
             [
              0,
              "#0d0887"
             ],
             [
              0.1111111111111111,
              "#46039f"
             ],
             [
              0.2222222222222222,
              "#7201a8"
             ],
             [
              0.3333333333333333,
              "#9c179e"
             ],
             [
              0.4444444444444444,
              "#bd3786"
             ],
             [
              0.5555555555555556,
              "#d8576b"
             ],
             [
              0.6666666666666666,
              "#ed7953"
             ],
             [
              0.7777777777777778,
              "#fb9f3a"
             ],
             [
              0.8888888888888888,
              "#fdca26"
             ],
             [
              1,
              "#f0f921"
             ]
            ],
            "type": "histogram2d"
           }
          ],
          "histogram2dcontour": [
           {
            "colorbar": {
             "outlinewidth": 0,
             "ticks": ""
            },
            "colorscale": [
             [
              0,
              "#0d0887"
             ],
             [
              0.1111111111111111,
              "#46039f"
             ],
             [
              0.2222222222222222,
              "#7201a8"
             ],
             [
              0.3333333333333333,
              "#9c179e"
             ],
             [
              0.4444444444444444,
              "#bd3786"
             ],
             [
              0.5555555555555556,
              "#d8576b"
             ],
             [
              0.6666666666666666,
              "#ed7953"
             ],
             [
              0.7777777777777778,
              "#fb9f3a"
             ],
             [
              0.8888888888888888,
              "#fdca26"
             ],
             [
              1,
              "#f0f921"
             ]
            ],
            "type": "histogram2dcontour"
           }
          ],
          "mesh3d": [
           {
            "colorbar": {
             "outlinewidth": 0,
             "ticks": ""
            },
            "type": "mesh3d"
           }
          ],
          "parcoords": [
           {
            "line": {
             "colorbar": {
              "outlinewidth": 0,
              "ticks": ""
             }
            },
            "type": "parcoords"
           }
          ],
          "pie": [
           {
            "automargin": true,
            "type": "pie"
           }
          ],
          "scatter": [
           {
            "fillpattern": {
             "fillmode": "overlay",
             "size": 10,
             "solidity": 0.2
            },
            "type": "scatter"
           }
          ],
          "scatter3d": [
           {
            "line": {
             "colorbar": {
              "outlinewidth": 0,
              "ticks": ""
             }
            },
            "marker": {
             "colorbar": {
              "outlinewidth": 0,
              "ticks": ""
             }
            },
            "type": "scatter3d"
           }
          ],
          "scattercarpet": [
           {
            "marker": {
             "colorbar": {
              "outlinewidth": 0,
              "ticks": ""
             }
            },
            "type": "scattercarpet"
           }
          ],
          "scattergeo": [
           {
            "marker": {
             "colorbar": {
              "outlinewidth": 0,
              "ticks": ""
             }
            },
            "type": "scattergeo"
           }
          ],
          "scattergl": [
           {
            "marker": {
             "colorbar": {
              "outlinewidth": 0,
              "ticks": ""
             }
            },
            "type": "scattergl"
           }
          ],
          "scattermapbox": [
           {
            "marker": {
             "colorbar": {
              "outlinewidth": 0,
              "ticks": ""
             }
            },
            "type": "scattermapbox"
           }
          ],
          "scatterpolar": [
           {
            "marker": {
             "colorbar": {
              "outlinewidth": 0,
              "ticks": ""
             }
            },
            "type": "scatterpolar"
           }
          ],
          "scatterpolargl": [
           {
            "marker": {
             "colorbar": {
              "outlinewidth": 0,
              "ticks": ""
             }
            },
            "type": "scatterpolargl"
           }
          ],
          "scatterternary": [
           {
            "marker": {
             "colorbar": {
              "outlinewidth": 0,
              "ticks": ""
             }
            },
            "type": "scatterternary"
           }
          ],
          "surface": [
           {
            "colorbar": {
             "outlinewidth": 0,
             "ticks": ""
            },
            "colorscale": [
             [
              0,
              "#0d0887"
             ],
             [
              0.1111111111111111,
              "#46039f"
             ],
             [
              0.2222222222222222,
              "#7201a8"
             ],
             [
              0.3333333333333333,
              "#9c179e"
             ],
             [
              0.4444444444444444,
              "#bd3786"
             ],
             [
              0.5555555555555556,
              "#d8576b"
             ],
             [
              0.6666666666666666,
              "#ed7953"
             ],
             [
              0.7777777777777778,
              "#fb9f3a"
             ],
             [
              0.8888888888888888,
              "#fdca26"
             ],
             [
              1,
              "#f0f921"
             ]
            ],
            "type": "surface"
           }
          ],
          "table": [
           {
            "cells": {
             "fill": {
              "color": "#EBF0F8"
             },
             "line": {
              "color": "white"
             }
            },
            "header": {
             "fill": {
              "color": "#C8D4E3"
             },
             "line": {
              "color": "white"
             }
            },
            "type": "table"
           }
          ]
         },
         "layout": {
          "annotationdefaults": {
           "arrowcolor": "#2a3f5f",
           "arrowhead": 0,
           "arrowwidth": 1
          },
          "autotypenumbers": "strict",
          "coloraxis": {
           "colorbar": {
            "outlinewidth": 0,
            "ticks": ""
           }
          },
          "colorscale": {
           "diverging": [
            [
             0,
             "#8e0152"
            ],
            [
             0.1,
             "#c51b7d"
            ],
            [
             0.2,
             "#de77ae"
            ],
            [
             0.3,
             "#f1b6da"
            ],
            [
             0.4,
             "#fde0ef"
            ],
            [
             0.5,
             "#f7f7f7"
            ],
            [
             0.6,
             "#e6f5d0"
            ],
            [
             0.7,
             "#b8e186"
            ],
            [
             0.8,
             "#7fbc41"
            ],
            [
             0.9,
             "#4d9221"
            ],
            [
             1,
             "#276419"
            ]
           ],
           "sequential": [
            [
             0,
             "#0d0887"
            ],
            [
             0.1111111111111111,
             "#46039f"
            ],
            [
             0.2222222222222222,
             "#7201a8"
            ],
            [
             0.3333333333333333,
             "#9c179e"
            ],
            [
             0.4444444444444444,
             "#bd3786"
            ],
            [
             0.5555555555555556,
             "#d8576b"
            ],
            [
             0.6666666666666666,
             "#ed7953"
            ],
            [
             0.7777777777777778,
             "#fb9f3a"
            ],
            [
             0.8888888888888888,
             "#fdca26"
            ],
            [
             1,
             "#f0f921"
            ]
           ],
           "sequentialminus": [
            [
             0,
             "#0d0887"
            ],
            [
             0.1111111111111111,
             "#46039f"
            ],
            [
             0.2222222222222222,
             "#7201a8"
            ],
            [
             0.3333333333333333,
             "#9c179e"
            ],
            [
             0.4444444444444444,
             "#bd3786"
            ],
            [
             0.5555555555555556,
             "#d8576b"
            ],
            [
             0.6666666666666666,
             "#ed7953"
            ],
            [
             0.7777777777777778,
             "#fb9f3a"
            ],
            [
             0.8888888888888888,
             "#fdca26"
            ],
            [
             1,
             "#f0f921"
            ]
           ]
          },
          "colorway": [
           "#636efa",
           "#EF553B",
           "#00cc96",
           "#ab63fa",
           "#FFA15A",
           "#19d3f3",
           "#FF6692",
           "#B6E880",
           "#FF97FF",
           "#FECB52"
          ],
          "font": {
           "color": "#2a3f5f"
          },
          "geo": {
           "bgcolor": "white",
           "lakecolor": "white",
           "landcolor": "#E5ECF6",
           "showlakes": true,
           "showland": true,
           "subunitcolor": "white"
          },
          "hoverlabel": {
           "align": "left"
          },
          "hovermode": "closest",
          "mapbox": {
           "style": "light"
          },
          "paper_bgcolor": "white",
          "plot_bgcolor": "#E5ECF6",
          "polar": {
           "angularaxis": {
            "gridcolor": "white",
            "linecolor": "white",
            "ticks": ""
           },
           "bgcolor": "#E5ECF6",
           "radialaxis": {
            "gridcolor": "white",
            "linecolor": "white",
            "ticks": ""
           }
          },
          "scene": {
           "xaxis": {
            "backgroundcolor": "#E5ECF6",
            "gridcolor": "white",
            "gridwidth": 2,
            "linecolor": "white",
            "showbackground": true,
            "ticks": "",
            "zerolinecolor": "white"
           },
           "yaxis": {
            "backgroundcolor": "#E5ECF6",
            "gridcolor": "white",
            "gridwidth": 2,
            "linecolor": "white",
            "showbackground": true,
            "ticks": "",
            "zerolinecolor": "white"
           },
           "zaxis": {
            "backgroundcolor": "#E5ECF6",
            "gridcolor": "white",
            "gridwidth": 2,
            "linecolor": "white",
            "showbackground": true,
            "ticks": "",
            "zerolinecolor": "white"
           }
          },
          "shapedefaults": {
           "line": {
            "color": "#2a3f5f"
           }
          },
          "ternary": {
           "aaxis": {
            "gridcolor": "white",
            "linecolor": "white",
            "ticks": ""
           },
           "baxis": {
            "gridcolor": "white",
            "linecolor": "white",
            "ticks": ""
           },
           "bgcolor": "#E5ECF6",
           "caxis": {
            "gridcolor": "white",
            "linecolor": "white",
            "ticks": ""
           }
          },
          "title": {
           "x": 0.05
          },
          "xaxis": {
           "automargin": true,
           "gridcolor": "white",
           "linecolor": "white",
           "ticks": "",
           "title": {
            "standoff": 15
           },
           "zerolinecolor": "white",
           "zerolinewidth": 2
          },
          "yaxis": {
           "automargin": true,
           "gridcolor": "white",
           "linecolor": "white",
           "ticks": "",
           "title": {
            "standoff": 15
           },
           "zerolinecolor": "white",
           "zerolinewidth": 2
          }
         }
        },
        "xaxis": {
         "anchor": "y",
         "domain": [
          0,
          1
         ],
         "title": {
          "text": "count"
         }
        },
        "yaxis": {
         "anchor": "x",
         "domain": [
          0,
          1
         ],
         "title": {
          "text": "label"
         }
        }
       }
      }
     },
     "metadata": {},
     "output_type": "display_data"
    }
   ],
   "source": [
    "data = dict(count=[len(compound_names), len(kegg_matches), len(mapped_annotated_cpds)],\n",
    "            label=['Original', 'Mapping to KEGG ID', 'Annotated to KEGG pathways'])\n",
    "\n",
    "fig = px.funnel(data, x='count', y='label')\n",
    "fig.show(renderer=\"vscode\")"
   ]
  },
  {
   "cell_type": "code",
   "execution_count": null,
   "metadata": {},
   "outputs": [],
   "source": [
    "# import plotly.io as pio\n",
    "# pio.renderers.default = \"notebook\"\n",
    "\n",
    "# df = pd.DataFrame(compound_names, columns=['Original_ID'])\n",
    "# df[\"Matched_ID\"] = df['Original_ID'].map(dict(zip(conversion_table[\"Query\"], conversion_table[\"ChEBI\"])))\n",
    "# df[\"In_pathway\"] = [i if i in mapped_annotated_cpds else \"NA\" for i in df[\"Matched_ID\"] ]\n",
    "# df = df.replace({\"NA\":0})\n",
    "# df[df != 0] = 1\n",
    "# df = df.astype(\"float\")\n",
    "# df.index = compound_names\n",
    "\n",
    "# fig = px.bar(df)\n",
    "# fig.show(renderer=\"vscode\")"
   ]
  },
  {
   "cell_type": "code",
   "execution_count": 28,
   "metadata": {},
   "outputs": [
    {
     "name": "stdout",
     "output_type": "stream",
     "text": [
      "81\n"
     ]
    }
   ],
   "source": [
    "# convert the pathway dataframe to dictionary - for faster calculations\n",
    "# replace reactome_pathways with the variable containing the pathway dataframe being used\n",
    "# pathways_dict = sspa.utils.pathwaydf_to_dict(reactome_pathways)\n",
    "pathways_dict = sspa.utils.pathwaydf_to_dict(kegg_human_pathways)\n",
    "\n",
    "# How many pathways contain at least two mapped compounds?\n",
    "pathways_present = {k: v for k, v in pathways_dict.items() if len([i for i in processed_data_mapped.columns if i in v]) > 1}\n",
    "print(len(pathways_present))"
   ]
  },
  {
   "cell_type": "code",
   "execution_count": 29,
   "metadata": {},
   "outputs": [],
   "source": [
    "# initiate an ORA object\n",
    "ora = sspa.sspa_ora(\n",
    "    mat=processed_data_mapped, # Processed data matrix\n",
    "    metadata=df_meta['is_bad'], # metadata column\n",
    "    pathways=kegg_human_pathways, # pathway dataframe\n",
    "    DA_cutoff=0.01, # t-test cutoff to select differential metabolites\n",
    "    custom_background=None) # None sets to the default background set which are all annotated compounds provided in the input matrix\n",
    "\n",
    "# perform ORA\n",
    "ora_res = ora.over_representation_analysis()"
   ]
  },
  {
   "cell_type": "code",
   "execution_count": 30,
   "metadata": {},
   "outputs": [
    {
     "name": "stdout",
     "output_type": "stream",
     "text": [
      "There are 20 differential metabolites\n",
      "['C16604', 'C00346', 'C05528', 'C00366', 'C00025', 'C00327', 'C03626', 'C03626', 'C00712', 'C00712', 'C14762', 'C00836', 'C00836', 'C16612', 'C11378', 'C00921', 'C04751', 'C00363', 'C11134', 'C01829']\n"
     ]
    }
   ],
   "source": [
    "print('There are', len(ora.DA_molecules), 'differential metabolites')\n",
    "print(ora.DA_molecules)"
   ]
  },
  {
   "cell_type": "code",
   "execution_count": 31,
   "metadata": {},
   "outputs": [
    {
     "data": {
      "text/html": [
       "<div>\n",
       "<style scoped>\n",
       "    .dataframe tbody tr th:only-of-type {\n",
       "        vertical-align: middle;\n",
       "    }\n",
       "\n",
       "    .dataframe tbody tr th {\n",
       "        vertical-align: top;\n",
       "    }\n",
       "\n",
       "    .dataframe thead th {\n",
       "        text-align: right;\n",
       "    }\n",
       "</style>\n",
       "<table border=\"1\" class=\"dataframe\">\n",
       "  <thead>\n",
       "    <tr style=\"text-align: right;\">\n",
       "      <th></th>\n",
       "      <th>Entity</th>\n",
       "      <th>P-value</th>\n",
       "      <th>P-adjust</th>\n",
       "    </tr>\n",
       "  </thead>\n",
       "  <tbody>\n",
       "    <tr>\n",
       "      <th>56</th>\n",
       "      <td>C05528</td>\n",
       "      <td>1.657662e-07</td>\n",
       "      <td>0.000027</td>\n",
       "    </tr>\n",
       "    <tr>\n",
       "      <th>108</th>\n",
       "      <td>C00712</td>\n",
       "      <td>4.468468e-07</td>\n",
       "      <td>0.000036</td>\n",
       "    </tr>\n",
       "    <tr>\n",
       "      <th>127</th>\n",
       "      <td>C11378</td>\n",
       "      <td>6.977569e-07</td>\n",
       "      <td>0.000037</td>\n",
       "    </tr>\n",
       "    <tr>\n",
       "      <th>109</th>\n",
       "      <td>C00712</td>\n",
       "      <td>9.035844e-07</td>\n",
       "      <td>0.000037</td>\n",
       "    </tr>\n",
       "    <tr>\n",
       "      <th>133</th>\n",
       "      <td>C04751</td>\n",
       "      <td>3.716077e-06</td>\n",
       "      <td>0.000120</td>\n",
       "    </tr>\n",
       "    <tr>\n",
       "      <th>...</th>\n",
       "      <td>...</td>\n",
       "      <td>...</td>\n",
       "      <td>...</td>\n",
       "    </tr>\n",
       "    <tr>\n",
       "      <th>6</th>\n",
       "      <td>C00059</td>\n",
       "      <td>9.113209e-01</td>\n",
       "      <td>0.927802</td>\n",
       "    </tr>\n",
       "    <tr>\n",
       "      <th>75</th>\n",
       "      <td>C05172</td>\n",
       "      <td>9.123057e-01</td>\n",
       "      <td>0.927802</td>\n",
       "    </tr>\n",
       "    <tr>\n",
       "      <th>129</th>\n",
       "      <td>C11378</td>\n",
       "      <td>9.163475e-01</td>\n",
       "      <td>0.927802</td>\n",
       "    </tr>\n",
       "    <tr>\n",
       "      <th>50</th>\n",
       "      <td>C00219</td>\n",
       "      <td>9.313089e-01</td>\n",
       "      <td>0.937093</td>\n",
       "    </tr>\n",
       "    <tr>\n",
       "      <th>57</th>\n",
       "      <td>C05581</td>\n",
       "      <td>9.724645e-01</td>\n",
       "      <td>0.972464</td>\n",
       "    </tr>\n",
       "  </tbody>\n",
       "</table>\n",
       "<p>162 rows × 3 columns</p>\n",
       "</div>"
      ],
      "text/plain": [
       "     Entity       P-value  P-adjust\n",
       "56   C05528  1.657662e-07  0.000027\n",
       "108  C00712  4.468468e-07  0.000036\n",
       "127  C11378  6.977569e-07  0.000037\n",
       "109  C00712  9.035844e-07  0.000037\n",
       "133  C04751  3.716077e-06  0.000120\n",
       "..      ...           ...       ...\n",
       "6    C00059  9.113209e-01  0.927802\n",
       "75   C05172  9.123057e-01  0.927802\n",
       "129  C11378  9.163475e-01  0.927802\n",
       "50   C00219  9.313089e-01  0.937093\n",
       "57   C05581  9.724645e-01  0.972464\n",
       "\n",
       "[162 rows x 3 columns]"
      ]
     },
     "execution_count": 31,
     "metadata": {},
     "output_type": "execute_result"
    }
   ],
   "source": [
    "ora.DA_test_res.sort_values(by=\"P-value\")"
   ]
  },
  {
   "cell_type": "code",
   "execution_count": 32,
   "metadata": {},
   "outputs": [
    {
     "data": {
      "text/html": [
       "<div>\n",
       "<style scoped>\n",
       "    .dataframe tbody tr th:only-of-type {\n",
       "        vertical-align: middle;\n",
       "    }\n",
       "\n",
       "    .dataframe tbody tr th {\n",
       "        vertical-align: top;\n",
       "    }\n",
       "\n",
       "    .dataframe thead th {\n",
       "        text-align: right;\n",
       "    }\n",
       "</style>\n",
       "<table border=\"1\" class=\"dataframe\">\n",
       "  <thead>\n",
       "    <tr style=\"text-align: right;\">\n",
       "      <th></th>\n",
       "      <th>ID</th>\n",
       "      <th>Pathway_name</th>\n",
       "      <th>Hits</th>\n",
       "      <th>Coverage</th>\n",
       "      <th>P-value</th>\n",
       "      <th>P-adjust</th>\n",
       "      <th>DA_Metabolites_ID</th>\n",
       "    </tr>\n",
       "  </thead>\n",
       "  <tbody>\n",
       "    <tr>\n",
       "      <th>0</th>\n",
       "      <td>hsa00140</td>\n",
       "      <td>Steroid hormone biosynthesis - Homo sapiens (h...</td>\n",
       "      <td>1/4</td>\n",
       "      <td>4/99</td>\n",
       "      <td>0.535365</td>\n",
       "      <td>0.610771</td>\n",
       "      <td>C11134</td>\n",
       "    </tr>\n",
       "    <tr>\n",
       "      <th>1</th>\n",
       "      <td>hsa00220</td>\n",
       "      <td>Arginine biosynthesis - Homo sapiens (human)</td>\n",
       "      <td>2/4</td>\n",
       "      <td>4/23</td>\n",
       "      <td>0.135426</td>\n",
       "      <td>0.610771</td>\n",
       "      <td>C00025, C00327</td>\n",
       "    </tr>\n",
       "    <tr>\n",
       "      <th>2</th>\n",
       "      <td>hsa00230</td>\n",
       "      <td>Purine metabolism - Homo sapiens (human)</td>\n",
       "      <td>2/7</td>\n",
       "      <td>7/95</td>\n",
       "      <td>0.344765</td>\n",
       "      <td>0.610771</td>\n",
       "      <td>C04751, C00366</td>\n",
       "    </tr>\n",
       "    <tr>\n",
       "      <th>3</th>\n",
       "      <td>hsa00240</td>\n",
       "      <td>Pyrimidine metabolism - Homo sapiens (human)</td>\n",
       "      <td>1/2</td>\n",
       "      <td>2/65</td>\n",
       "      <td>0.315399</td>\n",
       "      <td>0.610771</td>\n",
       "      <td>C00363</td>\n",
       "    </tr>\n",
       "    <tr>\n",
       "      <th>4</th>\n",
       "      <td>hsa00250</td>\n",
       "      <td>Alanine, aspartate and glutamate metabolism - ...</td>\n",
       "      <td>1/3</td>\n",
       "      <td>3/28</td>\n",
       "      <td>0.435381</td>\n",
       "      <td>0.610771</td>\n",
       "      <td>C00025</td>\n",
       "    </tr>\n",
       "    <tr>\n",
       "      <th>5</th>\n",
       "      <td>hsa00270</td>\n",
       "      <td>Cysteine and methionine metabolism - Homo sapi...</td>\n",
       "      <td>1/5</td>\n",
       "      <td>5/64</td>\n",
       "      <td>0.618510</td>\n",
       "      <td>0.636182</td>\n",
       "      <td>C05528</td>\n",
       "    </tr>\n",
       "    <tr>\n",
       "      <th>6</th>\n",
       "      <td>hsa00330</td>\n",
       "      <td>Arginine and proline metabolism - Homo sapiens...</td>\n",
       "      <td>1/5</td>\n",
       "      <td>5/78</td>\n",
       "      <td>0.618510</td>\n",
       "      <td>0.636182</td>\n",
       "      <td>C00025</td>\n",
       "    </tr>\n",
       "    <tr>\n",
       "      <th>7</th>\n",
       "      <td>hsa00340</td>\n",
       "      <td>Histidine metabolism - Homo sapiens (human)</td>\n",
       "      <td>1/3</td>\n",
       "      <td>3/47</td>\n",
       "      <td>0.435381</td>\n",
       "      <td>0.610771</td>\n",
       "      <td>C00025</td>\n",
       "    </tr>\n",
       "    <tr>\n",
       "      <th>8</th>\n",
       "      <td>hsa00350</td>\n",
       "      <td>Tyrosine metabolism - Homo sapiens (human)</td>\n",
       "      <td>1/3</td>\n",
       "      <td>3/78</td>\n",
       "      <td>0.435381</td>\n",
       "      <td>0.610771</td>\n",
       "      <td>C01829</td>\n",
       "    </tr>\n",
       "    <tr>\n",
       "      <th>9</th>\n",
       "      <td>hsa00430</td>\n",
       "      <td>Taurine and hypotaurine metabolism - Homo sapi...</td>\n",
       "      <td>1/3</td>\n",
       "      <td>3/22</td>\n",
       "      <td>0.435381</td>\n",
       "      <td>0.610771</td>\n",
       "      <td>C00025</td>\n",
       "    </tr>\n",
       "    <tr>\n",
       "      <th>10</th>\n",
       "      <td>hsa00471</td>\n",
       "      <td>D-Glutamine and D-glutamate metabolism - Homo ...</td>\n",
       "      <td>1/2</td>\n",
       "      <td>2/13</td>\n",
       "      <td>0.315399</td>\n",
       "      <td>0.610771</td>\n",
       "      <td>C00025</td>\n",
       "    </tr>\n",
       "    <tr>\n",
       "      <th>11</th>\n",
       "      <td>hsa00480</td>\n",
       "      <td>Glutathione metabolism - Homo sapiens (human)</td>\n",
       "      <td>1/3</td>\n",
       "      <td>3/38</td>\n",
       "      <td>0.435381</td>\n",
       "      <td>0.610771</td>\n",
       "      <td>C00025</td>\n",
       "    </tr>\n",
       "    <tr>\n",
       "      <th>12</th>\n",
       "      <td>hsa00591</td>\n",
       "      <td>Linoleic acid metabolism - Homo sapiens (human)</td>\n",
       "      <td>1/3</td>\n",
       "      <td>3/28</td>\n",
       "      <td>0.435381</td>\n",
       "      <td>0.610771</td>\n",
       "      <td>C14762</td>\n",
       "    </tr>\n",
       "    <tr>\n",
       "      <th>13</th>\n",
       "      <td>hsa00600</td>\n",
       "      <td>Sphingolipid metabolism - Homo sapiens (human)</td>\n",
       "      <td>2/6</td>\n",
       "      <td>6/25</td>\n",
       "      <td>0.273546</td>\n",
       "      <td>0.610771</td>\n",
       "      <td>C00346, C00836</td>\n",
       "    </tr>\n",
       "    <tr>\n",
       "      <th>14</th>\n",
       "      <td>hsa00630</td>\n",
       "      <td>Glyoxylate and dicarboxylate metabolism - Homo...</td>\n",
       "      <td>1/4</td>\n",
       "      <td>4/62</td>\n",
       "      <td>0.535365</td>\n",
       "      <td>0.610771</td>\n",
       "      <td>C00025</td>\n",
       "    </tr>\n",
       "    <tr>\n",
       "      <th>15</th>\n",
       "      <td>hsa00650</td>\n",
       "      <td>Butanoate metabolism - Homo sapiens (human)</td>\n",
       "      <td>1/2</td>\n",
       "      <td>2/42</td>\n",
       "      <td>0.315399</td>\n",
       "      <td>0.610771</td>\n",
       "      <td>C00025</td>\n",
       "    </tr>\n",
       "    <tr>\n",
       "      <th>16</th>\n",
       "      <td>hsa00860</td>\n",
       "      <td>Porphyrin and chlorophyll metabolism - Homo sa...</td>\n",
       "      <td>1/3</td>\n",
       "      <td>3/139</td>\n",
       "      <td>0.435381</td>\n",
       "      <td>0.610771</td>\n",
       "      <td>C00025</td>\n",
       "    </tr>\n",
       "    <tr>\n",
       "      <th>17</th>\n",
       "      <td>hsa00970</td>\n",
       "      <td>Aminoacyl-tRNA biosynthesis - Homo sapiens (hu...</td>\n",
       "      <td>1/4</td>\n",
       "      <td>4/52</td>\n",
       "      <td>0.535365</td>\n",
       "      <td>0.610771</td>\n",
       "      <td>C00025</td>\n",
       "    </tr>\n",
       "    <tr>\n",
       "      <th>18</th>\n",
       "      <td>hsa00982</td>\n",
       "      <td>Drug metabolism - cytochrome P450 - Homo sapie...</td>\n",
       "      <td>2/3</td>\n",
       "      <td>3/87</td>\n",
       "      <td>0.075436</td>\n",
       "      <td>0.610771</td>\n",
       "      <td>C16604, C16612</td>\n",
       "    </tr>\n",
       "    <tr>\n",
       "      <th>19</th>\n",
       "      <td>hsa01040</td>\n",
       "      <td>Biosynthesis of unsaturated fatty acids - Homo...</td>\n",
       "      <td>1/3</td>\n",
       "      <td>3/69</td>\n",
       "      <td>0.435381</td>\n",
       "      <td>0.610771</td>\n",
       "      <td>C00712</td>\n",
       "    </tr>\n",
       "    <tr>\n",
       "      <th>20</th>\n",
       "      <td>hsa01200</td>\n",
       "      <td>Carbon metabolism - Homo sapiens (human)</td>\n",
       "      <td>1/5</td>\n",
       "      <td>5/108</td>\n",
       "      <td>0.618510</td>\n",
       "      <td>0.636182</td>\n",
       "      <td>C00025</td>\n",
       "    </tr>\n",
       "    <tr>\n",
       "      <th>21</th>\n",
       "      <td>hsa01210</td>\n",
       "      <td>2-Oxocarboxylic acid metabolism - Homo sapiens...</td>\n",
       "      <td>1/7</td>\n",
       "      <td>7/134</td>\n",
       "      <td>0.744626</td>\n",
       "      <td>0.744626</td>\n",
       "      <td>C00025</td>\n",
       "    </tr>\n",
       "    <tr>\n",
       "      <th>22</th>\n",
       "      <td>hsa01230</td>\n",
       "      <td>Biosynthesis of amino acids - Homo sapiens (hu...</td>\n",
       "      <td>2/10</td>\n",
       "      <td>10/128</td>\n",
       "      <td>0.542908</td>\n",
       "      <td>0.610771</td>\n",
       "      <td>C00025, C00327</td>\n",
       "    </tr>\n",
       "    <tr>\n",
       "      <th>23</th>\n",
       "      <td>hsa01240</td>\n",
       "      <td>Biosynthesis of cofactors - Homo sapiens (human)</td>\n",
       "      <td>3/9</td>\n",
       "      <td>9/326</td>\n",
       "      <td>0.181993</td>\n",
       "      <td>0.610771</td>\n",
       "      <td>C00025, C00921, C05528</td>\n",
       "    </tr>\n",
       "    <tr>\n",
       "      <th>24</th>\n",
       "      <td>hsa02010</td>\n",
       "      <td>ABC transporters - Homo sapiens (human)</td>\n",
       "      <td>1/4</td>\n",
       "      <td>4/93</td>\n",
       "      <td>0.535365</td>\n",
       "      <td>0.610771</td>\n",
       "      <td>C00025</td>\n",
       "    </tr>\n",
       "    <tr>\n",
       "      <th>25</th>\n",
       "      <td>hsa04071</td>\n",
       "      <td>Sphingolipid signaling pathway - Homo sapiens ...</td>\n",
       "      <td>2/4</td>\n",
       "      <td>4/15</td>\n",
       "      <td>0.135426</td>\n",
       "      <td>0.610771</td>\n",
       "      <td>C00346, C00836</td>\n",
       "    </tr>\n",
       "    <tr>\n",
       "      <th>26</th>\n",
       "      <td>hsa04072</td>\n",
       "      <td>Phospholipase D signaling pathway - Homo sapie...</td>\n",
       "      <td>1/2</td>\n",
       "      <td>2/11</td>\n",
       "      <td>0.315399</td>\n",
       "      <td>0.610771</td>\n",
       "      <td>C00025</td>\n",
       "    </tr>\n",
       "    <tr>\n",
       "      <th>27</th>\n",
       "      <td>hsa04080</td>\n",
       "      <td>Neuroactive ligand-receptor interaction - Homo...</td>\n",
       "      <td>1/4</td>\n",
       "      <td>4/40</td>\n",
       "      <td>0.535365</td>\n",
       "      <td>0.610771</td>\n",
       "      <td>C00025</td>\n",
       "    </tr>\n",
       "    <tr>\n",
       "      <th>28</th>\n",
       "      <td>hsa04216</td>\n",
       "      <td>Ferroptosis - Homo sapiens (human)</td>\n",
       "      <td>2/3</td>\n",
       "      <td>3/27</td>\n",
       "      <td>0.075436</td>\n",
       "      <td>0.610771</td>\n",
       "      <td>C00025, C11378</td>\n",
       "    </tr>\n",
       "    <tr>\n",
       "      <th>29</th>\n",
       "      <td>hsa04723</td>\n",
       "      <td>Retrograde endocannabinoid signaling - Homo sa...</td>\n",
       "      <td>1/3</td>\n",
       "      <td>3/19</td>\n",
       "      <td>0.435381</td>\n",
       "      <td>0.610771</td>\n",
       "      <td>C00025</td>\n",
       "    </tr>\n",
       "    <tr>\n",
       "      <th>30</th>\n",
       "      <td>hsa04727</td>\n",
       "      <td>GABAergic synapse - Homo sapiens (human)</td>\n",
       "      <td>1/2</td>\n",
       "      <td>2/9</td>\n",
       "      <td>0.315399</td>\n",
       "      <td>0.610771</td>\n",
       "      <td>C00025</td>\n",
       "    </tr>\n",
       "    <tr>\n",
       "      <th>31</th>\n",
       "      <td>hsa04730</td>\n",
       "      <td>Long-term depression - Homo sapiens (human)</td>\n",
       "      <td>1/2</td>\n",
       "      <td>2/9</td>\n",
       "      <td>0.315399</td>\n",
       "      <td>0.610771</td>\n",
       "      <td>C00025</td>\n",
       "    </tr>\n",
       "    <tr>\n",
       "      <th>32</th>\n",
       "      <td>hsa04742</td>\n",
       "      <td>Taste transduction - Homo sapiens (human)</td>\n",
       "      <td>1/2</td>\n",
       "      <td>2/25</td>\n",
       "      <td>0.315399</td>\n",
       "      <td>0.610771</td>\n",
       "      <td>C00025</td>\n",
       "    </tr>\n",
       "    <tr>\n",
       "      <th>33</th>\n",
       "      <td>hsa04964</td>\n",
       "      <td>Proximal tubule bicarbonate reclamation - Homo...</td>\n",
       "      <td>1/3</td>\n",
       "      <td>3/17</td>\n",
       "      <td>0.435381</td>\n",
       "      <td>0.610771</td>\n",
       "      <td>C00025</td>\n",
       "    </tr>\n",
       "    <tr>\n",
       "      <th>34</th>\n",
       "      <td>hsa04974</td>\n",
       "      <td>Protein digestion and absorption - Homo sapien...</td>\n",
       "      <td>1/3</td>\n",
       "      <td>3/29</td>\n",
       "      <td>0.435381</td>\n",
       "      <td>0.610771</td>\n",
       "      <td>C00025</td>\n",
       "    </tr>\n",
       "    <tr>\n",
       "      <th>35</th>\n",
       "      <td>hsa05230</td>\n",
       "      <td>Central carbon metabolism in cancer - Homo sap...</td>\n",
       "      <td>1/4</td>\n",
       "      <td>4/30</td>\n",
       "      <td>0.535365</td>\n",
       "      <td>0.610771</td>\n",
       "      <td>C00025</td>\n",
       "    </tr>\n",
       "  </tbody>\n",
       "</table>\n",
       "</div>"
      ],
      "text/plain": [
       "          ID                                       Pathway_name  Hits  \\\n",
       "0   hsa00140  Steroid hormone biosynthesis - Homo sapiens (h...   1/4   \n",
       "1   hsa00220       Arginine biosynthesis - Homo sapiens (human)   2/4   \n",
       "2   hsa00230           Purine metabolism - Homo sapiens (human)   2/7   \n",
       "3   hsa00240       Pyrimidine metabolism - Homo sapiens (human)   1/2   \n",
       "4   hsa00250  Alanine, aspartate and glutamate metabolism - ...   1/3   \n",
       "5   hsa00270  Cysteine and methionine metabolism - Homo sapi...   1/5   \n",
       "6   hsa00330  Arginine and proline metabolism - Homo sapiens...   1/5   \n",
       "7   hsa00340        Histidine metabolism - Homo sapiens (human)   1/3   \n",
       "8   hsa00350         Tyrosine metabolism - Homo sapiens (human)   1/3   \n",
       "9   hsa00430  Taurine and hypotaurine metabolism - Homo sapi...   1/3   \n",
       "10  hsa00471  D-Glutamine and D-glutamate metabolism - Homo ...   1/2   \n",
       "11  hsa00480      Glutathione metabolism - Homo sapiens (human)   1/3   \n",
       "12  hsa00591    Linoleic acid metabolism - Homo sapiens (human)   1/3   \n",
       "13  hsa00600     Sphingolipid metabolism - Homo sapiens (human)   2/6   \n",
       "14  hsa00630  Glyoxylate and dicarboxylate metabolism - Homo...   1/4   \n",
       "15  hsa00650        Butanoate metabolism - Homo sapiens (human)   1/2   \n",
       "16  hsa00860  Porphyrin and chlorophyll metabolism - Homo sa...   1/3   \n",
       "17  hsa00970  Aminoacyl-tRNA biosynthesis - Homo sapiens (hu...   1/4   \n",
       "18  hsa00982  Drug metabolism - cytochrome P450 - Homo sapie...   2/3   \n",
       "19  hsa01040  Biosynthesis of unsaturated fatty acids - Homo...   1/3   \n",
       "20  hsa01200           Carbon metabolism - Homo sapiens (human)   1/5   \n",
       "21  hsa01210  2-Oxocarboxylic acid metabolism - Homo sapiens...   1/7   \n",
       "22  hsa01230  Biosynthesis of amino acids - Homo sapiens (hu...  2/10   \n",
       "23  hsa01240   Biosynthesis of cofactors - Homo sapiens (human)   3/9   \n",
       "24  hsa02010            ABC transporters - Homo sapiens (human)   1/4   \n",
       "25  hsa04071  Sphingolipid signaling pathway - Homo sapiens ...   2/4   \n",
       "26  hsa04072  Phospholipase D signaling pathway - Homo sapie...   1/2   \n",
       "27  hsa04080  Neuroactive ligand-receptor interaction - Homo...   1/4   \n",
       "28  hsa04216                 Ferroptosis - Homo sapiens (human)   2/3   \n",
       "29  hsa04723  Retrograde endocannabinoid signaling - Homo sa...   1/3   \n",
       "30  hsa04727           GABAergic synapse - Homo sapiens (human)   1/2   \n",
       "31  hsa04730        Long-term depression - Homo sapiens (human)   1/2   \n",
       "32  hsa04742          Taste transduction - Homo sapiens (human)   1/2   \n",
       "33  hsa04964  Proximal tubule bicarbonate reclamation - Homo...   1/3   \n",
       "34  hsa04974  Protein digestion and absorption - Homo sapien...   1/3   \n",
       "35  hsa05230  Central carbon metabolism in cancer - Homo sap...   1/4   \n",
       "\n",
       "   Coverage   P-value  P-adjust       DA_Metabolites_ID  \n",
       "0      4/99  0.535365  0.610771                  C11134  \n",
       "1      4/23  0.135426  0.610771          C00025, C00327  \n",
       "2      7/95  0.344765  0.610771          C04751, C00366  \n",
       "3      2/65  0.315399  0.610771                  C00363  \n",
       "4      3/28  0.435381  0.610771                  C00025  \n",
       "5      5/64  0.618510  0.636182                  C05528  \n",
       "6      5/78  0.618510  0.636182                  C00025  \n",
       "7      3/47  0.435381  0.610771                  C00025  \n",
       "8      3/78  0.435381  0.610771                  C01829  \n",
       "9      3/22  0.435381  0.610771                  C00025  \n",
       "10     2/13  0.315399  0.610771                  C00025  \n",
       "11     3/38  0.435381  0.610771                  C00025  \n",
       "12     3/28  0.435381  0.610771                  C14762  \n",
       "13     6/25  0.273546  0.610771          C00346, C00836  \n",
       "14     4/62  0.535365  0.610771                  C00025  \n",
       "15     2/42  0.315399  0.610771                  C00025  \n",
       "16    3/139  0.435381  0.610771                  C00025  \n",
       "17     4/52  0.535365  0.610771                  C00025  \n",
       "18     3/87  0.075436  0.610771          C16604, C16612  \n",
       "19     3/69  0.435381  0.610771                  C00712  \n",
       "20    5/108  0.618510  0.636182                  C00025  \n",
       "21    7/134  0.744626  0.744626                  C00025  \n",
       "22   10/128  0.542908  0.610771          C00025, C00327  \n",
       "23    9/326  0.181993  0.610771  C00025, C00921, C05528  \n",
       "24     4/93  0.535365  0.610771                  C00025  \n",
       "25     4/15  0.135426  0.610771          C00346, C00836  \n",
       "26     2/11  0.315399  0.610771                  C00025  \n",
       "27     4/40  0.535365  0.610771                  C00025  \n",
       "28     3/27  0.075436  0.610771          C00025, C11378  \n",
       "29     3/19  0.435381  0.610771                  C00025  \n",
       "30      2/9  0.315399  0.610771                  C00025  \n",
       "31      2/9  0.315399  0.610771                  C00025  \n",
       "32     2/25  0.315399  0.610771                  C00025  \n",
       "33     3/17  0.435381  0.610771                  C00025  \n",
       "34     3/29  0.435381  0.610771                  C00025  \n",
       "35     4/30  0.535365  0.610771                  C00025  "
      ]
     },
     "execution_count": 32,
     "metadata": {},
     "output_type": "execute_result"
    }
   ],
   "source": [
    "ora_res"
   ]
  },
  {
   "cell_type": "code",
   "execution_count": 33,
   "metadata": {},
   "outputs": [
    {
     "data": {
      "text/html": [
       "<div>\n",
       "<style scoped>\n",
       "    .dataframe tbody tr th:only-of-type {\n",
       "        vertical-align: middle;\n",
       "    }\n",
       "\n",
       "    .dataframe tbody tr th {\n",
       "        vertical-align: top;\n",
       "    }\n",
       "\n",
       "    .dataframe thead th {\n",
       "        text-align: right;\n",
       "    }\n",
       "</style>\n",
       "<table border=\"1\" class=\"dataframe\">\n",
       "  <thead>\n",
       "    <tr style=\"text-align: right;\">\n",
       "      <th></th>\n",
       "      <th>ID</th>\n",
       "      <th>Pathway_name</th>\n",
       "      <th>Hits</th>\n",
       "      <th>Coverage</th>\n",
       "      <th>P-value</th>\n",
       "      <th>P-adjust</th>\n",
       "      <th>DA_Metabolites_ID</th>\n",
       "    </tr>\n",
       "  </thead>\n",
       "  <tbody>\n",
       "    <tr>\n",
       "      <th>28</th>\n",
       "      <td>hsa04216</td>\n",
       "      <td>Ferroptosis - Homo sapiens (human)</td>\n",
       "      <td>2/3</td>\n",
       "      <td>3/27</td>\n",
       "      <td>0.075436</td>\n",
       "      <td>0.610771</td>\n",
       "      <td>C00025, C11378</td>\n",
       "    </tr>\n",
       "    <tr>\n",
       "      <th>18</th>\n",
       "      <td>hsa00982</td>\n",
       "      <td>Drug metabolism - cytochrome P450 - Homo sapie...</td>\n",
       "      <td>2/3</td>\n",
       "      <td>3/87</td>\n",
       "      <td>0.075436</td>\n",
       "      <td>0.610771</td>\n",
       "      <td>C16604, C16612</td>\n",
       "    </tr>\n",
       "    <tr>\n",
       "      <th>1</th>\n",
       "      <td>hsa00220</td>\n",
       "      <td>Arginine biosynthesis - Homo sapiens (human)</td>\n",
       "      <td>2/4</td>\n",
       "      <td>4/23</td>\n",
       "      <td>0.135426</td>\n",
       "      <td>0.610771</td>\n",
       "      <td>C00025, C00327</td>\n",
       "    </tr>\n",
       "    <tr>\n",
       "      <th>25</th>\n",
       "      <td>hsa04071</td>\n",
       "      <td>Sphingolipid signaling pathway - Homo sapiens ...</td>\n",
       "      <td>2/4</td>\n",
       "      <td>4/15</td>\n",
       "      <td>0.135426</td>\n",
       "      <td>0.610771</td>\n",
       "      <td>C00346, C00836</td>\n",
       "    </tr>\n",
       "    <tr>\n",
       "      <th>23</th>\n",
       "      <td>hsa01240</td>\n",
       "      <td>Biosynthesis of cofactors - Homo sapiens (human)</td>\n",
       "      <td>3/9</td>\n",
       "      <td>9/326</td>\n",
       "      <td>0.181993</td>\n",
       "      <td>0.610771</td>\n",
       "      <td>C00025, C00921, C05528</td>\n",
       "    </tr>\n",
       "    <tr>\n",
       "      <th>13</th>\n",
       "      <td>hsa00600</td>\n",
       "      <td>Sphingolipid metabolism - Homo sapiens (human)</td>\n",
       "      <td>2/6</td>\n",
       "      <td>6/25</td>\n",
       "      <td>0.273546</td>\n",
       "      <td>0.610771</td>\n",
       "      <td>C00346, C00836</td>\n",
       "    </tr>\n",
       "    <tr>\n",
       "      <th>30</th>\n",
       "      <td>hsa04727</td>\n",
       "      <td>GABAergic synapse - Homo sapiens (human)</td>\n",
       "      <td>1/2</td>\n",
       "      <td>2/9</td>\n",
       "      <td>0.315399</td>\n",
       "      <td>0.610771</td>\n",
       "      <td>C00025</td>\n",
       "    </tr>\n",
       "    <tr>\n",
       "      <th>15</th>\n",
       "      <td>hsa00650</td>\n",
       "      <td>Butanoate metabolism - Homo sapiens (human)</td>\n",
       "      <td>1/2</td>\n",
       "      <td>2/42</td>\n",
       "      <td>0.315399</td>\n",
       "      <td>0.610771</td>\n",
       "      <td>C00025</td>\n",
       "    </tr>\n",
       "    <tr>\n",
       "      <th>31</th>\n",
       "      <td>hsa04730</td>\n",
       "      <td>Long-term depression - Homo sapiens (human)</td>\n",
       "      <td>1/2</td>\n",
       "      <td>2/9</td>\n",
       "      <td>0.315399</td>\n",
       "      <td>0.610771</td>\n",
       "      <td>C00025</td>\n",
       "    </tr>\n",
       "    <tr>\n",
       "      <th>10</th>\n",
       "      <td>hsa00471</td>\n",
       "      <td>D-Glutamine and D-glutamate metabolism - Homo ...</td>\n",
       "      <td>1/2</td>\n",
       "      <td>2/13</td>\n",
       "      <td>0.315399</td>\n",
       "      <td>0.610771</td>\n",
       "      <td>C00025</td>\n",
       "    </tr>\n",
       "    <tr>\n",
       "      <th>26</th>\n",
       "      <td>hsa04072</td>\n",
       "      <td>Phospholipase D signaling pathway - Homo sapie...</td>\n",
       "      <td>1/2</td>\n",
       "      <td>2/11</td>\n",
       "      <td>0.315399</td>\n",
       "      <td>0.610771</td>\n",
       "      <td>C00025</td>\n",
       "    </tr>\n",
       "    <tr>\n",
       "      <th>32</th>\n",
       "      <td>hsa04742</td>\n",
       "      <td>Taste transduction - Homo sapiens (human)</td>\n",
       "      <td>1/2</td>\n",
       "      <td>2/25</td>\n",
       "      <td>0.315399</td>\n",
       "      <td>0.610771</td>\n",
       "      <td>C00025</td>\n",
       "    </tr>\n",
       "    <tr>\n",
       "      <th>3</th>\n",
       "      <td>hsa00240</td>\n",
       "      <td>Pyrimidine metabolism - Homo sapiens (human)</td>\n",
       "      <td>1/2</td>\n",
       "      <td>2/65</td>\n",
       "      <td>0.315399</td>\n",
       "      <td>0.610771</td>\n",
       "      <td>C00363</td>\n",
       "    </tr>\n",
       "    <tr>\n",
       "      <th>2</th>\n",
       "      <td>hsa00230</td>\n",
       "      <td>Purine metabolism - Homo sapiens (human)</td>\n",
       "      <td>2/7</td>\n",
       "      <td>7/95</td>\n",
       "      <td>0.344765</td>\n",
       "      <td>0.610771</td>\n",
       "      <td>C04751, C00366</td>\n",
       "    </tr>\n",
       "    <tr>\n",
       "      <th>11</th>\n",
       "      <td>hsa00480</td>\n",
       "      <td>Glutathione metabolism - Homo sapiens (human)</td>\n",
       "      <td>1/3</td>\n",
       "      <td>3/38</td>\n",
       "      <td>0.435381</td>\n",
       "      <td>0.610771</td>\n",
       "      <td>C00025</td>\n",
       "    </tr>\n",
       "    <tr>\n",
       "      <th>12</th>\n",
       "      <td>hsa00591</td>\n",
       "      <td>Linoleic acid metabolism - Homo sapiens (human)</td>\n",
       "      <td>1/3</td>\n",
       "      <td>3/28</td>\n",
       "      <td>0.435381</td>\n",
       "      <td>0.610771</td>\n",
       "      <td>C14762</td>\n",
       "    </tr>\n",
       "    <tr>\n",
       "      <th>8</th>\n",
       "      <td>hsa00350</td>\n",
       "      <td>Tyrosine metabolism - Homo sapiens (human)</td>\n",
       "      <td>1/3</td>\n",
       "      <td>3/78</td>\n",
       "      <td>0.435381</td>\n",
       "      <td>0.610771</td>\n",
       "      <td>C01829</td>\n",
       "    </tr>\n",
       "    <tr>\n",
       "      <th>7</th>\n",
       "      <td>hsa00340</td>\n",
       "      <td>Histidine metabolism - Homo sapiens (human)</td>\n",
       "      <td>1/3</td>\n",
       "      <td>3/47</td>\n",
       "      <td>0.435381</td>\n",
       "      <td>0.610771</td>\n",
       "      <td>C00025</td>\n",
       "    </tr>\n",
       "    <tr>\n",
       "      <th>16</th>\n",
       "      <td>hsa00860</td>\n",
       "      <td>Porphyrin and chlorophyll metabolism - Homo sa...</td>\n",
       "      <td>1/3</td>\n",
       "      <td>3/139</td>\n",
       "      <td>0.435381</td>\n",
       "      <td>0.610771</td>\n",
       "      <td>C00025</td>\n",
       "    </tr>\n",
       "    <tr>\n",
       "      <th>34</th>\n",
       "      <td>hsa04974</td>\n",
       "      <td>Protein digestion and absorption - Homo sapien...</td>\n",
       "      <td>1/3</td>\n",
       "      <td>3/29</td>\n",
       "      <td>0.435381</td>\n",
       "      <td>0.610771</td>\n",
       "      <td>C00025</td>\n",
       "    </tr>\n",
       "    <tr>\n",
       "      <th>33</th>\n",
       "      <td>hsa04964</td>\n",
       "      <td>Proximal tubule bicarbonate reclamation - Homo...</td>\n",
       "      <td>1/3</td>\n",
       "      <td>3/17</td>\n",
       "      <td>0.435381</td>\n",
       "      <td>0.610771</td>\n",
       "      <td>C00025</td>\n",
       "    </tr>\n",
       "    <tr>\n",
       "      <th>19</th>\n",
       "      <td>hsa01040</td>\n",
       "      <td>Biosynthesis of unsaturated fatty acids - Homo...</td>\n",
       "      <td>1/3</td>\n",
       "      <td>3/69</td>\n",
       "      <td>0.435381</td>\n",
       "      <td>0.610771</td>\n",
       "      <td>C00712</td>\n",
       "    </tr>\n",
       "    <tr>\n",
       "      <th>4</th>\n",
       "      <td>hsa00250</td>\n",
       "      <td>Alanine, aspartate and glutamate metabolism - ...</td>\n",
       "      <td>1/3</td>\n",
       "      <td>3/28</td>\n",
       "      <td>0.435381</td>\n",
       "      <td>0.610771</td>\n",
       "      <td>C00025</td>\n",
       "    </tr>\n",
       "    <tr>\n",
       "      <th>29</th>\n",
       "      <td>hsa04723</td>\n",
       "      <td>Retrograde endocannabinoid signaling - Homo sa...</td>\n",
       "      <td>1/3</td>\n",
       "      <td>3/19</td>\n",
       "      <td>0.435381</td>\n",
       "      <td>0.610771</td>\n",
       "      <td>C00025</td>\n",
       "    </tr>\n",
       "    <tr>\n",
       "      <th>9</th>\n",
       "      <td>hsa00430</td>\n",
       "      <td>Taurine and hypotaurine metabolism - Homo sapi...</td>\n",
       "      <td>1/3</td>\n",
       "      <td>3/22</td>\n",
       "      <td>0.435381</td>\n",
       "      <td>0.610771</td>\n",
       "      <td>C00025</td>\n",
       "    </tr>\n",
       "    <tr>\n",
       "      <th>27</th>\n",
       "      <td>hsa04080</td>\n",
       "      <td>Neuroactive ligand-receptor interaction - Homo...</td>\n",
       "      <td>1/4</td>\n",
       "      <td>4/40</td>\n",
       "      <td>0.535365</td>\n",
       "      <td>0.610771</td>\n",
       "      <td>C00025</td>\n",
       "    </tr>\n",
       "    <tr>\n",
       "      <th>0</th>\n",
       "      <td>hsa00140</td>\n",
       "      <td>Steroid hormone biosynthesis - Homo sapiens (h...</td>\n",
       "      <td>1/4</td>\n",
       "      <td>4/99</td>\n",
       "      <td>0.535365</td>\n",
       "      <td>0.610771</td>\n",
       "      <td>C11134</td>\n",
       "    </tr>\n",
       "    <tr>\n",
       "      <th>17</th>\n",
       "      <td>hsa00970</td>\n",
       "      <td>Aminoacyl-tRNA biosynthesis - Homo sapiens (hu...</td>\n",
       "      <td>1/4</td>\n",
       "      <td>4/52</td>\n",
       "      <td>0.535365</td>\n",
       "      <td>0.610771</td>\n",
       "      <td>C00025</td>\n",
       "    </tr>\n",
       "    <tr>\n",
       "      <th>14</th>\n",
       "      <td>hsa00630</td>\n",
       "      <td>Glyoxylate and dicarboxylate metabolism - Homo...</td>\n",
       "      <td>1/4</td>\n",
       "      <td>4/62</td>\n",
       "      <td>0.535365</td>\n",
       "      <td>0.610771</td>\n",
       "      <td>C00025</td>\n",
       "    </tr>\n",
       "    <tr>\n",
       "      <th>24</th>\n",
       "      <td>hsa02010</td>\n",
       "      <td>ABC transporters - Homo sapiens (human)</td>\n",
       "      <td>1/4</td>\n",
       "      <td>4/93</td>\n",
       "      <td>0.535365</td>\n",
       "      <td>0.610771</td>\n",
       "      <td>C00025</td>\n",
       "    </tr>\n",
       "    <tr>\n",
       "      <th>35</th>\n",
       "      <td>hsa05230</td>\n",
       "      <td>Central carbon metabolism in cancer - Homo sap...</td>\n",
       "      <td>1/4</td>\n",
       "      <td>4/30</td>\n",
       "      <td>0.535365</td>\n",
       "      <td>0.610771</td>\n",
       "      <td>C00025</td>\n",
       "    </tr>\n",
       "    <tr>\n",
       "      <th>22</th>\n",
       "      <td>hsa01230</td>\n",
       "      <td>Biosynthesis of amino acids - Homo sapiens (hu...</td>\n",
       "      <td>2/10</td>\n",
       "      <td>10/128</td>\n",
       "      <td>0.542908</td>\n",
       "      <td>0.610771</td>\n",
       "      <td>C00025, C00327</td>\n",
       "    </tr>\n",
       "    <tr>\n",
       "      <th>20</th>\n",
       "      <td>hsa01200</td>\n",
       "      <td>Carbon metabolism - Homo sapiens (human)</td>\n",
       "      <td>1/5</td>\n",
       "      <td>5/108</td>\n",
       "      <td>0.618510</td>\n",
       "      <td>0.636182</td>\n",
       "      <td>C00025</td>\n",
       "    </tr>\n",
       "    <tr>\n",
       "      <th>6</th>\n",
       "      <td>hsa00330</td>\n",
       "      <td>Arginine and proline metabolism - Homo sapiens...</td>\n",
       "      <td>1/5</td>\n",
       "      <td>5/78</td>\n",
       "      <td>0.618510</td>\n",
       "      <td>0.636182</td>\n",
       "      <td>C00025</td>\n",
       "    </tr>\n",
       "    <tr>\n",
       "      <th>5</th>\n",
       "      <td>hsa00270</td>\n",
       "      <td>Cysteine and methionine metabolism - Homo sapi...</td>\n",
       "      <td>1/5</td>\n",
       "      <td>5/64</td>\n",
       "      <td>0.618510</td>\n",
       "      <td>0.636182</td>\n",
       "      <td>C05528</td>\n",
       "    </tr>\n",
       "    <tr>\n",
       "      <th>21</th>\n",
       "      <td>hsa01210</td>\n",
       "      <td>2-Oxocarboxylic acid metabolism - Homo sapiens...</td>\n",
       "      <td>1/7</td>\n",
       "      <td>7/134</td>\n",
       "      <td>0.744626</td>\n",
       "      <td>0.744626</td>\n",
       "      <td>C00025</td>\n",
       "    </tr>\n",
       "  </tbody>\n",
       "</table>\n",
       "</div>"
      ],
      "text/plain": [
       "          ID                                       Pathway_name  Hits  \\\n",
       "28  hsa04216                 Ferroptosis - Homo sapiens (human)   2/3   \n",
       "18  hsa00982  Drug metabolism - cytochrome P450 - Homo sapie...   2/3   \n",
       "1   hsa00220       Arginine biosynthesis - Homo sapiens (human)   2/4   \n",
       "25  hsa04071  Sphingolipid signaling pathway - Homo sapiens ...   2/4   \n",
       "23  hsa01240   Biosynthesis of cofactors - Homo sapiens (human)   3/9   \n",
       "13  hsa00600     Sphingolipid metabolism - Homo sapiens (human)   2/6   \n",
       "30  hsa04727           GABAergic synapse - Homo sapiens (human)   1/2   \n",
       "15  hsa00650        Butanoate metabolism - Homo sapiens (human)   1/2   \n",
       "31  hsa04730        Long-term depression - Homo sapiens (human)   1/2   \n",
       "10  hsa00471  D-Glutamine and D-glutamate metabolism - Homo ...   1/2   \n",
       "26  hsa04072  Phospholipase D signaling pathway - Homo sapie...   1/2   \n",
       "32  hsa04742          Taste transduction - Homo sapiens (human)   1/2   \n",
       "3   hsa00240       Pyrimidine metabolism - Homo sapiens (human)   1/2   \n",
       "2   hsa00230           Purine metabolism - Homo sapiens (human)   2/7   \n",
       "11  hsa00480      Glutathione metabolism - Homo sapiens (human)   1/3   \n",
       "12  hsa00591    Linoleic acid metabolism - Homo sapiens (human)   1/3   \n",
       "8   hsa00350         Tyrosine metabolism - Homo sapiens (human)   1/3   \n",
       "7   hsa00340        Histidine metabolism - Homo sapiens (human)   1/3   \n",
       "16  hsa00860  Porphyrin and chlorophyll metabolism - Homo sa...   1/3   \n",
       "34  hsa04974  Protein digestion and absorption - Homo sapien...   1/3   \n",
       "33  hsa04964  Proximal tubule bicarbonate reclamation - Homo...   1/3   \n",
       "19  hsa01040  Biosynthesis of unsaturated fatty acids - Homo...   1/3   \n",
       "4   hsa00250  Alanine, aspartate and glutamate metabolism - ...   1/3   \n",
       "29  hsa04723  Retrograde endocannabinoid signaling - Homo sa...   1/3   \n",
       "9   hsa00430  Taurine and hypotaurine metabolism - Homo sapi...   1/3   \n",
       "27  hsa04080  Neuroactive ligand-receptor interaction - Homo...   1/4   \n",
       "0   hsa00140  Steroid hormone biosynthesis - Homo sapiens (h...   1/4   \n",
       "17  hsa00970  Aminoacyl-tRNA biosynthesis - Homo sapiens (hu...   1/4   \n",
       "14  hsa00630  Glyoxylate and dicarboxylate metabolism - Homo...   1/4   \n",
       "24  hsa02010            ABC transporters - Homo sapiens (human)   1/4   \n",
       "35  hsa05230  Central carbon metabolism in cancer - Homo sap...   1/4   \n",
       "22  hsa01230  Biosynthesis of amino acids - Homo sapiens (hu...  2/10   \n",
       "20  hsa01200           Carbon metabolism - Homo sapiens (human)   1/5   \n",
       "6   hsa00330  Arginine and proline metabolism - Homo sapiens...   1/5   \n",
       "5   hsa00270  Cysteine and methionine metabolism - Homo sapi...   1/5   \n",
       "21  hsa01210  2-Oxocarboxylic acid metabolism - Homo sapiens...   1/7   \n",
       "\n",
       "   Coverage   P-value  P-adjust       DA_Metabolites_ID  \n",
       "28     3/27  0.075436  0.610771          C00025, C11378  \n",
       "18     3/87  0.075436  0.610771          C16604, C16612  \n",
       "1      4/23  0.135426  0.610771          C00025, C00327  \n",
       "25     4/15  0.135426  0.610771          C00346, C00836  \n",
       "23    9/326  0.181993  0.610771  C00025, C00921, C05528  \n",
       "13     6/25  0.273546  0.610771          C00346, C00836  \n",
       "30      2/9  0.315399  0.610771                  C00025  \n",
       "15     2/42  0.315399  0.610771                  C00025  \n",
       "31      2/9  0.315399  0.610771                  C00025  \n",
       "10     2/13  0.315399  0.610771                  C00025  \n",
       "26     2/11  0.315399  0.610771                  C00025  \n",
       "32     2/25  0.315399  0.610771                  C00025  \n",
       "3      2/65  0.315399  0.610771                  C00363  \n",
       "2      7/95  0.344765  0.610771          C04751, C00366  \n",
       "11     3/38  0.435381  0.610771                  C00025  \n",
       "12     3/28  0.435381  0.610771                  C14762  \n",
       "8      3/78  0.435381  0.610771                  C01829  \n",
       "7      3/47  0.435381  0.610771                  C00025  \n",
       "16    3/139  0.435381  0.610771                  C00025  \n",
       "34     3/29  0.435381  0.610771                  C00025  \n",
       "33     3/17  0.435381  0.610771                  C00025  \n",
       "19     3/69  0.435381  0.610771                  C00712  \n",
       "4      3/28  0.435381  0.610771                  C00025  \n",
       "29     3/19  0.435381  0.610771                  C00025  \n",
       "9      3/22  0.435381  0.610771                  C00025  \n",
       "27     4/40  0.535365  0.610771                  C00025  \n",
       "0      4/99  0.535365  0.610771                  C11134  \n",
       "17     4/52  0.535365  0.610771                  C00025  \n",
       "14     4/62  0.535365  0.610771                  C00025  \n",
       "24     4/93  0.535365  0.610771                  C00025  \n",
       "35     4/30  0.535365  0.610771                  C00025  \n",
       "22   10/128  0.542908  0.610771          C00025, C00327  \n",
       "20    5/108  0.618510  0.636182                  C00025  \n",
       "6      5/78  0.618510  0.636182                  C00025  \n",
       "5      5/64  0.618510  0.636182                  C05528  \n",
       "21    7/134  0.744626  0.744626                  C00025  "
      ]
     },
     "execution_count": 33,
     "metadata": {},
     "output_type": "execute_result"
    }
   ],
   "source": [
    "ora_res.sort_values(by=\"P-value\")"
   ]
  },
  {
   "cell_type": "code",
   "execution_count": 35,
   "metadata": {},
   "outputs": [
    {
     "name": "stderr",
     "output_type": "stream",
     "text": [
      "/var/folders/t0/9s1kd78j2w76jjypvc2j3x900000gn/T/ipykernel_18392/1498191650.py:6: FutureWarning:\n",
      "\n",
      "\n",
      "\n",
      "Passing `palette` without assigning `hue` is deprecated and will be removed in v0.14.0. Assign the `y` variable to `hue` and set `legend=False` for the same effect.\n",
      "\n",
      "\n"
     ]
    },
    {
     "data": {
      "image/png": "[encoded data removed]",
      "text/plain": [
       "<Figure size 800x600 with 1 Axes>"
      ]
     },
     "metadata": {},
     "output_type": "display_data"
    }
   ],
   "source": [
    "top_20_pathways = ora_res.sort_values(by=\"P-value\").iloc[0:20, :]\n",
    "top_20_pathways[\"Pathway_name\"] = top_20_pathways[\"Pathway_name\"].str.replace(\" - Homo sapiens \\\\(human\\\\)\", \"\", regex=True)\n",
    "\n",
    "plt.figure(figsize=(8, 6))\n",
    "sns.set_style('ticks')\n",
    "sns.barplot(\n",
    "    data=top_20_pathways,\n",
    "    y=\"Pathway_name\",\n",
    "    x=\"P-value\",\n",
    "    orient=\"h\",\n",
    "    palette=\"viridis\"\n",
    "    )\n",
    "plt.axvline(0.05, c=\"black\")\n",
    "plt.title('Top 20 KEGG Human pathways (ORA)')\n",
    "# plt.savefig(\"ORA_top_20.png\", dpi=300, bbox_inches=\"tight\")\n",
    "plt.show()"
   ]
  }
 ],
 "metadata": {
  "kernelspec": {
   "display_name": "mummichog_env",
   "language": "python",
   "name": "python3"
  },
  "language_info": {
   "codemirror_mode": {
    "name": "ipython",
    "version": 3
   },
   "file_extension": ".py",
   "mimetype": "text/x-python",
   "name": "python",
   "nbconvert_exporter": "python",
   "pygments_lexer": "ipython3",
   "version": "3.10.15"
  }
 },
 "nbformat": 4,
 "nbformat_minor": 2
}
