{
 "cells": [
  {
   "cell_type": "code",
   "execution_count": 1,
   "metadata": {},
   "outputs": [],
   "source": [
    "# For general data science and matrix manipulation\n",
    "import numpy as np\n",
    "import pandas as pd\n",
    "from sklearn.preprocessing import StandardScaler\n",
    "from sklearn.decomposition import PCA\n",
    "from scipy import stats\n",
    "\n",
    "# For pathway analysis in python\n",
    "import sspa\n",
    "import gseapy\n",
    "\n",
    "# For plotting\n",
    "import seaborn as sns\n",
    "import matplotlib.pyplot as plt\n",
    "import plotly.express as px\n",
    "import plotly.graph_objects as go\n",
    "\n",
    "# For network creation and visualisation\n",
    "import networkx as nx"
   ]
  },
  {
   "cell_type": "code",
   "execution_count": 2,
   "metadata": {},
   "outputs": [],
   "source": [
    "# Getting my data to look like theirs:\n",
    "gt_file = \"/Users/pranathipoojary/Projects/mummichog_proj/untargeted_pa/mummichog/anaylse_results_trans_omic_covid_data/m_MTBLS2542_Metabo_LC-MS_positive_reverse-phase_v2_maf.tsv\"\n",
    "gt = pd.read_csv(gt_file, sep='\\t')\n",
    "gt = gt.dropna(axis=1, how='all')\n",
    "drop_cols = [col for col in gt.columns if col[0] != '2' and col not in [\"metabolite_identification\"]]\n",
    "gt.drop(columns=drop_cols, inplace=True)\n",
    "gt = gt.rename(columns={gt.columns[0]: 'sample_id'})\n",
    "gt = gt.set_index('sample_id')\n",
    "gt = gt.transpose()\n",
    "# print(gt.head())#.iloc[:, :5])\n",
    "\n",
    "df_meta = pd.read_csv(\"/Users/pranathipoojary/Projects/mummichog_proj/untargeted_pa/data/trans_omic_untargeted/meta_data.csv\")\n",
    "df_meta = df_meta[['sample_id', 'is_bad', 'age']]\n",
    "df_meta = df_meta[df_meta['sample_id'].isin(gt.index)]\n",
    "df_meta = df_meta.set_index('sample_id')\n",
    "\n",
    "df_combined = gt.merge(df_meta, left_index=True, right_index=True)\n",
    "df_combined[\"is_bad\"] = df_combined[\"is_bad\"].fillna(0).astype(int)\n",
    "df_combined[\"age\"] = df_combined[\"age\"].fillna(0).astype(int)\n",
    "\n",
    "df_values = df_combined.iloc[:, :-2]\n",
    "\n",
    "# print(df_combined.head())\n",
    "# print(\"____________________\")\n",
    "# print(df_values.head())\n",
    "\n",
    "\n"
   ]
  },
  {
   "cell_type": "code",
   "execution_count": 3,
   "metadata": {},
   "outputs": [
    {
     "name": "stdout",
     "output_type": "stream",
     "text": [
      "158\n",
      "158\n",
      "158\n",
      "158\n",
      "158\n"
     ]
    },
    {
     "data": {
      "text/html": [
       "<div>\n",
       "<style scoped>\n",
       "    .dataframe tbody tr th:only-of-type {\n",
       "        vertical-align: middle;\n",
       "    }\n",
       "\n",
       "    .dataframe tbody tr th {\n",
       "        vertical-align: top;\n",
       "    }\n",
       "\n",
       "    .dataframe thead th {\n",
       "        text-align: right;\n",
       "    }\n",
       "</style>\n",
       "<table border=\"1\" class=\"dataframe\">\n",
       "  <thead>\n",
       "    <tr style=\"text-align: right;\">\n",
       "      <th></th>\n",
       "      <th>Spermidine</th>\n",
       "      <th>L-lysine</th>\n",
       "      <th>Pipecolate</th>\n",
       "      <th>D-ornithine</th>\n",
       "      <th>Nepsilon,nepsilon,nepsilon-trimethyllysine</th>\n",
       "      <th>Choline</th>\n",
       "      <th>L-histidine</th>\n",
       "      <th>L-arginine</th>\n",
       "      <th>1-methylnicotinamide</th>\n",
       "      <th>Guanidinoacetate</th>\n",
       "      <th>...</th>\n",
       "      <th>alpha-eleostearic acid</th>\n",
       "      <th>Palmitoleic acid</th>\n",
       "      <th>Docosahexaenoic acid</th>\n",
       "      <th>Arachidonic acid</th>\n",
       "      <th>1-oleoyl-rac-glycerol</th>\n",
       "      <th>Docosapentaenoic acid</th>\n",
       "      <th>Eicosapentaenoic acid methyl ester</th>\n",
       "      <th>Citral</th>\n",
       "      <th>3-acetyl-11-keto-beta-boswellic acid</th>\n",
       "      <th>Oleate</th>\n",
       "    </tr>\n",
       "  </thead>\n",
       "  <tbody>\n",
       "    <tr>\n",
       "      <th>20P02820216_BEHC18_POS</th>\n",
       "      <td>-0.779137</td>\n",
       "      <td>-0.104941</td>\n",
       "      <td>-0.114293</td>\n",
       "      <td>0.473686</td>\n",
       "      <td>1.503391</td>\n",
       "      <td>-0.402144</td>\n",
       "      <td>0.284296</td>\n",
       "      <td>1.445898</td>\n",
       "      <td>-1.374745</td>\n",
       "      <td>1.569815</td>\n",
       "      <td>...</td>\n",
       "      <td>-1.914515</td>\n",
       "      <td>-2.066976</td>\n",
       "      <td>-1.405936</td>\n",
       "      <td>-0.653045</td>\n",
       "      <td>-1.670770</td>\n",
       "      <td>-1.452937</td>\n",
       "      <td>-0.679753</td>\n",
       "      <td>-1.280216</td>\n",
       "      <td>-0.928677</td>\n",
       "      <td>-1.959673</td>\n",
       "    </tr>\n",
       "    <tr>\n",
       "      <th>20P02820217_BEHC18_POS</th>\n",
       "      <td>0.800701</td>\n",
       "      <td>-0.748642</td>\n",
       "      <td>-0.730435</td>\n",
       "      <td>-1.088297</td>\n",
       "      <td>-2.057692</td>\n",
       "      <td>-0.426981</td>\n",
       "      <td>0.946346</td>\n",
       "      <td>-0.205979</td>\n",
       "      <td>-0.814134</td>\n",
       "      <td>-0.288248</td>\n",
       "      <td>...</td>\n",
       "      <td>0.193375</td>\n",
       "      <td>0.840322</td>\n",
       "      <td>0.622559</td>\n",
       "      <td>1.475310</td>\n",
       "      <td>-1.022829</td>\n",
       "      <td>0.983929</td>\n",
       "      <td>0.924482</td>\n",
       "      <td>-0.450560</td>\n",
       "      <td>-0.317328</td>\n",
       "      <td>0.849991</td>\n",
       "    </tr>\n",
       "    <tr>\n",
       "      <th>20P02820215_BEHC18_POS</th>\n",
       "      <td>-0.045873</td>\n",
       "      <td>0.451114</td>\n",
       "      <td>0.453914</td>\n",
       "      <td>-0.345614</td>\n",
       "      <td>-0.369913</td>\n",
       "      <td>0.062922</td>\n",
       "      <td>2.284742</td>\n",
       "      <td>0.653759</td>\n",
       "      <td>-1.092537</td>\n",
       "      <td>1.185639</td>\n",
       "      <td>...</td>\n",
       "      <td>-1.422908</td>\n",
       "      <td>-1.724052</td>\n",
       "      <td>-1.774770</td>\n",
       "      <td>0.791443</td>\n",
       "      <td>-1.082658</td>\n",
       "      <td>-1.375451</td>\n",
       "      <td>-0.257800</td>\n",
       "      <td>-0.661397</td>\n",
       "      <td>-1.003525</td>\n",
       "      <td>-1.687071</td>\n",
       "    </tr>\n",
       "    <tr>\n",
       "      <th>20P02820224_BEHC18_POS</th>\n",
       "      <td>1.033061</td>\n",
       "      <td>0.045556</td>\n",
       "      <td>0.045586</td>\n",
       "      <td>-0.618188</td>\n",
       "      <td>-0.340958</td>\n",
       "      <td>0.179402</td>\n",
       "      <td>-1.841419</td>\n",
       "      <td>0.220763</td>\n",
       "      <td>-1.466296</td>\n",
       "      <td>0.853454</td>\n",
       "      <td>...</td>\n",
       "      <td>-0.911592</td>\n",
       "      <td>-1.418438</td>\n",
       "      <td>-0.537543</td>\n",
       "      <td>-0.032834</td>\n",
       "      <td>-0.475210</td>\n",
       "      <td>-1.083488</td>\n",
       "      <td>0.553412</td>\n",
       "      <td>-1.077154</td>\n",
       "      <td>-0.671116</td>\n",
       "      <td>-1.422177</td>\n",
       "    </tr>\n",
       "    <tr>\n",
       "      <th>20P02820213_BEHC18_POS</th>\n",
       "      <td>-1.760466</td>\n",
       "      <td>1.500984</td>\n",
       "      <td>1.497020</td>\n",
       "      <td>0.554929</td>\n",
       "      <td>-0.376676</td>\n",
       "      <td>0.232631</td>\n",
       "      <td>1.590149</td>\n",
       "      <td>1.137395</td>\n",
       "      <td>-1.249970</td>\n",
       "      <td>0.526880</td>\n",
       "      <td>...</td>\n",
       "      <td>-0.687002</td>\n",
       "      <td>-0.961304</td>\n",
       "      <td>-0.372402</td>\n",
       "      <td>-0.617674</td>\n",
       "      <td>-0.498667</td>\n",
       "      <td>-0.792231</td>\n",
       "      <td>0.651163</td>\n",
       "      <td>-1.073297</td>\n",
       "      <td>-1.071656</td>\n",
       "      <td>-0.783467</td>\n",
       "    </tr>\n",
       "  </tbody>\n",
       "</table>\n",
       "<p>5 rows × 515 columns</p>\n",
       "</div>"
      ],
      "text/plain": [
       "                        Spermidine  L-lysine  Pipecolate  D-ornithine  \\\n",
       "20P02820216_BEHC18_POS   -0.779137 -0.104941   -0.114293     0.473686   \n",
       "20P02820217_BEHC18_POS    0.800701 -0.748642   -0.730435    -1.088297   \n",
       "20P02820215_BEHC18_POS   -0.045873  0.451114    0.453914    -0.345614   \n",
       "20P02820224_BEHC18_POS    1.033061  0.045556    0.045586    -0.618188   \n",
       "20P02820213_BEHC18_POS   -1.760466  1.500984    1.497020     0.554929   \n",
       "\n",
       "                        Nepsilon,nepsilon,nepsilon-trimethyllysine   Choline  \\\n",
       "20P02820216_BEHC18_POS                                    1.503391 -0.402144   \n",
       "20P02820217_BEHC18_POS                                   -2.057692 -0.426981   \n",
       "20P02820215_BEHC18_POS                                   -0.369913  0.062922   \n",
       "20P02820224_BEHC18_POS                                   -0.340958  0.179402   \n",
       "20P02820213_BEHC18_POS                                   -0.376676  0.232631   \n",
       "\n",
       "                        L-histidine  L-arginine  1-methylnicotinamide  \\\n",
       "20P02820216_BEHC18_POS     0.284296    1.445898             -1.374745   \n",
       "20P02820217_BEHC18_POS     0.946346   -0.205979             -0.814134   \n",
       "20P02820215_BEHC18_POS     2.284742    0.653759             -1.092537   \n",
       "20P02820224_BEHC18_POS    -1.841419    0.220763             -1.466296   \n",
       "20P02820213_BEHC18_POS     1.590149    1.137395             -1.249970   \n",
       "\n",
       "                        Guanidinoacetate  ...  alpha-eleostearic acid  \\\n",
       "20P02820216_BEHC18_POS          1.569815  ...               -1.914515   \n",
       "20P02820217_BEHC18_POS         -0.288248  ...                0.193375   \n",
       "20P02820215_BEHC18_POS          1.185639  ...               -1.422908   \n",
       "20P02820224_BEHC18_POS          0.853454  ...               -0.911592   \n",
       "20P02820213_BEHC18_POS          0.526880  ...               -0.687002   \n",
       "\n",
       "                        Palmitoleic acid  Docosahexaenoic acid  \\\n",
       "20P02820216_BEHC18_POS         -2.066976             -1.405936   \n",
       "20P02820217_BEHC18_POS          0.840322              0.622559   \n",
       "20P02820215_BEHC18_POS         -1.724052             -1.774770   \n",
       "20P02820224_BEHC18_POS         -1.418438             -0.537543   \n",
       "20P02820213_BEHC18_POS         -0.961304             -0.372402   \n",
       "\n",
       "                        Arachidonic acid  1-oleoyl-rac-glycerol  \\\n",
       "20P02820216_BEHC18_POS         -0.653045              -1.670770   \n",
       "20P02820217_BEHC18_POS          1.475310              -1.022829   \n",
       "20P02820215_BEHC18_POS          0.791443              -1.082658   \n",
       "20P02820224_BEHC18_POS         -0.032834              -0.475210   \n",
       "20P02820213_BEHC18_POS         -0.617674              -0.498667   \n",
       "\n",
       "                        Docosapentaenoic acid  \\\n",
       "20P02820216_BEHC18_POS              -1.452937   \n",
       "20P02820217_BEHC18_POS               0.983929   \n",
       "20P02820215_BEHC18_POS              -1.375451   \n",
       "20P02820224_BEHC18_POS              -1.083488   \n",
       "20P02820213_BEHC18_POS              -0.792231   \n",
       "\n",
       "                        Eicosapentaenoic acid methyl ester    Citral  \\\n",
       "20P02820216_BEHC18_POS                           -0.679753 -1.280216   \n",
       "20P02820217_BEHC18_POS                            0.924482 -0.450560   \n",
       "20P02820215_BEHC18_POS                           -0.257800 -0.661397   \n",
       "20P02820224_BEHC18_POS                            0.553412 -1.077154   \n",
       "20P02820213_BEHC18_POS                            0.651163 -1.073297   \n",
       "\n",
       "                        3-acetyl-11-keto-beta-boswellic acid    Oleate  \n",
       "20P02820216_BEHC18_POS                             -0.928677 -1.959673  \n",
       "20P02820217_BEHC18_POS                             -0.317328  0.849991  \n",
       "20P02820215_BEHC18_POS                             -1.003525 -1.687071  \n",
       "20P02820224_BEHC18_POS                             -0.671116 -1.422177  \n",
       "20P02820213_BEHC18_POS                             -1.071656 -0.783467  \n",
       "\n",
       "[5 rows x 515 columns]"
      ]
     },
     "execution_count": 3,
     "metadata": {},
     "output_type": "execute_result"
    }
   ],
   "source": [
    "print(len(df_values))\n",
    "data_filt = df_values.loc[:, df_values.isin([' ', np.nan, 0]).mean() < 0.5]\n",
    "print(len(data_filt))\n",
    "imputed_mat = data_filt.fillna(data_filt.median())\n",
    "print(len(imputed_mat))\n",
    "log2_mat = np.log2(imputed_mat)\n",
    "print(len(log2_mat))\n",
    "processed_data = pd.DataFrame(StandardScaler().fit_transform(log2_mat), columns=imputed_mat.columns, index=imputed_mat.index)\n",
    "print(len(processed_data))\n",
    "processed_data.head()\n"
   ]
  },
  {
   "cell_type": "code",
   "execution_count": 4,
   "metadata": {},
   "outputs": [
    {
     "data": {
      "text/plain": [
       "Spermidine                                   -4.727583e-15\n",
       "L-lysine                                      2.678589e-15\n",
       "Pipecolate                                    1.094764e-15\n",
       "D-ornithine                                   3.592063e-15\n",
       "Nepsilon,nepsilon,nepsilon-trimethyllysine   -2.169854e-15\n",
       "dtype: float64"
      ]
     },
     "execution_count": 4,
     "metadata": {},
     "output_type": "execute_result"
    }
   ],
   "source": [
    "processed_data.mean().head()"
   ]
  },
  {
   "cell_type": "code",
   "execution_count": 5,
   "metadata": {},
   "outputs": [],
   "source": [
    "PCA_covid = PCA(n_components=2)\n",
    "PCA_scores = pd.DataFrame(PCA_covid.fit_transform(processed_data), columns=['PC1', 'PC2'], index=gt.index)\n",
    "PCA_scores['is_bad'] = df_combined['is_bad'].values\n",
    "PCA_scores['age'] = df_combined['age'].values"
   ]
  },
  {
   "cell_type": "code",
   "execution_count": 6,
   "metadata": {},
   "outputs": [
    {
     "data": {
      "text/html": [
       "<div>\n",
       "<style scoped>\n",
       "    .dataframe tbody tr th:only-of-type {\n",
       "        vertical-align: middle;\n",
       "    }\n",
       "\n",
       "    .dataframe tbody tr th {\n",
       "        vertical-align: top;\n",
       "    }\n",
       "\n",
       "    .dataframe thead th {\n",
       "        text-align: right;\n",
       "    }\n",
       "</style>\n",
       "<table border=\"1\" class=\"dataframe\">\n",
       "  <thead>\n",
       "    <tr style=\"text-align: right;\">\n",
       "      <th></th>\n",
       "      <th>PC1</th>\n",
       "      <th>PC2</th>\n",
       "      <th>is_bad</th>\n",
       "      <th>age</th>\n",
       "    </tr>\n",
       "  </thead>\n",
       "  <tbody>\n",
       "    <tr>\n",
       "      <th>20P02820216_BEHC18_POS</th>\n",
       "      <td>-5.662997</td>\n",
       "      <td>-10.040840</td>\n",
       "      <td>0</td>\n",
       "      <td>30</td>\n",
       "    </tr>\n",
       "    <tr>\n",
       "      <th>20P02820217_BEHC18_POS</th>\n",
       "      <td>-7.385892</td>\n",
       "      <td>-10.579881</td>\n",
       "      <td>0</td>\n",
       "      <td>21</td>\n",
       "    </tr>\n",
       "    <tr>\n",
       "      <th>20P02820215_BEHC18_POS</th>\n",
       "      <td>-7.695512</td>\n",
       "      <td>-7.592914</td>\n",
       "      <td>0</td>\n",
       "      <td>39</td>\n",
       "    </tr>\n",
       "    <tr>\n",
       "      <th>20P02820224_BEHC18_POS</th>\n",
       "      <td>-5.937817</td>\n",
       "      <td>-9.951961</td>\n",
       "      <td>0</td>\n",
       "      <td>42</td>\n",
       "    </tr>\n",
       "    <tr>\n",
       "      <th>20P02820213_BEHC18_POS</th>\n",
       "      <td>-7.123620</td>\n",
       "      <td>-7.891134</td>\n",
       "      <td>0</td>\n",
       "      <td>64</td>\n",
       "    </tr>\n",
       "  </tbody>\n",
       "</table>\n",
       "</div>"
      ],
      "text/plain": [
       "                             PC1        PC2  is_bad  age\n",
       "20P02820216_BEHC18_POS -5.662997 -10.040840       0   30\n",
       "20P02820217_BEHC18_POS -7.385892 -10.579881       0   21\n",
       "20P02820215_BEHC18_POS -7.695512  -7.592914       0   39\n",
       "20P02820224_BEHC18_POS -5.937817  -9.951961       0   42\n",
       "20P02820213_BEHC18_POS -7.123620  -7.891134       0   64"
      ]
     },
     "execution_count": 6,
     "metadata": {},
     "output_type": "execute_result"
    }
   ],
   "source": [
    "PCA_scores.head(5)"
   ]
  },
  {
   "cell_type": "code",
   "execution_count": 7,
   "metadata": {},
   "outputs": [
    {
     "data": {
      "image/png": "[encoded data removed]",
      "text/plain": [
       "<Figure size 1000x500 with 2 Axes>"
      ]
     },
     "metadata": {},
     "output_type": "display_data"
    }
   ],
   "source": [
    "sns.set_style('darkgrid')\n",
    "fig, (ax1, ax2) = plt.subplots(1, 2, figsize=(10, 5))\n",
    "\n",
    "sns.scatterplot(\n",
    "    data=PCA_scores,\n",
    "    x='PC1',\n",
    "    y='PC2',\n",
    "    hue='is_bad',\n",
    "    linewidth=0.5,\n",
    "    edgecolor='k',\n",
    "    s=50,\n",
    "    # palette='Reds',\n",
    "    # hue_order=['0', '1-2', '3-4', '5-7'],\n",
    "    ax=ax1\n",
    ")\n",
    "\n",
    "sns.scatterplot(\n",
    "    data=PCA_scores,\n",
    "    x='PC1',\n",
    "    y='PC2',\n",
    "    hue='age',\n",
    "    linewidth=0.5,\n",
    "    edgecolor='k',\n",
    "    s=50,\n",
    "    palette='Reds',\n",
    "    hue_order=['0', '1-2', '3-4', '5-7'],\n",
    "    ax=ax2\n",
    ")\n",
    "plt.show()"
   ]
  },
  {
   "cell_type": "code",
   "execution_count": 8,
   "metadata": {},
   "outputs": [],
   "source": [
    "# processed_data.to_csv(\"transomic_covid_data_processed_gt.csv\")\n",
    "compound_names = processed_data.columns.tolist()\n",
    "# df = pd.DataFrame({\"Compounds\": compound_names})\n",
    "# df.to_csv(\"Compounds_to_metaboanalyse_gt.csv\")"
   ]
  },
  {
   "cell_type": "code",
   "execution_count": 9,
   "metadata": {},
   "outputs": [
    {
     "data": {
      "text/html": [
       "<div>\n",
       "<style scoped>\n",
       "    .dataframe tbody tr th:only-of-type {\n",
       "        vertical-align: middle;\n",
       "    }\n",
       "\n",
       "    .dataframe tbody tr th {\n",
       "        vertical-align: top;\n",
       "    }\n",
       "\n",
       "    .dataframe thead th {\n",
       "        text-align: right;\n",
       "    }\n",
       "</style>\n",
       "<table border=\"1\" class=\"dataframe\">\n",
       "  <thead>\n",
       "    <tr style=\"text-align: right;\">\n",
       "      <th></th>\n",
       "      <th>Query</th>\n",
       "      <th>Match</th>\n",
       "      <th>HMDB</th>\n",
       "      <th>PubChem</th>\n",
       "      <th>ChEBI</th>\n",
       "      <th>KEGG</th>\n",
       "      <th>METLIN</th>\n",
       "      <th>SMILES</th>\n",
       "      <th>Comment</th>\n",
       "    </tr>\n",
       "  </thead>\n",
       "  <tbody>\n",
       "    <tr>\n",
       "      <th>0</th>\n",
       "      <td>Spermidine</td>\n",
       "      <td>Spermidine</td>\n",
       "      <td>HMDB0001257</td>\n",
       "      <td>1102.0</td>\n",
       "      <td>16610</td>\n",
       "      <td>C00315</td>\n",
       "      <td>254.0</td>\n",
       "      <td>NCCCCNCCCN</td>\n",
       "      <td>1</td>\n",
       "    </tr>\n",
       "    <tr>\n",
       "      <th>1</th>\n",
       "      <td>L-lysine</td>\n",
       "      <td>Lysine</td>\n",
       "      <td>HMDB0000182</td>\n",
       "      <td>5962.0</td>\n",
       "      <td>18019</td>\n",
       "      <td>C00047</td>\n",
       "      <td>5200.0</td>\n",
       "      <td>NCCCC[C@H](N)C(O)=O</td>\n",
       "      <td>1</td>\n",
       "    </tr>\n",
       "    <tr>\n",
       "      <th>2</th>\n",
       "      <td>Pipecolate</td>\n",
       "      <td>Pipecolic acid</td>\n",
       "      <td>HMDB0000070</td>\n",
       "      <td>849.0</td>\n",
       "      <td>17964</td>\n",
       "      <td>C00408</td>\n",
       "      <td>50.0</td>\n",
       "      <td>OC(=O)C1CCCCN1</td>\n",
       "      <td>1</td>\n",
       "    </tr>\n",
       "    <tr>\n",
       "      <th>3</th>\n",
       "      <td>D-ornithine</td>\n",
       "      <td>D-Ornithine</td>\n",
       "      <td>HMDB0003374</td>\n",
       "      <td>71082.0</td>\n",
       "      <td>16176</td>\n",
       "      <td>C00515</td>\n",
       "      <td>6910.0</td>\n",
       "      <td>NCCC[C@@H](N)C(O)=O</td>\n",
       "      <td>1</td>\n",
       "    </tr>\n",
       "    <tr>\n",
       "      <th>4</th>\n",
       "      <td>Nepsilon,nepsilon,nepsilon-trimethyllysine</td>\n",
       "      <td>NaN</td>\n",
       "      <td>NaN</td>\n",
       "      <td>NaN</td>\n",
       "      <td>NaN</td>\n",
       "      <td>NaN</td>\n",
       "      <td>NaN</td>\n",
       "      <td>NaN</td>\n",
       "      <td>0</td>\n",
       "    </tr>\n",
       "  </tbody>\n",
       "</table>\n",
       "</div>"
      ],
      "text/plain": [
       "                                        Query           Match         HMDB  \\\n",
       "0                                  Spermidine      Spermidine  HMDB0001257   \n",
       "1                                    L-lysine          Lysine  HMDB0000182   \n",
       "2                                  Pipecolate  Pipecolic acid  HMDB0000070   \n",
       "3                                 D-ornithine     D-Ornithine  HMDB0003374   \n",
       "4  Nepsilon,nepsilon,nepsilon-trimethyllysine             NaN          NaN   \n",
       "\n",
       "   PubChem  ChEBI    KEGG  METLIN               SMILES  Comment  \n",
       "0   1102.0  16610  C00315   254.0           NCCCCNCCCN        1  \n",
       "1   5962.0  18019  C00047  5200.0  NCCCC[C@H](N)C(O)=O        1  \n",
       "2    849.0  17964  C00408    50.0       OC(=O)C1CCCCN1        1  \n",
       "3  71082.0  16176  C00515  6910.0  NCCC[C@@H](N)C(O)=O        1  \n",
       "4      NaN    NaN     NaN     NaN                  NaN        0  "
      ]
     },
     "execution_count": 9,
     "metadata": {},
     "output_type": "execute_result"
    }
   ],
   "source": [
    "conversion_table = pd.read_csv('/Users/pranathipoojary/Projects/mummichog_proj/untargeted_pa/mummichog/pathway_analysis/systematic/name_maps/name_map_gt.csv')\n",
    "conversion_table[\"Comment\"].value_counts()\n",
    "conversion_table.head()"
   ]
  },
  {
   "cell_type": "code",
   "execution_count": 10,
   "metadata": {},
   "outputs": [],
   "source": [
    "processed_data_mapped = sspa.map_identifiers(conversion_table, output_id_type=\"ChEBI\", matrix=processed_data)\n",
    "# processed_data_mapped.head()"
   ]
  },
  {
   "cell_type": "code",
   "execution_count": 11,
   "metadata": {},
   "outputs": [],
   "source": [
    "reactome_pathways  = sspa.process_reactome(organism=\"Homo sapiens\")"
   ]
  },
  {
   "cell_type": "code",
   "execution_count": 12,
   "metadata": {},
   "outputs": [],
   "source": [
    "kegg_human_pathways  = sspa.process_kegg(organism=\"hsa\")"
   ]
  },
  {
   "cell_type": "code",
   "execution_count": 13,
   "metadata": {},
   "outputs": [
    {
     "data": {
      "text/html": [
       "<div>\n",
       "<style scoped>\n",
       "    .dataframe tbody tr th:only-of-type {\n",
       "        vertical-align: middle;\n",
       "    }\n",
       "\n",
       "    .dataframe tbody tr th {\n",
       "        vertical-align: top;\n",
       "    }\n",
       "\n",
       "    .dataframe thead th {\n",
       "        text-align: right;\n",
       "    }\n",
       "</style>\n",
       "<table border=\"1\" class=\"dataframe\">\n",
       "  <thead>\n",
       "    <tr style=\"text-align: right;\">\n",
       "      <th></th>\n",
       "      <th>Pathway_name</th>\n",
       "      <th>0</th>\n",
       "      <th>1</th>\n",
       "      <th>2</th>\n",
       "      <th>3</th>\n",
       "      <th>4</th>\n",
       "      <th>5</th>\n",
       "      <th>6</th>\n",
       "      <th>7</th>\n",
       "      <th>8</th>\n",
       "      <th>...</th>\n",
       "      <th>1468</th>\n",
       "      <th>1469</th>\n",
       "      <th>1470</th>\n",
       "      <th>1471</th>\n",
       "      <th>1472</th>\n",
       "      <th>1473</th>\n",
       "      <th>1474</th>\n",
       "      <th>1475</th>\n",
       "      <th>1476</th>\n",
       "      <th>1477</th>\n",
       "    </tr>\n",
       "  </thead>\n",
       "  <tbody>\n",
       "    <tr>\n",
       "      <th>R-HSA-1059683</th>\n",
       "      <td>Interleukin-6 signaling</td>\n",
       "      <td>30616</td>\n",
       "      <td>456216</td>\n",
       "      <td>None</td>\n",
       "      <td>None</td>\n",
       "      <td>None</td>\n",
       "      <td>None</td>\n",
       "      <td>None</td>\n",
       "      <td>None</td>\n",
       "      <td>None</td>\n",
       "      <td>...</td>\n",
       "      <td>None</td>\n",
       "      <td>None</td>\n",
       "      <td>None</td>\n",
       "      <td>None</td>\n",
       "      <td>None</td>\n",
       "      <td>None</td>\n",
       "      <td>None</td>\n",
       "      <td>None</td>\n",
       "      <td>None</td>\n",
       "      <td>None</td>\n",
       "    </tr>\n",
       "    <tr>\n",
       "      <th>R-HSA-109581</th>\n",
       "      <td>Apoptosis</td>\n",
       "      <td>61120</td>\n",
       "      <td>4705</td>\n",
       "      <td>456216</td>\n",
       "      <td>28494</td>\n",
       "      <td>36080</td>\n",
       "      <td>15377</td>\n",
       "      <td>43474</td>\n",
       "      <td>30616</td>\n",
       "      <td>16412</td>\n",
       "      <td>...</td>\n",
       "      <td>None</td>\n",
       "      <td>None</td>\n",
       "      <td>None</td>\n",
       "      <td>None</td>\n",
       "      <td>None</td>\n",
       "      <td>None</td>\n",
       "      <td>None</td>\n",
       "      <td>None</td>\n",
       "      <td>None</td>\n",
       "      <td>None</td>\n",
       "    </tr>\n",
       "    <tr>\n",
       "      <th>R-HSA-109582</th>\n",
       "      <td>Hemostasis</td>\n",
       "      <td>15366</td>\n",
       "      <td>91144</td>\n",
       "      <td>15377</td>\n",
       "      <td>15378</td>\n",
       "      <td>15379</td>\n",
       "      <td>456215</td>\n",
       "      <td>456216</td>\n",
       "      <td>35366</td>\n",
       "      <td>37941</td>\n",
       "      <td>...</td>\n",
       "      <td>None</td>\n",
       "      <td>None</td>\n",
       "      <td>None</td>\n",
       "      <td>None</td>\n",
       "      <td>None</td>\n",
       "      <td>None</td>\n",
       "      <td>None</td>\n",
       "      <td>None</td>\n",
       "      <td>None</td>\n",
       "      <td>None</td>\n",
       "    </tr>\n",
       "    <tr>\n",
       "      <th>R-HSA-109606</th>\n",
       "      <td>Intrinsic Pathway for Apoptosis</td>\n",
       "      <td>456216</td>\n",
       "      <td>28494</td>\n",
       "      <td>36080</td>\n",
       "      <td>15377</td>\n",
       "      <td>43474</td>\n",
       "      <td>30616</td>\n",
       "      <td>None</td>\n",
       "      <td>None</td>\n",
       "      <td>None</td>\n",
       "      <td>...</td>\n",
       "      <td>None</td>\n",
       "      <td>None</td>\n",
       "      <td>None</td>\n",
       "      <td>None</td>\n",
       "      <td>None</td>\n",
       "      <td>None</td>\n",
       "      <td>None</td>\n",
       "      <td>None</td>\n",
       "      <td>None</td>\n",
       "      <td>None</td>\n",
       "    </tr>\n",
       "    <tr>\n",
       "      <th>R-HSA-109703</th>\n",
       "      <td>PKB-mediated events</td>\n",
       "      <td>456216</td>\n",
       "      <td>16618</td>\n",
       "      <td>17489</td>\n",
       "      <td>15377</td>\n",
       "      <td>456215</td>\n",
       "      <td>30616</td>\n",
       "      <td>None</td>\n",
       "      <td>None</td>\n",
       "      <td>None</td>\n",
       "      <td>...</td>\n",
       "      <td>None</td>\n",
       "      <td>None</td>\n",
       "      <td>None</td>\n",
       "      <td>None</td>\n",
       "      <td>None</td>\n",
       "      <td>None</td>\n",
       "      <td>None</td>\n",
       "      <td>None</td>\n",
       "      <td>None</td>\n",
       "      <td>None</td>\n",
       "    </tr>\n",
       "  </tbody>\n",
       "</table>\n",
       "<p>5 rows × 1479 columns</p>\n",
       "</div>"
      ],
      "text/plain": [
       "                                  Pathway_name       0       1       2      3  \\\n",
       "R-HSA-1059683          Interleukin-6 signaling   30616  456216    None   None   \n",
       "R-HSA-109581                         Apoptosis   61120    4705  456216  28494   \n",
       "R-HSA-109582                        Hemostasis   15366   91144   15377  15378   \n",
       "R-HSA-109606   Intrinsic Pathway for Apoptosis  456216   28494   36080  15377   \n",
       "R-HSA-109703               PKB-mediated events  456216   16618   17489  15377   \n",
       "\n",
       "                    4       5       6      7      8  ...  1468  1469  1470  \\\n",
       "R-HSA-1059683    None    None    None   None   None  ...  None  None  None   \n",
       "R-HSA-109581    36080   15377   43474  30616  16412  ...  None  None  None   \n",
       "R-HSA-109582    15379  456215  456216  35366  37941  ...  None  None  None   \n",
       "R-HSA-109606    43474   30616    None   None   None  ...  None  None  None   \n",
       "R-HSA-109703   456215   30616    None   None   None  ...  None  None  None   \n",
       "\n",
       "               1471  1472  1473  1474  1475  1476  1477  \n",
       "R-HSA-1059683  None  None  None  None  None  None  None  \n",
       "R-HSA-109581   None  None  None  None  None  None  None  \n",
       "R-HSA-109582   None  None  None  None  None  None  None  \n",
       "R-HSA-109606   None  None  None  None  None  None  None  \n",
       "R-HSA-109703   None  None  None  None  None  None  None  \n",
       "\n",
       "[5 rows x 1479 columns]"
      ]
     },
     "execution_count": 13,
     "metadata": {},
     "output_type": "execute_result"
    }
   ],
   "source": [
    "reactome_pathways.head()"
   ]
  },
  {
   "cell_type": "code",
   "execution_count": 14,
   "metadata": {},
   "outputs": [
    {
     "data": {
      "text/html": [
       "<div>\n",
       "<style scoped>\n",
       "    .dataframe tbody tr th:only-of-type {\n",
       "        vertical-align: middle;\n",
       "    }\n",
       "\n",
       "    .dataframe tbody tr th {\n",
       "        vertical-align: top;\n",
       "    }\n",
       "\n",
       "    .dataframe thead th {\n",
       "        text-align: right;\n",
       "    }\n",
       "</style>\n",
       "<table border=\"1\" class=\"dataframe\">\n",
       "  <thead>\n",
       "    <tr style=\"text-align: right;\">\n",
       "      <th></th>\n",
       "      <th>Pathway_name</th>\n",
       "      <th>0</th>\n",
       "      <th>1</th>\n",
       "      <th>2</th>\n",
       "      <th>3</th>\n",
       "      <th>4</th>\n",
       "      <th>5</th>\n",
       "      <th>6</th>\n",
       "      <th>7</th>\n",
       "      <th>8</th>\n",
       "      <th>...</th>\n",
       "      <th>316</th>\n",
       "      <th>317</th>\n",
       "      <th>318</th>\n",
       "      <th>319</th>\n",
       "      <th>320</th>\n",
       "      <th>321</th>\n",
       "      <th>322</th>\n",
       "      <th>323</th>\n",
       "      <th>324</th>\n",
       "      <th>325</th>\n",
       "    </tr>\n",
       "  </thead>\n",
       "  <tbody>\n",
       "    <tr>\n",
       "      <th>hsa00010</th>\n",
       "      <td>Glycolysis / Gluconeogenesis - Homo sapiens (h...</td>\n",
       "      <td>C00221</td>\n",
       "      <td>C15972</td>\n",
       "      <td>C01159</td>\n",
       "      <td>C00267</td>\n",
       "      <td>C06188</td>\n",
       "      <td>C06187</td>\n",
       "      <td>C00022</td>\n",
       "      <td>C01451</td>\n",
       "      <td>C00118</td>\n",
       "      <td>...</td>\n",
       "      <td>None</td>\n",
       "      <td>None</td>\n",
       "      <td>None</td>\n",
       "      <td>None</td>\n",
       "      <td>None</td>\n",
       "      <td>None</td>\n",
       "      <td>None</td>\n",
       "      <td>None</td>\n",
       "      <td>None</td>\n",
       "      <td>None</td>\n",
       "    </tr>\n",
       "    <tr>\n",
       "      <th>hsa00020</th>\n",
       "      <td>Citrate cycle (TCA cycle) - Homo sapiens (human)</td>\n",
       "      <td>C15972</td>\n",
       "      <td>C00026</td>\n",
       "      <td>C00022</td>\n",
       "      <td>C05125</td>\n",
       "      <td>C00024</td>\n",
       "      <td>C16255</td>\n",
       "      <td>C00122</td>\n",
       "      <td>C00417</td>\n",
       "      <td>C00158</td>\n",
       "      <td>...</td>\n",
       "      <td>None</td>\n",
       "      <td>None</td>\n",
       "      <td>None</td>\n",
       "      <td>None</td>\n",
       "      <td>None</td>\n",
       "      <td>None</td>\n",
       "      <td>None</td>\n",
       "      <td>None</td>\n",
       "      <td>None</td>\n",
       "      <td>None</td>\n",
       "    </tr>\n",
       "    <tr>\n",
       "      <th>hsa00030</th>\n",
       "      <td>Pentose phosphate pathway - Homo sapiens (human)</td>\n",
       "      <td>C03752</td>\n",
       "      <td>C00221</td>\n",
       "      <td>C01801</td>\n",
       "      <td>C00257</td>\n",
       "      <td>C00258</td>\n",
       "      <td>C20589</td>\n",
       "      <td>C00121</td>\n",
       "      <td>C00620</td>\n",
       "      <td>C00022</td>\n",
       "      <td>...</td>\n",
       "      <td>None</td>\n",
       "      <td>None</td>\n",
       "      <td>None</td>\n",
       "      <td>None</td>\n",
       "      <td>None</td>\n",
       "      <td>None</td>\n",
       "      <td>None</td>\n",
       "      <td>None</td>\n",
       "      <td>None</td>\n",
       "      <td>None</td>\n",
       "    </tr>\n",
       "    <tr>\n",
       "      <th>hsa00040</th>\n",
       "      <td>Pentose and glucuronate interconversions - Hom...</td>\n",
       "      <td>C20680</td>\n",
       "      <td>C06441</td>\n",
       "      <td>C00508</td>\n",
       "      <td>C04575</td>\n",
       "      <td>C00474</td>\n",
       "      <td>C00714</td>\n",
       "      <td>C00532</td>\n",
       "      <td>C05411</td>\n",
       "      <td>C00026</td>\n",
       "      <td>...</td>\n",
       "      <td>None</td>\n",
       "      <td>None</td>\n",
       "      <td>None</td>\n",
       "      <td>None</td>\n",
       "      <td>None</td>\n",
       "      <td>None</td>\n",
       "      <td>None</td>\n",
       "      <td>None</td>\n",
       "      <td>None</td>\n",
       "      <td>None</td>\n",
       "    </tr>\n",
       "    <tr>\n",
       "      <th>hsa00051</th>\n",
       "      <td>Fructose and mannose metabolism - Homo sapiens...</td>\n",
       "      <td>C01721</td>\n",
       "      <td>C00424</td>\n",
       "      <td>C00976</td>\n",
       "      <td>C00096</td>\n",
       "      <td>C00267</td>\n",
       "      <td>C00159</td>\n",
       "      <td>C01099</td>\n",
       "      <td>C11544</td>\n",
       "      <td>C01934</td>\n",
       "      <td>...</td>\n",
       "      <td>None</td>\n",
       "      <td>None</td>\n",
       "      <td>None</td>\n",
       "      <td>None</td>\n",
       "      <td>None</td>\n",
       "      <td>None</td>\n",
       "      <td>None</td>\n",
       "      <td>None</td>\n",
       "      <td>None</td>\n",
       "      <td>None</td>\n",
       "    </tr>\n",
       "  </tbody>\n",
       "</table>\n",
       "<p>5 rows × 327 columns</p>\n",
       "</div>"
      ],
      "text/plain": [
       "                                               Pathway_name       0       1  \\\n",
       "hsa00010  Glycolysis / Gluconeogenesis - Homo sapiens (h...  C00221  C15972   \n",
       "hsa00020   Citrate cycle (TCA cycle) - Homo sapiens (human)  C15972  C00026   \n",
       "hsa00030   Pentose phosphate pathway - Homo sapiens (human)  C03752  C00221   \n",
       "hsa00040  Pentose and glucuronate interconversions - Hom...  C20680  C06441   \n",
       "hsa00051  Fructose and mannose metabolism - Homo sapiens...  C01721  C00424   \n",
       "\n",
       "               2       3       4       5       6       7       8  ...   316  \\\n",
       "hsa00010  C01159  C00267  C06188  C06187  C00022  C01451  C00118  ...  None   \n",
       "hsa00020  C00022  C05125  C00024  C16255  C00122  C00417  C00158  ...  None   \n",
       "hsa00030  C01801  C00257  C00258  C20589  C00121  C00620  C00022  ...  None   \n",
       "hsa00040  C00508  C04575  C00474  C00714  C00532  C05411  C00026  ...  None   \n",
       "hsa00051  C00976  C00096  C00267  C00159  C01099  C11544  C01934  ...  None   \n",
       "\n",
       "           317   318   319   320   321   322   323   324   325  \n",
       "hsa00010  None  None  None  None  None  None  None  None  None  \n",
       "hsa00020  None  None  None  None  None  None  None  None  None  \n",
       "hsa00030  None  None  None  None  None  None  None  None  None  \n",
       "hsa00040  None  None  None  None  None  None  None  None  None  \n",
       "hsa00051  None  None  None  None  None  None  None  None  None  \n",
       "\n",
       "[5 rows x 327 columns]"
      ]
     },
     "execution_count": 14,
     "metadata": {},
     "output_type": "execute_result"
    }
   ],
   "source": [
    "kegg_human_pathways.head()"
   ]
  },
  {
   "cell_type": "code",
   "execution_count": 15,
   "metadata": {},
   "outputs": [
    {
     "name": "stdout",
     "output_type": "stream",
     "text": [
      "515 compounds in the dataset\n"
     ]
    }
   ],
   "source": [
    "## if using Reactome database as the pathway database\n",
    "# count all compounds in the dataset\n",
    "print(len(compound_names), \"compounds in the dataset\")\n",
    "\n",
    "# find how many input compound names in the dataset had a matching ChEBI ID\n",
    "# chebi_matches = conversion_table[(conversion_table[\"Comment\"] == 1) & (conversion_table[\"ChEBI\"].isnull()==False)][\"ChEBI\"]\n",
    "# print(len(chebi_matches), \"compounds from the dataset that have ChEBI IDs\")\n",
    "\n",
    "# # count all unique compounds in the Reactome database\n",
    "# all_reactome_cpds = set(sum(sspa.utils.pathwaydf_to_dict(reactome_pathways).values(), []))\n",
    "# print(all_reactome_cpds)\n",
    "# print(len(all_reactome_cpds), \"total unique compounds in Reactome\")\n",
    "\n",
    "# # find the intesect between all reactome compounds and all ChEBI IDs annotated to the dataset\n",
    "# mapped_annotated_cpds = set(processed_data_mapped.columns) & all_reactome_cpds\n",
    "# print(len(mapped_annotated_cpds), \"compounds present in both the dataset and Reactome pathways\")"
   ]
  },
  {
   "cell_type": "code",
   "execution_count": 16,
   "metadata": {},
   "outputs": [
    {
     "name": "stdout",
     "output_type": "stream",
     "text": [
      "515 compounds in the dataset\n",
      "284 compounds from the dataset that have KEGG IDs\n",
      "3398\n",
      "150 compounds present in both the dataset and kegg pathways\n"
     ]
    }
   ],
   "source": [
    "print(len(compound_names), \"compounds in the dataset\")\n",
    "kegg_matches = conversion_table[(conversion_table[\"Comment\"] == 1) & (conversion_table[\"KEGG\"].isnull()==False)][\"KEGG\"]\n",
    "print(len(kegg_matches), \"compounds from the dataset that have KEGG IDs\")\n",
    "\n",
    "kegg_human_pathways  = sspa.process_kegg(organism=\"hsa\")\n",
    "processed_data_mapped = sspa.map_identifiers(conversion_table, output_id_type=\"KEGG\", matrix=processed_data)\n",
    "all_kegg_cpds = set(sum(sspa.utils.pathwaydf_to_dict(kegg_human_pathways).values(), []))\n",
    "print(len(all_kegg_cpds))\n",
    "mapped_annotated_cpds = set(processed_data_mapped.columns) & all_kegg_cpds\n",
    "print(len(mapped_annotated_cpds), \"compounds present in both the dataset and kegg pathways\")"
   ]
  },
  {
   "cell_type": "code",
   "execution_count": 17,
   "metadata": {},
   "outputs": [
    {
     "data": {
      "image/png": "[encoded data removed]",
      "text/plain": [
       "<Figure size 640x480 with 1 Axes>"
      ]
     },
     "metadata": {},
     "output_type": "display_data"
    }
   ],
   "source": [
    "sns.set_context('notebook')\n",
    "sns.set_style('ticks')\n",
    "sns.barplot(\n",
    "    y=[len(compound_names), len(kegg_matches), len(mapped_annotated_cpds)],\n",
    "    x=['Original', 'Mapping to KEGG ID', 'Mapping to KEGG ID \\n and annotated to KEGG']\n",
    "    )\n",
    "plt.tight_layout()\n",
    "plt.show()"
   ]
  },
  {
   "cell_type": "code",
   "execution_count": 18,
   "metadata": {},
   "outputs": [
    {
     "data": {
      "application/vnd.plotly.v1+json": {
       "config": {
        "plotlyServerURL": "https://plot.ly"
       },
       "data": [
        {
         "hovertemplate": "count=%{x}<br>label=%{y}<extra></extra>",
         "legendgroup": "",
         "marker": {
          "color": "#636efa"
         },
         "name": "",
         "orientation": "h",
         "showlegend": false,
         "type": "funnel",
         "x": [
          515,
          284,
          150
         ],
         "xaxis": "x",
         "y": [
          "Ground Truth Annotations",
          "Annotations with KEGG ID",
          "Annotated to KEGG pathways"
         ],
         "yaxis": "y"
        }
       ],
       "layout": {
        "legend": {
         "tracegroupgap": 0
        },
        "margin": {
         "t": 60
        },
        "template": {
         "data": {
          "bar": [
           {
            "error_x": {
             "color": "#2a3f5f"
            },
            "error_y": {
             "color": "#2a3f5f"
            },
            "marker": {
             "line": {
              "color": "#E5ECF6",
              "width": 0.5
             },
             "pattern": {
              "fillmode": "overlay",
              "size": 10,
              "solidity": 0.2
             }
            },
            "type": "bar"
           }
          ],
          "barpolar": [
           {
            "marker": {
             "line": {
              "color": "#E5ECF6",
              "width": 0.5
             },
             "pattern": {
              "fillmode": "overlay",
              "size": 10,
              "solidity": 0.2
             }
            },
            "type": "barpolar"
           }
          ],
          "carpet": [
           {
            "aaxis": {
             "endlinecolor": "#2a3f5f",
             "gridcolor": "white",
             "linecolor": "white",
             "minorgridcolor": "white",
             "startlinecolor": "#2a3f5f"
            },
            "baxis": {
             "endlinecolor": "#2a3f5f",
             "gridcolor": "white",
             "linecolor": "white",
             "minorgridcolor": "white",
             "startlinecolor": "#2a3f5f"
            },
            "type": "carpet"
           }
          ],
          "choropleth": [
           {
            "colorbar": {
             "outlinewidth": 0,
             "ticks": ""
            },
            "type": "choropleth"
           }
          ],
          "contour": [
           {
            "colorbar": {
             "outlinewidth": 0,
             "ticks": ""
            },
            "colorscale": [
             [
              0,
              "#0d0887"
             ],
             [
              0.1111111111111111,
              "#46039f"
             ],
             [
              0.2222222222222222,
              "#7201a8"
             ],
             [
              0.3333333333333333,
              "#9c179e"
             ],
             [
              0.4444444444444444,
              "#bd3786"
             ],
             [
              0.5555555555555556,
              "#d8576b"
             ],
             [
              0.6666666666666666,
              "#ed7953"
             ],
             [
              0.7777777777777778,
              "#fb9f3a"
             ],
             [
              0.8888888888888888,
              "#fdca26"
             ],
             [
              1,
              "#f0f921"
             ]
            ],
            "type": "contour"
           }
          ],
          "contourcarpet": [
           {
            "colorbar": {
             "outlinewidth": 0,
             "ticks": ""
            },
            "type": "contourcarpet"
           }
          ],
          "heatmap": [
           {
            "colorbar": {
             "outlinewidth": 0,
             "ticks": ""
            },
            "colorscale": [
             [
              0,
              "#0d0887"
             ],
             [
              0.1111111111111111,
              "#46039f"
             ],
             [
              0.2222222222222222,
              "#7201a8"
             ],
             [
              0.3333333333333333,
              "#9c179e"
             ],
             [
              0.4444444444444444,
              "#bd3786"
             ],
             [
              0.5555555555555556,
              "#d8576b"
             ],
             [
              0.6666666666666666,
              "#ed7953"
             ],
             [
              0.7777777777777778,
              "#fb9f3a"
             ],
             [
              0.8888888888888888,
              "#fdca26"
             ],
             [
              1,
              "#f0f921"
             ]
            ],
            "type": "heatmap"
           }
          ],
          "heatmapgl": [
           {
            "colorbar": {
             "outlinewidth": 0,
             "ticks": ""
            },
            "colorscale": [
             [
              0,
              "#0d0887"
             ],
             [
              0.1111111111111111,
              "#46039f"
             ],
             [
              0.2222222222222222,
              "#7201a8"
             ],
             [
              0.3333333333333333,
              "#9c179e"
             ],
             [
              0.4444444444444444,
              "#bd3786"
             ],
             [
              0.5555555555555556,
              "#d8576b"
             ],
             [
              0.6666666666666666,
              "#ed7953"
             ],
             [
              0.7777777777777778,
              "#fb9f3a"
             ],
             [
              0.8888888888888888,
              "#fdca26"
             ],
             [
              1,
              "#f0f921"
             ]
            ],
            "type": "heatmapgl"
           }
          ],
          "histogram": [
           {
            "marker": {
             "pattern": {
              "fillmode": "overlay",
              "size": 10,
              "solidity": 0.2
             }
            },
            "type": "histogram"
           }
          ],
          "histogram2d": [
           {
            "colorbar": {
             "outlinewidth": 0,
             "ticks": ""
            },
            "colorscale": [
             [
              0,
              "#0d0887"
             ],
             [
              0.1111111111111111,
              "#46039f"
             ],
             [
              0.2222222222222222,
              "#7201a8"
             ],
             [
              0.3333333333333333,
              "#9c179e"
             ],
             [
              0.4444444444444444,
              "#bd3786"
             ],
             [
              0.5555555555555556,
              "#d8576b"
             ],
             [
              0.6666666666666666,
              "#ed7953"
             ],
             [
              0.7777777777777778,
              "#fb9f3a"
             ],
             [
              0.8888888888888888,
              "#fdca26"
             ],
             [
              1,
              "#f0f921"
             ]
            ],
            "type": "histogram2d"
           }
          ],
          "histogram2dcontour": [
           {
            "colorbar": {
             "outlinewidth": 0,
             "ticks": ""
            },
            "colorscale": [
             [
              0,
              "#0d0887"
             ],
             [
              0.1111111111111111,
              "#46039f"
             ],
             [
              0.2222222222222222,
              "#7201a8"
             ],
             [
              0.3333333333333333,
              "#9c179e"
             ],
             [
              0.4444444444444444,
              "#bd3786"
             ],
             [
              0.5555555555555556,
              "#d8576b"
             ],
             [
              0.6666666666666666,
              "#ed7953"
             ],
             [
              0.7777777777777778,
              "#fb9f3a"
             ],
             [
              0.8888888888888888,
              "#fdca26"
             ],
             [
              1,
              "#f0f921"
             ]
            ],
            "type": "histogram2dcontour"
           }
          ],
          "mesh3d": [
           {
            "colorbar": {
             "outlinewidth": 0,
             "ticks": ""
            },
            "type": "mesh3d"
           }
          ],
          "parcoords": [
           {
            "line": {
             "colorbar": {
              "outlinewidth": 0,
              "ticks": ""
             }
            },
            "type": "parcoords"
           }
          ],
          "pie": [
           {
            "automargin": true,
            "type": "pie"
           }
          ],
          "scatter": [
           {
            "fillpattern": {
             "fillmode": "overlay",
             "size": 10,
             "solidity": 0.2
            },
            "type": "scatter"
           }
          ],
          "scatter3d": [
           {
            "line": {
             "colorbar": {
              "outlinewidth": 0,
              "ticks": ""
             }
            },
            "marker": {
             "colorbar": {
              "outlinewidth": 0,
              "ticks": ""
             }
            },
            "type": "scatter3d"
           }
          ],
          "scattercarpet": [
           {
            "marker": {
             "colorbar": {
              "outlinewidth": 0,
              "ticks": ""
             }
            },
            "type": "scattercarpet"
           }
          ],
          "scattergeo": [
           {
            "marker": {
             "colorbar": {
              "outlinewidth": 0,
              "ticks": ""
             }
            },
            "type": "scattergeo"
           }
          ],
          "scattergl": [
           {
            "marker": {
             "colorbar": {
              "outlinewidth": 0,
              "ticks": ""
             }
            },
            "type": "scattergl"
           }
          ],
          "scattermapbox": [
           {
            "marker": {
             "colorbar": {
              "outlinewidth": 0,
              "ticks": ""
             }
            },
            "type": "scattermapbox"
           }
          ],
          "scatterpolar": [
           {
            "marker": {
             "colorbar": {
              "outlinewidth": 0,
              "ticks": ""
             }
            },
            "type": "scatterpolar"
           }
          ],
          "scatterpolargl": [
           {
            "marker": {
             "colorbar": {
              "outlinewidth": 0,
              "ticks": ""
             }
            },
            "type": "scatterpolargl"
           }
          ],
          "scatterternary": [
           {
            "marker": {
             "colorbar": {
              "outlinewidth": 0,
              "ticks": ""
             }
            },
            "type": "scatterternary"
           }
          ],
          "surface": [
           {
            "colorbar": {
             "outlinewidth": 0,
             "ticks": ""
            },
            "colorscale": [
             [
              0,
              "#0d0887"
             ],
             [
              0.1111111111111111,
              "#46039f"
             ],
             [
              0.2222222222222222,
              "#7201a8"
             ],
             [
              0.3333333333333333,
              "#9c179e"
             ],
             [
              0.4444444444444444,
              "#bd3786"
             ],
             [
              0.5555555555555556,
              "#d8576b"
             ],
             [
              0.6666666666666666,
              "#ed7953"
             ],
             [
              0.7777777777777778,
              "#fb9f3a"
             ],
             [
              0.8888888888888888,
              "#fdca26"
             ],
             [
              1,
              "#f0f921"
             ]
            ],
            "type": "surface"
           }
          ],
          "table": [
           {
            "cells": {
             "fill": {
              "color": "#EBF0F8"
             },
             "line": {
              "color": "white"
             }
            },
            "header": {
             "fill": {
              "color": "#C8D4E3"
             },
             "line": {
              "color": "white"
             }
            },
            "type": "table"
           }
          ]
         },
         "layout": {
          "annotationdefaults": {
           "arrowcolor": "#2a3f5f",
           "arrowhead": 0,
           "arrowwidth": 1
          },
          "autotypenumbers": "strict",
          "coloraxis": {
           "colorbar": {
            "outlinewidth": 0,
            "ticks": ""
           }
          },
          "colorscale": {
           "diverging": [
            [
             0,
             "#8e0152"
            ],
            [
             0.1,
             "#c51b7d"
            ],
            [
             0.2,
             "#de77ae"
            ],
            [
             0.3,
             "#f1b6da"
            ],
            [
             0.4,
             "#fde0ef"
            ],
            [
             0.5,
             "#f7f7f7"
            ],
            [
             0.6,
             "#e6f5d0"
            ],
            [
             0.7,
             "#b8e186"
            ],
            [
             0.8,
             "#7fbc41"
            ],
            [
             0.9,
             "#4d9221"
            ],
            [
             1,
             "#276419"
            ]
           ],
           "sequential": [
            [
             0,
             "#0d0887"
            ],
            [
             0.1111111111111111,
             "#46039f"
            ],
            [
             0.2222222222222222,
             "#7201a8"
            ],
            [
             0.3333333333333333,
             "#9c179e"
            ],
            [
             0.4444444444444444,
             "#bd3786"
            ],
            [
             0.5555555555555556,
             "#d8576b"
            ],
            [
             0.6666666666666666,
             "#ed7953"
            ],
            [
             0.7777777777777778,
             "#fb9f3a"
            ],
            [
             0.8888888888888888,
             "#fdca26"
            ],
            [
             1,
             "#f0f921"
            ]
           ],
           "sequentialminus": [
            [
             0,
             "#0d0887"
            ],
            [
             0.1111111111111111,
             "#46039f"
            ],
            [
             0.2222222222222222,
             "#7201a8"
            ],
            [
             0.3333333333333333,
             "#9c179e"
            ],
            [
             0.4444444444444444,
             "#bd3786"
            ],
            [
             0.5555555555555556,
             "#d8576b"
            ],
            [
             0.6666666666666666,
             "#ed7953"
            ],
            [
             0.7777777777777778,
             "#fb9f3a"
            ],
            [
             0.8888888888888888,
             "#fdca26"
            ],
            [
             1,
             "#f0f921"
            ]
           ]
          },
          "colorway": [
           "#636efa",
           "#EF553B",
           "#00cc96",
           "#ab63fa",
           "#FFA15A",
           "#19d3f3",
           "#FF6692",
           "#B6E880",
           "#FF97FF",
           "#FECB52"
          ],
          "font": {
           "color": "#2a3f5f"
          },
          "geo": {
           "bgcolor": "white",
           "lakecolor": "white",
           "landcolor": "#E5ECF6",
           "showlakes": true,
           "showland": true,
           "subunitcolor": "white"
          },
          "hoverlabel": {
           "align": "left"
          },
          "hovermode": "closest",
          "mapbox": {
           "style": "light"
          },
          "paper_bgcolor": "white",
          "plot_bgcolor": "#E5ECF6",
          "polar": {
           "angularaxis": {
            "gridcolor": "white",
            "linecolor": "white",
            "ticks": ""
           },
           "bgcolor": "#E5ECF6",
           "radialaxis": {
            "gridcolor": "white",
            "linecolor": "white",
            "ticks": ""
           }
          },
          "scene": {
           "xaxis": {
            "backgroundcolor": "#E5ECF6",
            "gridcolor": "white",
            "gridwidth": 2,
            "linecolor": "white",
            "showbackground": true,
            "ticks": "",
            "zerolinecolor": "white"
           },
           "yaxis": {
            "backgroundcolor": "#E5ECF6",
            "gridcolor": "white",
            "gridwidth": 2,
            "linecolor": "white",
            "showbackground": true,
            "ticks": "",
            "zerolinecolor": "white"
           },
           "zaxis": {
            "backgroundcolor": "#E5ECF6",
            "gridcolor": "white",
            "gridwidth": 2,
            "linecolor": "white",
            "showbackground": true,
            "ticks": "",
            "zerolinecolor": "white"
           }
          },
          "shapedefaults": {
           "line": {
            "color": "#2a3f5f"
           }
          },
          "ternary": {
           "aaxis": {
            "gridcolor": "white",
            "linecolor": "white",
            "ticks": ""
           },
           "baxis": {
            "gridcolor": "white",
            "linecolor": "white",
            "ticks": ""
           },
           "bgcolor": "#E5ECF6",
           "caxis": {
            "gridcolor": "white",
            "linecolor": "white",
            "ticks": ""
           }
          },
          "title": {
           "x": 0.05
          },
          "xaxis": {
           "automargin": true,
           "gridcolor": "white",
           "linecolor": "white",
           "ticks": "",
           "title": {
            "standoff": 15
           },
           "zerolinecolor": "white",
           "zerolinewidth": 2
          },
          "yaxis": {
           "automargin": true,
           "gridcolor": "white",
           "linecolor": "white",
           "ticks": "",
           "title": {
            "standoff": 15
           },
           "zerolinecolor": "white",
           "zerolinewidth": 2
          }
         }
        },
        "xaxis": {
         "anchor": "y",
         "domain": [
          0,
          1
         ],
         "title": {
          "text": "count"
         }
        },
        "yaxis": {
         "anchor": "x",
         "domain": [
          0,
          1
         ],
         "title": {
          "text": "label"
         }
        }
       }
      }
     },
     "metadata": {},
     "output_type": "display_data"
    }
   ],
   "source": [
    "data = dict(count=[len(compound_names), len(kegg_matches), len(mapped_annotated_cpds)],\n",
    "            label=['Ground Truth Annotations', 'Annotations with KEGG ID', 'Annotated to KEGG pathways'])\n",
    "\n",
    "fig = px.funnel(data, x='count', y='label')\n",
    "fig.show(renderer=\"vscode\")"
   ]
  },
  {
   "cell_type": "code",
   "execution_count": 19,
   "metadata": {},
   "outputs": [],
   "source": [
    "# import plotly.io as pio\n",
    "# pio.renderers.default = \"notebook\"\n",
    "\n",
    "# df = pd.DataFrame(compound_names, columns=['Original_ID'])\n",
    "# df[\"Matched_ID\"] = df['Original_ID'].map(dict(zip(conversion_table[\"Query\"], conversion_table[\"ChEBI\"])))\n",
    "# df[\"In_pathway\"] = [i if i in mapped_annotated_cpds else \"NA\" for i in df[\"Matched_ID\"] ]\n",
    "# df = df.replace({\"NA\":0})\n",
    "# df[df != 0] = 1\n",
    "# df = df.astype(\"float\")\n",
    "# df.index = compound_names\n",
    "\n",
    "# fig = px.bar(df)\n",
    "# fig.show(renderer=\"vscode\")"
   ]
  },
  {
   "cell_type": "code",
   "execution_count": 20,
   "metadata": {},
   "outputs": [
    {
     "name": "stdout",
     "output_type": "stream",
     "text": [
      "100\n"
     ]
    }
   ],
   "source": [
    "# convert the pathway dataframe to dictionary - for faster calculations\n",
    "# replace reactome_pathways with the variable containing the pathway dataframe being used\n",
    "# pathways_dict = sspa.utils.pathwaydf_to_dict(reactome_pathways)\n",
    "pathways_dict = sspa.utils.pathwaydf_to_dict(kegg_human_pathways)\n",
    "\n",
    "# How many pathways contain at least two mapped compounds?\n",
    "pathways_present = {k: v for k, v in pathways_dict.items() if len([i for i in processed_data_mapped.columns if i in v]) > 1}\n",
    "print(len(pathways_present))"
   ]
  },
  {
   "cell_type": "code",
   "execution_count": 21,
   "metadata": {},
   "outputs": [],
   "source": [
    "# initiate an ORA object\n",
    "ora = sspa.sspa_ora(\n",
    "    mat=processed_data_mapped, # Processed data matrix\n",
    "    metadata=df_combined['is_bad'], # metadata column\n",
    "    pathways=kegg_human_pathways, # pathway dataframe\n",
    "    DA_cutoff=0.01, # t-test cutoff to select differential metabolites\n",
    "    custom_background=None) # None sets to the default background set which are all annotated compounds provided in the input matrix\n",
    "\n",
    "# perform ORA\n",
    "ora_res = ora.over_representation_analysis()"
   ]
  },
  {
   "cell_type": "code",
   "execution_count": 22,
   "metadata": {},
   "outputs": [
    {
     "name": "stdout",
     "output_type": "stream",
     "text": [
      "There are 100 differential metabolites\n",
      "['C00515', 'C00135', 'C02918', 'C00581', 'C01152', 'C00064', 'C00300', 'C00148', 'C05828', 'C00437', 'C06104', 'C00366', 'C00153', 'C01046', 'C00106', 'C00242', 'C00643', 'C02477', 'C00550', 'C02693', 'C00847', 'C16359', 'C03975', 'C04152', 'C05635', 'C00328', 'C02835', 'C05587', 'C10858', 'C00120', 'C08287', 'C02155', 'C03219', 'C00170', 'C01657', 'C02470', 'C05135', 'C10833', 'C11584', 'C01717', 'C03519', 'C00525', 'C00642', 'C02710', 'C01879', 'C04148', 'C15561', 'C02712', 'C01419', 'C00955', 'C00355', 'C07534', 'C09311', 'C10480', 'C00108', 'C14516', 'C00805', 'C00025', 'C01717', 'C00793', 'C00148', 'C02043', 'C05660', 'C08261', 'C10084', 'C01598', 'C00637', 'C16911', 'C10028', 'C12272', 'C00978', 'C14437', 'C05593', 'C10475', 'C01626', 'C05588', 'C09833', 'C00903', 'C17821', 'C06972', 'C19530', 'C07113', 'C10343', 'C01829', 'C02637', 'C07086', 'C09926', 'C00410', 'C03882', 'C02140', 'C17002', 'C08898', 'C01481', 'C06426', 'C06427', 'C16681', 'C08315', 'C08362', 'C06429', 'C00712']\n"
     ]
    }
   ],
   "source": [
    "print('There are', len(ora.DA_molecules), 'differential metabolites')\n",
    "print(ora.DA_molecules)"
   ]
  },
  {
   "cell_type": "code",
   "execution_count": 23,
   "metadata": {},
   "outputs": [
    {
     "data": {
      "text/html": [
       "<div>\n",
       "<style scoped>\n",
       "    .dataframe tbody tr th:only-of-type {\n",
       "        vertical-align: middle;\n",
       "    }\n",
       "\n",
       "    .dataframe tbody tr th {\n",
       "        vertical-align: top;\n",
       "    }\n",
       "\n",
       "    .dataframe thead th {\n",
       "        text-align: right;\n",
       "    }\n",
       "</style>\n",
       "<table border=\"1\" class=\"dataframe\">\n",
       "  <thead>\n",
       "    <tr style=\"text-align: right;\">\n",
       "      <th></th>\n",
       "      <th>Entity</th>\n",
       "      <th>P-value</th>\n",
       "      <th>P-adjust</th>\n",
       "    </tr>\n",
       "  </thead>\n",
       "  <tbody>\n",
       "    <tr>\n",
       "      <th>199</th>\n",
       "      <td>C05588</td>\n",
       "      <td>1.509601e-11</td>\n",
       "      <td>4.302362e-09</td>\n",
       "    </tr>\n",
       "    <tr>\n",
       "      <th>140</th>\n",
       "      <td>C00108</td>\n",
       "      <td>6.461385e-10</td>\n",
       "      <td>9.207473e-08</td>\n",
       "    </tr>\n",
       "    <tr>\n",
       "      <th>118</th>\n",
       "      <td>C00642</td>\n",
       "      <td>1.515109e-09</td>\n",
       "      <td>1.439354e-07</td>\n",
       "    </tr>\n",
       "    <tr>\n",
       "      <th>62</th>\n",
       "      <td>C03975</td>\n",
       "      <td>6.566592e-09</td>\n",
       "      <td>4.646533e-07</td>\n",
       "    </tr>\n",
       "    <tr>\n",
       "      <th>61</th>\n",
       "      <td>C16359</td>\n",
       "      <td>8.151813e-09</td>\n",
       "      <td>4.646533e-07</td>\n",
       "    </tr>\n",
       "    <tr>\n",
       "      <th>...</th>\n",
       "      <td>...</td>\n",
       "      <td>...</td>\n",
       "      <td>...</td>\n",
       "    </tr>\n",
       "    <tr>\n",
       "      <th>88</th>\n",
       "      <td>C00741</td>\n",
       "      <td>9.659439e-01</td>\n",
       "      <td>9.796940e-01</td>\n",
       "    </tr>\n",
       "    <tr>\n",
       "      <th>66</th>\n",
       "      <td>C21016</td>\n",
       "      <td>9.851868e-01</td>\n",
       "      <td>9.927889e-01</td>\n",
       "    </tr>\n",
       "    <tr>\n",
       "      <th>258</th>\n",
       "      <td>C00535</td>\n",
       "      <td>9.869908e-01</td>\n",
       "      <td>9.927889e-01</td>\n",
       "    </tr>\n",
       "    <tr>\n",
       "      <th>85</th>\n",
       "      <td>C00268</td>\n",
       "      <td>9.922628e-01</td>\n",
       "      <td>9.927889e-01</td>\n",
       "    </tr>\n",
       "    <tr>\n",
       "      <th>53</th>\n",
       "      <td>C00599</td>\n",
       "      <td>9.927889e-01</td>\n",
       "      <td>9.927889e-01</td>\n",
       "    </tr>\n",
       "  </tbody>\n",
       "</table>\n",
       "<p>285 rows × 3 columns</p>\n",
       "</div>"
      ],
      "text/plain": [
       "     Entity       P-value      P-adjust\n",
       "199  C05588  1.509601e-11  4.302362e-09\n",
       "140  C00108  6.461385e-10  9.207473e-08\n",
       "118  C00642  1.515109e-09  1.439354e-07\n",
       "62   C03975  6.566592e-09  4.646533e-07\n",
       "61   C16359  8.151813e-09  4.646533e-07\n",
       "..      ...           ...           ...\n",
       "88   C00741  9.659439e-01  9.796940e-01\n",
       "66   C21016  9.851868e-01  9.927889e-01\n",
       "258  C00535  9.869908e-01  9.927889e-01\n",
       "85   C00268  9.922628e-01  9.927889e-01\n",
       "53   C00599  9.927889e-01  9.927889e-01\n",
       "\n",
       "[285 rows x 3 columns]"
      ]
     },
     "execution_count": 23,
     "metadata": {},
     "output_type": "execute_result"
    }
   ],
   "source": [
    "ora.DA_test_res.sort_values(by=\"P-value\")"
   ]
  },
  {
   "cell_type": "code",
   "execution_count": 24,
   "metadata": {},
   "outputs": [
    {
     "data": {
      "text/html": [
       "<div>\n",
       "<style scoped>\n",
       "    .dataframe tbody tr th:only-of-type {\n",
       "        vertical-align: middle;\n",
       "    }\n",
       "\n",
       "    .dataframe tbody tr th {\n",
       "        vertical-align: top;\n",
       "    }\n",
       "\n",
       "    .dataframe thead th {\n",
       "        text-align: right;\n",
       "    }\n",
       "</style>\n",
       "<table border=\"1\" class=\"dataframe\">\n",
       "  <thead>\n",
       "    <tr style=\"text-align: right;\">\n",
       "      <th></th>\n",
       "      <th>ID</th>\n",
       "      <th>Pathway_name</th>\n",
       "      <th>Hits</th>\n",
       "      <th>Coverage</th>\n",
       "      <th>P-value</th>\n",
       "      <th>P-adjust</th>\n",
       "      <th>DA_Metabolites_ID</th>\n",
       "    </tr>\n",
       "  </thead>\n",
       "  <tbody>\n",
       "    <tr>\n",
       "      <th>0</th>\n",
       "      <td>hsa00061</td>\n",
       "      <td>Fatty acid biosynthesis - Homo sapiens (human)</td>\n",
       "      <td>2/2</td>\n",
       "      <td>2/56</td>\n",
       "      <td>0.130883</td>\n",
       "      <td>0.872876</td>\n",
       "      <td>C00712, C08362</td>\n",
       "    </tr>\n",
       "    <tr>\n",
       "      <th>1</th>\n",
       "      <td>hsa00130</td>\n",
       "      <td>Ubiquinone and other terpenoid-quinone biosynt...</td>\n",
       "      <td>1/6</td>\n",
       "      <td>6/71</td>\n",
       "      <td>0.935286</td>\n",
       "      <td>0.948098</td>\n",
       "      <td>C02477</td>\n",
       "    </tr>\n",
       "    <tr>\n",
       "      <th>2</th>\n",
       "      <td>hsa00140</td>\n",
       "      <td>Steroid hormone biosynthesis - Homo sapiens (h...</td>\n",
       "      <td>2/10</td>\n",
       "      <td>10/99</td>\n",
       "      <td>0.930020</td>\n",
       "      <td>0.948098</td>\n",
       "      <td>C00410, C02140</td>\n",
       "    </tr>\n",
       "    <tr>\n",
       "      <th>3</th>\n",
       "      <td>hsa00220</td>\n",
       "      <td>Arginine biosynthesis - Homo sapiens (human)</td>\n",
       "      <td>3/5</td>\n",
       "      <td>5/23</td>\n",
       "      <td>0.253983</td>\n",
       "      <td>0.872876</td>\n",
       "      <td>C00064, C00437, C00025</td>\n",
       "    </tr>\n",
       "    <tr>\n",
       "      <th>4</th>\n",
       "      <td>hsa00230</td>\n",
       "      <td>Purine metabolism - Homo sapiens (human)</td>\n",
       "      <td>3/6</td>\n",
       "      <td>6/95</td>\n",
       "      <td>0.378535</td>\n",
       "      <td>0.872876</td>\n",
       "      <td>C00064, C00242, C00366</td>\n",
       "    </tr>\n",
       "    <tr>\n",
       "      <th>...</th>\n",
       "      <td>...</td>\n",
       "      <td>...</td>\n",
       "      <td>...</td>\n",
       "      <td>...</td>\n",
       "      <td>...</td>\n",
       "      <td>...</td>\n",
       "      <td>...</td>\n",
       "    </tr>\n",
       "    <tr>\n",
       "      <th>69</th>\n",
       "      <td>hsa05033</td>\n",
       "      <td>Nicotine addiction - Homo sapiens (human)</td>\n",
       "      <td>1/2</td>\n",
       "      <td>2/7</td>\n",
       "      <td>0.595043</td>\n",
       "      <td>0.872876</td>\n",
       "      <td>C00025</td>\n",
       "    </tr>\n",
       "    <tr>\n",
       "      <th>70</th>\n",
       "      <td>hsa05034</td>\n",
       "      <td>Alcoholism - Homo sapiens (human)</td>\n",
       "      <td>2/4</td>\n",
       "      <td>4/10</td>\n",
       "      <td>0.460273</td>\n",
       "      <td>0.872876</td>\n",
       "      <td>C00025, C00355</td>\n",
       "    </tr>\n",
       "    <tr>\n",
       "      <th>71</th>\n",
       "      <td>hsa05143</td>\n",
       "      <td>African trypanosomiasis - Homo sapiens (human)</td>\n",
       "      <td>1/2</td>\n",
       "      <td>2/8</td>\n",
       "      <td>0.595043</td>\n",
       "      <td>0.872876</td>\n",
       "      <td>C00328</td>\n",
       "    </tr>\n",
       "    <tr>\n",
       "      <th>72</th>\n",
       "      <td>hsa05207</td>\n",
       "      <td>Chemical carcinogenesis - receptor activation ...</td>\n",
       "      <td>1/3</td>\n",
       "      <td>3/28</td>\n",
       "      <td>0.743125</td>\n",
       "      <td>0.872876</td>\n",
       "      <td>C00410</td>\n",
       "    </tr>\n",
       "    <tr>\n",
       "      <th>73</th>\n",
       "      <td>hsa05230</td>\n",
       "      <td>Central carbon metabolism in cancer - Homo sap...</td>\n",
       "      <td>3/6</td>\n",
       "      <td>6/30</td>\n",
       "      <td>0.378535</td>\n",
       "      <td>0.872876</td>\n",
       "      <td>C00064, C00148, C00025</td>\n",
       "    </tr>\n",
       "  </tbody>\n",
       "</table>\n",
       "<p>74 rows × 7 columns</p>\n",
       "</div>"
      ],
      "text/plain": [
       "          ID                                       Pathway_name  Hits  \\\n",
       "0   hsa00061     Fatty acid biosynthesis - Homo sapiens (human)   2/2   \n",
       "1   hsa00130  Ubiquinone and other terpenoid-quinone biosynt...   1/6   \n",
       "2   hsa00140  Steroid hormone biosynthesis - Homo sapiens (h...  2/10   \n",
       "3   hsa00220       Arginine biosynthesis - Homo sapiens (human)   3/5   \n",
       "4   hsa00230           Purine metabolism - Homo sapiens (human)   3/6   \n",
       "..       ...                                                ...   ...   \n",
       "69  hsa05033          Nicotine addiction - Homo sapiens (human)   1/2   \n",
       "70  hsa05034                  Alcoholism - Homo sapiens (human)   2/4   \n",
       "71  hsa05143     African trypanosomiasis - Homo sapiens (human)   1/2   \n",
       "72  hsa05207  Chemical carcinogenesis - receptor activation ...   1/3   \n",
       "73  hsa05230  Central carbon metabolism in cancer - Homo sap...   3/6   \n",
       "\n",
       "   Coverage   P-value  P-adjust       DA_Metabolites_ID  \n",
       "0      2/56  0.130883  0.872876          C00712, C08362  \n",
       "1      6/71  0.935286  0.948098                  C02477  \n",
       "2     10/99  0.930020  0.948098          C00410, C02140  \n",
       "3      5/23  0.253983  0.872876  C00064, C00437, C00025  \n",
       "4      6/95  0.378535  0.872876  C00064, C00242, C00366  \n",
       "..      ...       ...       ...                     ...  \n",
       "69      2/7  0.595043  0.872876                  C00025  \n",
       "70     4/10  0.460273  0.872876          C00025, C00355  \n",
       "71      2/8  0.595043  0.872876                  C00328  \n",
       "72     3/28  0.743125  0.872876                  C00410  \n",
       "73     6/30  0.378535  0.872876  C00064, C00148, C00025  \n",
       "\n",
       "[74 rows x 7 columns]"
      ]
     },
     "execution_count": 24,
     "metadata": {},
     "output_type": "execute_result"
    }
   ],
   "source": [
    "ora_res"
   ]
  },
  {
   "cell_type": "code",
   "execution_count": 25,
   "metadata": {},
   "outputs": [
    {
     "data": {
      "text/html": [
       "<div>\n",
       "<style scoped>\n",
       "    .dataframe tbody tr th:only-of-type {\n",
       "        vertical-align: middle;\n",
       "    }\n",
       "\n",
       "    .dataframe tbody tr th {\n",
       "        vertical-align: top;\n",
       "    }\n",
       "\n",
       "    .dataframe thead th {\n",
       "        text-align: right;\n",
       "    }\n",
       "</style>\n",
       "<table border=\"1\" class=\"dataframe\">\n",
       "  <thead>\n",
       "    <tr style=\"text-align: right;\">\n",
       "      <th></th>\n",
       "      <th>ID</th>\n",
       "      <th>Pathway_name</th>\n",
       "      <th>Hits</th>\n",
       "      <th>Coverage</th>\n",
       "      <th>P-value</th>\n",
       "      <th>P-adjust</th>\n",
       "      <th>DA_Metabolites_ID</th>\n",
       "    </tr>\n",
       "  </thead>\n",
       "  <tbody>\n",
       "    <tr>\n",
       "      <th>14</th>\n",
       "      <td>hsa00380</td>\n",
       "      <td>Tryptophan metabolism - Homo sapiens (human)</td>\n",
       "      <td>12/16</td>\n",
       "      <td>16/83</td>\n",
       "      <td>0.001386</td>\n",
       "      <td>0.076545</td>\n",
       "      <td>C01717, C00108, C02693, C05660, C00637, C01598...</td>\n",
       "    </tr>\n",
       "    <tr>\n",
       "      <th>11</th>\n",
       "      <td>hsa00340</td>\n",
       "      <td>Histidine metabolism - Homo sapiens (human)</td>\n",
       "      <td>6/6</td>\n",
       "      <td>6/47</td>\n",
       "      <td>0.002069</td>\n",
       "      <td>0.076545</td>\n",
       "      <td>C00025, C05828, C05135, C01152, C02835, C00135</td>\n",
       "    </tr>\n",
       "    <tr>\n",
       "      <th>34</th>\n",
       "      <td>hsa01040</td>\n",
       "      <td>Biosynthesis of unsaturated fatty acids - Homo...</td>\n",
       "      <td>4/6</td>\n",
       "      <td>6/69</td>\n",
       "      <td>0.129430</td>\n",
       "      <td>0.872876</td>\n",
       "      <td>C06429, C00712, C06427, C06426</td>\n",
       "    </tr>\n",
       "    <tr>\n",
       "      <th>0</th>\n",
       "      <td>hsa00061</td>\n",
       "      <td>Fatty acid biosynthesis - Homo sapiens (human)</td>\n",
       "      <td>2/2</td>\n",
       "      <td>2/56</td>\n",
       "      <td>0.130883</td>\n",
       "      <td>0.872876</td>\n",
       "      <td>C00712, C08362</td>\n",
       "    </tr>\n",
       "    <tr>\n",
       "      <th>32</th>\n",
       "      <td>hsa00910</td>\n",
       "      <td>Nitrogen metabolism - Homo sapiens (human)</td>\n",
       "      <td>2/2</td>\n",
       "      <td>2/19</td>\n",
       "      <td>0.130883</td>\n",
       "      <td>0.872876</td>\n",
       "      <td>C00064, C00025</td>\n",
       "    </tr>\n",
       "    <tr>\n",
       "      <th>...</th>\n",
       "      <td>...</td>\n",
       "      <td>...</td>\n",
       "      <td>...</td>\n",
       "      <td>...</td>\n",
       "      <td>...</td>\n",
       "      <td>...</td>\n",
       "      <td>...</td>\n",
       "    </tr>\n",
       "    <tr>\n",
       "      <th>57</th>\n",
       "      <td>hsa04923</td>\n",
       "      <td>Regulation of lipolysis in adipocytes - Homo s...</td>\n",
       "      <td>1/5</td>\n",
       "      <td>5/14</td>\n",
       "      <td>0.897311</td>\n",
       "      <td>0.935225</td>\n",
       "      <td>C02140</td>\n",
       "    </tr>\n",
       "    <tr>\n",
       "      <th>55</th>\n",
       "      <td>hsa04913</td>\n",
       "      <td>Ovarian steroidogenesis - Homo sapiens (human)</td>\n",
       "      <td>1/5</td>\n",
       "      <td>5/20</td>\n",
       "      <td>0.897311</td>\n",
       "      <td>0.935225</td>\n",
       "      <td>C00410</td>\n",
       "    </tr>\n",
       "    <tr>\n",
       "      <th>2</th>\n",
       "      <td>hsa00140</td>\n",
       "      <td>Steroid hormone biosynthesis - Homo sapiens (h...</td>\n",
       "      <td>2/10</td>\n",
       "      <td>10/99</td>\n",
       "      <td>0.930020</td>\n",
       "      <td>0.948098</td>\n",
       "      <td>C00410, C02140</td>\n",
       "    </tr>\n",
       "    <tr>\n",
       "      <th>1</th>\n",
       "      <td>hsa00130</td>\n",
       "      <td>Ubiquinone and other terpenoid-quinone biosynt...</td>\n",
       "      <td>1/6</td>\n",
       "      <td>6/71</td>\n",
       "      <td>0.935286</td>\n",
       "      <td>0.948098</td>\n",
       "      <td>C02477</td>\n",
       "    </tr>\n",
       "    <tr>\n",
       "      <th>5</th>\n",
       "      <td>hsa00232</td>\n",
       "      <td>Caffeine metabolism - Homo sapiens (human)</td>\n",
       "      <td>1/7</td>\n",
       "      <td>7/22</td>\n",
       "      <td>0.959309</td>\n",
       "      <td>0.959309</td>\n",
       "      <td>C16359</td>\n",
       "    </tr>\n",
       "  </tbody>\n",
       "</table>\n",
       "<p>74 rows × 7 columns</p>\n",
       "</div>"
      ],
      "text/plain": [
       "          ID                                       Pathway_name   Hits  \\\n",
       "14  hsa00380       Tryptophan metabolism - Homo sapiens (human)  12/16   \n",
       "11  hsa00340        Histidine metabolism - Homo sapiens (human)    6/6   \n",
       "34  hsa01040  Biosynthesis of unsaturated fatty acids - Homo...    4/6   \n",
       "0   hsa00061     Fatty acid biosynthesis - Homo sapiens (human)    2/2   \n",
       "32  hsa00910         Nitrogen metabolism - Homo sapiens (human)    2/2   \n",
       "..       ...                                                ...    ...   \n",
       "57  hsa04923  Regulation of lipolysis in adipocytes - Homo s...    1/5   \n",
       "55  hsa04913     Ovarian steroidogenesis - Homo sapiens (human)    1/5   \n",
       "2   hsa00140  Steroid hormone biosynthesis - Homo sapiens (h...   2/10   \n",
       "1   hsa00130  Ubiquinone and other terpenoid-quinone biosynt...    1/6   \n",
       "5   hsa00232         Caffeine metabolism - Homo sapiens (human)    1/7   \n",
       "\n",
       "   Coverage   P-value  P-adjust  \\\n",
       "14    16/83  0.001386  0.076545   \n",
       "11     6/47  0.002069  0.076545   \n",
       "34     6/69  0.129430  0.872876   \n",
       "0      2/56  0.130883  0.872876   \n",
       "32     2/19  0.130883  0.872876   \n",
       "..      ...       ...       ...   \n",
       "57     5/14  0.897311  0.935225   \n",
       "55     5/20  0.897311  0.935225   \n",
       "2     10/99  0.930020  0.948098   \n",
       "1      6/71  0.935286  0.948098   \n",
       "5      7/22  0.959309  0.959309   \n",
       "\n",
       "                                    DA_Metabolites_ID  \n",
       "14  C01717, C00108, C02693, C05660, C00637, C01598...  \n",
       "11     C00025, C05828, C05135, C01152, C02835, C00135  \n",
       "34                     C06429, C00712, C06427, C06426  \n",
       "0                                      C00712, C08362  \n",
       "32                                     C00064, C00025  \n",
       "..                                                ...  \n",
       "57                                             C02140  \n",
       "55                                             C00410  \n",
       "2                                      C00410, C02140  \n",
       "1                                              C02477  \n",
       "5                                              C16359  \n",
       "\n",
       "[74 rows x 7 columns]"
      ]
     },
     "execution_count": 25,
     "metadata": {},
     "output_type": "execute_result"
    }
   ],
   "source": [
    "ora_res.sort_values(by=\"P-value\")"
   ]
  },
  {
   "cell_type": "code",
   "execution_count": null,
   "metadata": {},
   "outputs": [
    {
     "name": "stderr",
     "output_type": "stream",
     "text": [
      "/var/folders/t0/9s1kd78j2w76jjypvc2j3x900000gn/T/ipykernel_34613/1014404615.py:6: FutureWarning:\n",
      "\n",
      "\n",
      "\n",
      "Passing `palette` without assigning `hue` is deprecated and will be removed in v0.14.0. Assign the `y` variable to `hue` and set `legend=False` for the same effect.\n",
      "\n",
      "\n"
     ]
    },
    {
     "data": {
      "image/png": "[encoded data removed]",
      "text/plain": [
       "<Figure size 800x600 with 1 Axes>"
      ]
     },
     "metadata": {},
     "output_type": "display_data"
    }
   ],
   "source": [
    "top_20_pathways = ora_res.sort_values(by=\"P-value\").iloc[0:20, :]\n",
    "top_20_pathways[\"Pathway_name\"] = top_20_pathways[\"Pathway_name\"].str.replace(\" - Homo sapiens \\\\(human\\\\)\", \"\", regex=True)\n",
    "\n",
    "plt.figure(figsize=(8, 6))\n",
    "sns.set_style('ticks')\n",
    "sns.barplot(\n",
    "    data=top_20_pathways,\n",
    "    y=\"Pathway_name\",\n",
    "    x=\"P-value\",\n",
    "    orient=\"h\",\n",
    "    palette=\"viridis\"\n",
    "    )\n",
    "plt.axvline(0.05, c=\"black\")\n",
    "plt.title('Top 20 KEGG Human pathways (ORA)')\n",
    "plt.xlim([0, 0.5])\n",
    "plt.tight_layout()\n",
    "save_name = \"/Users/pranathipoojary/Projects/mummichog_proj/untargeted_pa/mummichog/pathway_analysis/systematic/PA_results/ORA_top_20_gt.png\"\n",
    "plt.savefig(save_name, dpi=300, bbox_inches=\"tight\")\n",
    "plt.show()"
   ]
  }
 ],
 "metadata": {
  "kernelspec": {
   "display_name": "mummichog_env",
   "language": "python",
   "name": "python3"
  },
  "language_info": {
   "codemirror_mode": {
    "name": "ipython",
    "version": 3
   },
   "file_extension": ".py",
   "mimetype": "text/x-python",
   "name": "python",
   "nbconvert_exporter": "python",
   "pygments_lexer": "ipython3",
   "version": "3.10.15"
  }
 },
 "nbformat": 4,
 "nbformat_minor": 2
}
