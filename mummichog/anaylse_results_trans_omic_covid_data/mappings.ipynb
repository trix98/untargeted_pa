{
 "cells": [
  {
   "cell_type": "code",
   "execution_count": 365,
   "metadata": {},
   "outputs": [],
   "source": [
    "import pandas as pd\n",
    "import numpy as np\n",
    "import os\n",
    "import plotly.express as px"
   ]
  },
  {
   "cell_type": "code",
   "execution_count": 366,
   "metadata": {},
   "outputs": [],
   "source": [
    "def process_gt():\n",
    "    file_path = \"m_MTBLS2542_Metabo_LC-MS_positive_reverse-phase_v2_maf.tsv\"\n",
    "    gt = pd.read_csv(file_path, sep=\"\\t\")\n",
    "    gt['retention_time'] = gt['retention_time']*60\n",
    "\n",
    "    print(\"\\nGround Truth - True Metabolite info from COVID dataset\")\n",
    "    print(f\"No of rows: {len(gt)}\")\n",
    "    print(f\"No of unique ChEBI IDs: {len(np.unique(gt['database_identifier']))}\")\n",
    "    gt.head()\n",
    "    \n",
    "    return gt"
   ]
  },
  {
   "cell_type": "code",
   "execution_count": 367,
   "metadata": {},
   "outputs": [],
   "source": [
    "def funnel_plot_func(label_to_count, title, save_path=None):\n",
    "    data = dict(count=list(label_to_count.values()),\n",
    "                label=list(label_to_count.keys()))\n",
    "\n",
    "    fig = px.funnel(data, x='count', y='label')\n",
    "    fig.update_layout(\n",
    "        title=title,\n",
    "        title_font_size=30,  # Title font size\n",
    "        font=dict(\n",
    "            family=\"Arial, sans-serif\",  # You can change the font family as needed\n",
    "            size=25,  # General font size for labels, axis, etc.\n",
    "            color=\"black\"  # Optional: Set the font color\n",
    "        )\n",
    "    )\n",
    "    if save_path:\n",
    "        fig.write_image(save_path, scale=3, width=1200, height=800)\n",
    "    fig.show(renderer=\"vscode\")"
   ]
  },
  {
   "cell_type": "markdown",
   "metadata": {},
   "source": [
    "# Map 1\n",
    "![Sample Plot](Figures/map1.png)\n",
    "\n",
    "Link to metabolanalyst converter"
   ]
  },
  {
   "cell_type": "code",
   "execution_count": 368,
   "metadata": {},
   "outputs": [],
   "source": [
    "def map1_process_mummichog_output(run_name, cut_off_p):\n",
    "    print(\"\\nMummichog Output (mo) - User input to emperical compounds\")\n",
    "\n",
    "    file_path = f\"../runs/{run_name}/tables/userInput_to_EmpiricalCompounds.tsv\"\n",
    "    mo_raw_df = pd.read_csv(file_path, sep=\"\\t\")\n",
    "    if cut_off_p:\n",
    "        sig_df = mo_raw_df[mo_raw_df['p_value'] < cut_off_p]\n",
    "        sig_no_nan = sig_df[sig_df['compound_names'].notna()]\n",
    "        unique_eids = sig_df[\"EID\"].nunique()\n",
    "        unique_feats = sig_df[\"CompoundID_from_user\"].nunique()\n",
    "        unique_cpd_eids = sig_no_nan[\"EID\"].nunique()\n",
    "        unique_cpd_feats = sig_no_nan[\"CompoundID_from_user\"].nunique()\n",
    "    else:\n",
    "        no_nan = mo_raw_df[mo_raw_df['compound_names'].notna()]\n",
    "        unique_eids = mo_raw_df[\"EID\"].nunique()\n",
    "        unique_feats = mo_raw_df[\"CompoundID_from_user\"].nunique()\n",
    "        unique_cpd_eids = no_nan[\"EID\"].nunique()\n",
    "        unique_cpd_feats = no_nan[\"CompoundID_from_user\"].nunique()\n",
    "    \n",
    "    print(f\"Unique EIDS: {unique_eids}\")\n",
    "    print(f\"Unique features: {unique_feats}\")\n",
    "\n",
    "    mo_no_nan_df = mo_raw_df.dropna(subset=[\"compound_names\"]).copy()\n",
    "\n",
    "    print(f\"Number of original ouput rows: {len(mo_raw_df)}\")\n",
    "    print(f\"Dropped {len(mo_raw_df)-len(mo_no_nan_df)} nan compound_names rows, {len(mo_no_nan_df)} rows\")\n",
    "\n",
    "    # a metabolite feature can have multiple annotations separated by a \"$\"\n",
    "    mo_no_nan_df['compound_names_split'] = mo_no_nan_df['compound_names'].str.split('$')\n",
    "    mo_df = mo_no_nan_df.explode('compound_names_split')\n",
    "    mo_df = mo_df.rename(columns={'compound_names_split': 'compound_name'})\n",
    "    mo_df = mo_df.drop(columns=['compound_names'])\n",
    "    mo_df = mo_df[mo_df['compound_name'].str.strip() != \"\"]\n",
    "    print(f\"Number of rows after $ split: {len(mo_df)}\")\n",
    "\n",
    "\n",
    "    mo_df['compound_name_no_colon'] = mo_df['compound_name'].str.split(';').str[0]\n",
    "    mo_df.to_csv(f\"../runs/{run_name}/tables/map1/userInput_to_EmpiricalCompounds_cpd_name_split.csv\")\n",
    "    mo_df = mo_df.reset_index(drop=True)\n",
    "    mo_df.head()\n",
    "\n",
    "    print(\"ONLY USING THE FIRST SYNONYM (;)! MIGHT WANT TO CHANGE THAT LATER\")\n",
    "\n",
    "    return mo_df, unique_eids, unique_feats, unique_cpd_eids, unique_cpd_feats\n",
    "\n"
   ]
  },
  {
   "cell_type": "code",
   "execution_count": 369,
   "metadata": {},
   "outputs": [],
   "source": [
    "def map1_merge_mo_to_chebi(mo_df, name_map_file, cut_off_p):\n",
    "    chebi_map = pd.read_csv(name_map_file)\n",
    "    chebi_map['compound_name'] = chebi_map['Query']\n",
    "    chebi_map = chebi_map.drop(columns=['Query'])\n",
    "\n",
    "    mo_df = mo_df.merge(chebi_map[['compound_name', 'ChEBI']], on='compound_name', how='left')\n",
    "    \n",
    "    if cut_off_p:\n",
    "        fil_ui_cpd = mo_df[mo_df['p_value'] < cut_off_p]\n",
    "    else:\n",
    "        fil_ui_cpd = mo_df\n",
    "    \n",
    "    has_chebi = fil_ui_cpd[fil_ui_cpd['ChEBI'].notna()]\n",
    "    after_chebi_conv_count_eids = has_chebi['EID'].nunique()\n",
    "    after_chebi_conv_count_feats = has_chebi['CompoundID_from_user'].nunique()\n",
    "    print(f\"\\nNumber of unique EIDs and with chebi ids (p_value-{cut_off_p}): {has_chebi['EID'].nunique()}\") \n",
    "    print(f\"Number of unique input features and with chebi ids (p_value-{cut_off_p}): {has_chebi['CompoundID_from_user'].nunique()}\") \n",
    "\n",
    "    return mo_df, after_chebi_conv_count_eids, after_chebi_conv_count_feats\n"
   ]
  },
  {
   "cell_type": "code",
   "execution_count": 370,
   "metadata": {},
   "outputs": [],
   "source": [
    "# ChEBI matches\n",
    "def run_chebi_matches(run_name, mo_df, gt, cut_off_p):\n",
    "    matches = []\n",
    "\n",
    "    for index, row in mo_df.iterrows():\n",
    "        chebi_id = row['ChEBI']\n",
    "\n",
    "        if pd.notna(chebi_id):     \n",
    "            echebi_id = str(f\"CHEBI:{int(chebi_id)}\")\n",
    "            match = gt[gt['database_identifier'].str.fullmatch(echebi_id, case=False, na=False)]\n",
    "            \n",
    "            if not match.empty:\n",
    "                matches.append({\n",
    "                    \"compound_name\": row['compound_name'] if 'compound_name' in mo_df.columns else row['compound_names'],\n",
    "                    \"gt_compound_name\": match['metabolite_identification'].iloc[0],\n",
    "                    \"ui_retention_time\": row['retention_time'],\n",
    "                    \"gt_retention_time\": match['retention_time'].iloc[0],\n",
    "                    \"rt_difference\": abs(row['retention_time'] - match['retention_time'].iloc[0]),\n",
    "                    \"p_value\": row['p_value'],\n",
    "                    \"compoundID_from_user\": row['CompoundID_from_user'],\n",
    "                    \"gt_chebi\": match['database_identifier'].iloc[0],\n",
    "                    \"ui_chebi\": str(int(chebi_id)),\n",
    "                    \"gt_index\": match.index[0],\n",
    "                    \"ui_index\": index,\n",
    "                    \"EID\": row[\"EID\"]\n",
    "                })\n",
    "            \n",
    "\n",
    "    matches_df = pd.DataFrame(matches)\n",
    "    matches_df.head()\n",
    "    \n",
    "    end_name = run_name.split(\".\")[-1]\n",
    "    str_cut_off_p = str(cut_off_p).replace(\".\", \"_\") if cut_off_p else \"no_cut_off\"\n",
    "    save_filename = f'matches_{end_name}_chebi_dups_{str_cut_off_p}.csv'\n",
    "\n",
    "    if cut_off_p:\n",
    "        sig_df = matches_df[matches_df[\"p_value\"]<cut_off_p]\n",
    "        unique_match_feats = sig_df[\"compoundID_from_user\"].nunique()\n",
    "        unique_match_eids = sig_df[\"EID\"].nunique()\n",
    "        sig_df.to_csv(f'../runs/{run_name}/tables/map1/sig_{save_filename}')\n",
    "        print(f\"\\n{len(matches_df)} matches found of which {len(sig_df)} are significant features\")\n",
    "    else:\n",
    "        unique_match_feats = matches_df[\"compoundID_from_user\"].nunique()\n",
    "        unique_match_eids = matches_df[\"EID\"].nunique()\n",
    "        print(f\"\\n{len(matches_df)} matches found. Some may be duplicates!\")\n",
    "\n",
    "\n",
    "    matches_df.to_csv(f'../runs/{run_name}/tables/map1/{save_filename}')\n",
    "    \n",
    "    return unique_match_feats, unique_match_eids"
   ]
  },
  {
   "cell_type": "code",
   "execution_count": 371,
   "metadata": {},
   "outputs": [],
   "source": [
    "def map1_generate_funnel_plot(\n",
    "    run_name,\n",
    "    cut_off_p,\n",
    "    track,\n",
    "    mummichog_input_file, \n",
    "    unique_eids,\n",
    "    unique_feats,\n",
    "    unique_cpd_eids,\n",
    "    unique_cpd_feats,\n",
    "    after_chebi_conv_count_eids,\n",
    "    after_chebi_conv_count_feats,\n",
    "    unique_match_eids,\n",
    "    unique_match_feats\n",
    "):\n",
    "    input_df = pd.read_csv(mummichog_input_file)\n",
    "    if cut_off_p:\n",
    "        input_df = input_df[input_df['p-value'] < cut_off_p]\n",
    "        title_prefix = f\"Significant ({str(cut_off_p)})\"\n",
    "        save_prefix = str(cut_off_p).replace(\".\", \"_\")\n",
    "    else:\n",
    "        title_prefix = f\"All\"\n",
    "        save_prefix = \"all\"\n",
    "\n",
    "    unique_feat_matrix = input_df[input_df[\"custom_id\"].notna()]['custom_id'].nunique()\n",
    "\n",
    "    if track==\"feat\":\n",
    "        label_to_count = {\n",
    "            \"Feature Matrix\": unique_feat_matrix,\n",
    "            \"Mummichog Output\": unique_feats,\n",
    "            \"Cpd Name Present\": unique_cpd_feats,\n",
    "            \"Successful Conv to Chebi\": after_chebi_conv_count_feats,\n",
    "            \"Matches to Chebi and GT\": unique_match_feats,\n",
    "        }\n",
    "    elif track==\"eid\":\n",
    "        label_to_count = {\n",
    "            \"Feature Matrix\": unique_feat_matrix,\n",
    "            \"Mummichog Output\": unique_eids,\n",
    "            \"Cpd Name Present\": unique_cpd_eids,\n",
    "            \"Successful Conv to Chebi\": after_chebi_conv_count_eids,\n",
    "            \"Matches to Chebi and GT\": unique_match_eids\n",
    "        }\n",
    "    \n",
    "    title = f\"{title_prefix} {track} - Map 1\"\n",
    "    save_path = f\"../runs/{run_name}/tables/map1/funnel_{save_prefix}_{track}_map1.png\"\n",
    "    funnel_plot_func(label_to_count, title, save_path)\n",
    "    "
   ]
  },
  {
   "cell_type": "code",
   "execution_count": 372,
   "metadata": {},
   "outputs": [],
   "source": [
    "def map1(run_name, mummichog_input_file=False, name_map_file=False, cut_off_p=False, plot=True, track=\"feat\"):\n",
    "    assert track in [\"feat\", \"eid\"], f\"If provided, track must be either feat or eid not {track}\"\n",
    "    \n",
    "    if not os.path.exists(f\"../runs/{run_name}/tables/map1\"):\n",
    "        os.mkdir(f\"../runs/{run_name}/tables/map1\")\n",
    "    print(f\"Saving to ../runs/{run_name}/tables/map1\")\n",
    "\n",
    "    processed_result = map1_process_mummichog_output(run_name, cut_off_p)\n",
    "    mo_df, unique_eids, unique_feats, unique_cpd_eids, unique_cpd_feats = processed_result\n",
    "\n",
    "    if not name_map_file:\n",
    "        msg = (\n",
    "            \"\\nTo proceed with mapping, please map compound_name to ChEBI IDs using MetaboAnalyst.\\n\"\n",
    "            \"Paste the compound_name_no_colon column into MetaboAnalyst and download the name map.\\n\"\n",
    "            \"Pass the file path to that name map to continue. No API :(\"\n",
    "        )\n",
    "\n",
    "        print(msg)\n",
    "        return\n",
    "\n",
    "    merged_results = map1_merge_mo_to_chebi(mo_df, name_map_file, cut_off_p)\n",
    "    mo_df, after_chebi_conv_count_eids, after_chebi_conv_count_feats = merged_results\n",
    "    \n",
    "    gt = process_gt()\n",
    "    unique_match_feats, unique_match_eids = run_chebi_matches(run_name, mo_df, gt, cut_off_p)\n",
    "\n",
    "    if plot:\n",
    "        map1_generate_funnel_plot(\n",
    "            run_name,\n",
    "            cut_off_p,\n",
    "            track,\n",
    "            mummichog_input_file, \n",
    "            unique_eids,\n",
    "            unique_feats,\n",
    "            unique_cpd_eids,\n",
    "            unique_cpd_feats,\n",
    "            after_chebi_conv_count_eids,\n",
    "            after_chebi_conv_count_feats,\n",
    "            unique_match_eids,\n",
    "            unique_match_feats\n",
    "        )"
   ]
  },
  {
   "cell_type": "code",
   "execution_count": 373,
   "metadata": {},
   "outputs": [
    {
     "name": "stdout",
     "output_type": "stream",
     "text": [
      "Saving to ../runs/trans_omic_covid_data.rsd_1_default_p/tables/map1\n",
      "\n",
      "Mummichog Output (mo) - User input to emperical compounds\n",
      "Unique EIDS: 261\n",
      "Unique features: 315\n",
      "Number of original ouput rows: 1559\n",
      "Dropped 79 nan compound_names rows, 1480 rows\n",
      "Number of rows after $ split: 2699\n",
      "ONLY USING THE FIRST SYNONYM (;)! MIGHT WANT TO CHANGE THAT LATER\n",
      "\n",
      "Number of unique EIDs and with chebi ids (p_value-0.05): 150\n",
      "Number of unique input features and with chebi ids (p_value-0.05): 198\n",
      "\n",
      "Ground Truth - True Metabolite info from COVID dataset\n",
      "No of rows: 515\n",
      "No of unique ChEBI IDs: 503\n",
      "\n",
      "201 matches found of which 52 are significant features\n"
     ]
    },
    {
     "data": {
      "application/vnd.plotly.v1+json": {
       "config": {
        "plotlyServerURL": "https://plot.ly"
       },
       "data": [
        {
         "hovertemplate": "count=%{x}<br>label=%{y}<extra></extra>",
         "legendgroup": "",
         "marker": {
          "color": "#636efa"
         },
         "name": "",
         "orientation": "h",
         "showlegend": false,
         "type": "funnel",
         "x": [
          2634,
          315,
          305,
          198,
          50
         ],
         "xaxis": "x",
         "y": [
          "Feature Matrix",
          "Mummichog Output",
          "Cpd Name Present",
          "Successful Conv to Chebi",
          "Matches to Chebi and GT"
         ],
         "yaxis": "y"
        }
       ],
       "layout": {
        "font": {
         "color": "black",
         "family": "Arial, sans-serif",
         "size": 25
        },
        "legend": {
         "tracegroupgap": 0
        },
        "margin": {
         "t": 60
        },
        "template": {
         "data": {
          "bar": [
           {
            "error_x": {
             "color": "#2a3f5f"
            },
            "error_y": {
             "color": "#2a3f5f"
            },
            "marker": {
             "line": {
              "color": "#E5ECF6",
              "width": 0.5
             },
             "pattern": {
              "fillmode": "overlay",
              "size": 10,
              "solidity": 0.2
             }
            },
            "type": "bar"
           }
          ],
          "barpolar": [
           {
            "marker": {
             "line": {
              "color": "#E5ECF6",
              "width": 0.5
             },
             "pattern": {
              "fillmode": "overlay",
              "size": 10,
              "solidity": 0.2
             }
            },
            "type": "barpolar"
           }
          ],
          "carpet": [
           {
            "aaxis": {
             "endlinecolor": "#2a3f5f",
             "gridcolor": "white",
             "linecolor": "white",
             "minorgridcolor": "white",
             "startlinecolor": "#2a3f5f"
            },
            "baxis": {
             "endlinecolor": "#2a3f5f",
             "gridcolor": "white",
             "linecolor": "white",
             "minorgridcolor": "white",
             "startlinecolor": "#2a3f5f"
            },
            "type": "carpet"
           }
          ],
          "choropleth": [
           {
            "colorbar": {
             "outlinewidth": 0,
             "ticks": ""
            },
            "type": "choropleth"
           }
          ],
          "contour": [
           {
            "colorbar": {
             "outlinewidth": 0,
             "ticks": ""
            },
            "colorscale": [
             [
              0,
              "#0d0887"
             ],
             [
              0.1111111111111111,
              "#46039f"
             ],
             [
              0.2222222222222222,
              "#7201a8"
             ],
             [
              0.3333333333333333,
              "#9c179e"
             ],
             [
              0.4444444444444444,
              "#bd3786"
             ],
             [
              0.5555555555555556,
              "#d8576b"
             ],
             [
              0.6666666666666666,
              "#ed7953"
             ],
             [
              0.7777777777777778,
              "#fb9f3a"
             ],
             [
              0.8888888888888888,
              "#fdca26"
             ],
             [
              1,
              "#f0f921"
             ]
            ],
            "type": "contour"
           }
          ],
          "contourcarpet": [
           {
            "colorbar": {
             "outlinewidth": 0,
             "ticks": ""
            },
            "type": "contourcarpet"
           }
          ],
          "heatmap": [
           {
            "colorbar": {
             "outlinewidth": 0,
             "ticks": ""
            },
            "colorscale": [
             [
              0,
              "#0d0887"
             ],
             [
              0.1111111111111111,
              "#46039f"
             ],
             [
              0.2222222222222222,
              "#7201a8"
             ],
             [
              0.3333333333333333,
              "#9c179e"
             ],
             [
              0.4444444444444444,
              "#bd3786"
             ],
             [
              0.5555555555555556,
              "#d8576b"
             ],
             [
              0.6666666666666666,
              "#ed7953"
             ],
             [
              0.7777777777777778,
              "#fb9f3a"
             ],
             [
              0.8888888888888888,
              "#fdca26"
             ],
             [
              1,
              "#f0f921"
             ]
            ],
            "type": "heatmap"
           }
          ],
          "heatmapgl": [
           {
            "colorbar": {
             "outlinewidth": 0,
             "ticks": ""
            },
            "colorscale": [
             [
              0,
              "#0d0887"
             ],
             [
              0.1111111111111111,
              "#46039f"
             ],
             [
              0.2222222222222222,
              "#7201a8"
             ],
             [
              0.3333333333333333,
              "#9c179e"
             ],
             [
              0.4444444444444444,
              "#bd3786"
             ],
             [
              0.5555555555555556,
              "#d8576b"
             ],
             [
              0.6666666666666666,
              "#ed7953"
             ],
             [
              0.7777777777777778,
              "#fb9f3a"
             ],
             [
              0.8888888888888888,
              "#fdca26"
             ],
             [
              1,
              "#f0f921"
             ]
            ],
            "type": "heatmapgl"
           }
          ],
          "histogram": [
           {
            "marker": {
             "pattern": {
              "fillmode": "overlay",
              "size": 10,
              "solidity": 0.2
             }
            },
            "type": "histogram"
           }
          ],
          "histogram2d": [
           {
            "colorbar": {
             "outlinewidth": 0,
             "ticks": ""
            },
            "colorscale": [
             [
              0,
              "#0d0887"
             ],
             [
              0.1111111111111111,
              "#46039f"
             ],
             [
              0.2222222222222222,
              "#7201a8"
             ],
             [
              0.3333333333333333,
              "#9c179e"
             ],
             [
              0.4444444444444444,
              "#bd3786"
             ],
             [
              0.5555555555555556,
              "#d8576b"
             ],
             [
              0.6666666666666666,
              "#ed7953"
             ],
             [
              0.7777777777777778,
              "#fb9f3a"
             ],
             [
              0.8888888888888888,
              "#fdca26"
             ],
             [
              1,
              "#f0f921"
             ]
            ],
            "type": "histogram2d"
           }
          ],
          "histogram2dcontour": [
           {
            "colorbar": {
             "outlinewidth": 0,
             "ticks": ""
            },
            "colorscale": [
             [
              0,
              "#0d0887"
             ],
             [
              0.1111111111111111,
              "#46039f"
             ],
             [
              0.2222222222222222,
              "#7201a8"
             ],
             [
              0.3333333333333333,
              "#9c179e"
             ],
             [
              0.4444444444444444,
              "#bd3786"
             ],
             [
              0.5555555555555556,
              "#d8576b"
             ],
             [
              0.6666666666666666,
              "#ed7953"
             ],
             [
              0.7777777777777778,
              "#fb9f3a"
             ],
             [
              0.8888888888888888,
              "#fdca26"
             ],
             [
              1,
              "#f0f921"
             ]
            ],
            "type": "histogram2dcontour"
           }
          ],
          "mesh3d": [
           {
            "colorbar": {
             "outlinewidth": 0,
             "ticks": ""
            },
            "type": "mesh3d"
           }
          ],
          "parcoords": [
           {
            "line": {
             "colorbar": {
              "outlinewidth": 0,
              "ticks": ""
             }
            },
            "type": "parcoords"
           }
          ],
          "pie": [
           {
            "automargin": true,
            "type": "pie"
           }
          ],
          "scatter": [
           {
            "fillpattern": {
             "fillmode": "overlay",
             "size": 10,
             "solidity": 0.2
            },
            "type": "scatter"
           }
          ],
          "scatter3d": [
           {
            "line": {
             "colorbar": {
              "outlinewidth": 0,
              "ticks": ""
             }
            },
            "marker": {
             "colorbar": {
              "outlinewidth": 0,
              "ticks": ""
             }
            },
            "type": "scatter3d"
           }
          ],
          "scattercarpet": [
           {
            "marker": {
             "colorbar": {
              "outlinewidth": 0,
              "ticks": ""
             }
            },
            "type": "scattercarpet"
           }
          ],
          "scattergeo": [
           {
            "marker": {
             "colorbar": {
              "outlinewidth": 0,
              "ticks": ""
             }
            },
            "type": "scattergeo"
           }
          ],
          "scattergl": [
           {
            "marker": {
             "colorbar": {
              "outlinewidth": 0,
              "ticks": ""
             }
            },
            "type": "scattergl"
           }
          ],
          "scattermapbox": [
           {
            "marker": {
             "colorbar": {
              "outlinewidth": 0,
              "ticks": ""
             }
            },
            "type": "scattermapbox"
           }
          ],
          "scatterpolar": [
           {
            "marker": {
             "colorbar": {
              "outlinewidth": 0,
              "ticks": ""
             }
            },
            "type": "scatterpolar"
           }
          ],
          "scatterpolargl": [
           {
            "marker": {
             "colorbar": {
              "outlinewidth": 0,
              "ticks": ""
             }
            },
            "type": "scatterpolargl"
           }
          ],
          "scatterternary": [
           {
            "marker": {
             "colorbar": {
              "outlinewidth": 0,
              "ticks": ""
             }
            },
            "type": "scatterternary"
           }
          ],
          "surface": [
           {
            "colorbar": {
             "outlinewidth": 0,
             "ticks": ""
            },
            "colorscale": [
             [
              0,
              "#0d0887"
             ],
             [
              0.1111111111111111,
              "#46039f"
             ],
             [
              0.2222222222222222,
              "#7201a8"
             ],
             [
              0.3333333333333333,
              "#9c179e"
             ],
             [
              0.4444444444444444,
              "#bd3786"
             ],
             [
              0.5555555555555556,
              "#d8576b"
             ],
             [
              0.6666666666666666,
              "#ed7953"
             ],
             [
              0.7777777777777778,
              "#fb9f3a"
             ],
             [
              0.8888888888888888,
              "#fdca26"
             ],
             [
              1,
              "#f0f921"
             ]
            ],
            "type": "surface"
           }
          ],
          "table": [
           {
            "cells": {
             "fill": {
              "color": "#EBF0F8"
             },
             "line": {
              "color": "white"
             }
            },
            "header": {
             "fill": {
              "color": "#C8D4E3"
             },
             "line": {
              "color": "white"
             }
            },
            "type": "table"
           }
          ]
         },
         "layout": {
          "annotationdefaults": {
           "arrowcolor": "#2a3f5f",
           "arrowhead": 0,
           "arrowwidth": 1
          },
          "autotypenumbers": "strict",
          "coloraxis": {
           "colorbar": {
            "outlinewidth": 0,
            "ticks": ""
           }
          },
          "colorscale": {
           "diverging": [
            [
             0,
             "#8e0152"
            ],
            [
             0.1,
             "#c51b7d"
            ],
            [
             0.2,
             "#de77ae"
            ],
            [
             0.3,
             "#f1b6da"
            ],
            [
             0.4,
             "#fde0ef"
            ],
            [
             0.5,
             "#f7f7f7"
            ],
            [
             0.6,
             "#e6f5d0"
            ],
            [
             0.7,
             "#b8e186"
            ],
            [
             0.8,
             "#7fbc41"
            ],
            [
             0.9,
             "#4d9221"
            ],
            [
             1,
             "#276419"
            ]
           ],
           "sequential": [
            [
             0,
             "#0d0887"
            ],
            [
             0.1111111111111111,
             "#46039f"
            ],
            [
             0.2222222222222222,
             "#7201a8"
            ],
            [
             0.3333333333333333,
             "#9c179e"
            ],
            [
             0.4444444444444444,
             "#bd3786"
            ],
            [
             0.5555555555555556,
             "#d8576b"
            ],
            [
             0.6666666666666666,
             "#ed7953"
            ],
            [
             0.7777777777777778,
             "#fb9f3a"
            ],
            [
             0.8888888888888888,
             "#fdca26"
            ],
            [
             1,
             "#f0f921"
            ]
           ],
           "sequentialminus": [
            [
             0,
             "#0d0887"
            ],
            [
             0.1111111111111111,
             "#46039f"
            ],
            [
             0.2222222222222222,
             "#7201a8"
            ],
            [
             0.3333333333333333,
             "#9c179e"
            ],
            [
             0.4444444444444444,
             "#bd3786"
            ],
            [
             0.5555555555555556,
             "#d8576b"
            ],
            [
             0.6666666666666666,
             "#ed7953"
            ],
            [
             0.7777777777777778,
             "#fb9f3a"
            ],
            [
             0.8888888888888888,
             "#fdca26"
            ],
            [
             1,
             "#f0f921"
            ]
           ]
          },
          "colorway": [
           "#636efa",
           "#EF553B",
           "#00cc96",
           "#ab63fa",
           "#FFA15A",
           "#19d3f3",
           "#FF6692",
           "#B6E880",
           "#FF97FF",
           "#FECB52"
          ],
          "font": {
           "color": "#2a3f5f"
          },
          "geo": {
           "bgcolor": "white",
           "lakecolor": "white",
           "landcolor": "#E5ECF6",
           "showlakes": true,
           "showland": true,
           "subunitcolor": "white"
          },
          "hoverlabel": {
           "align": "left"
          },
          "hovermode": "closest",
          "mapbox": {
           "style": "light"
          },
          "paper_bgcolor": "white",
          "plot_bgcolor": "#E5ECF6",
          "polar": {
           "angularaxis": {
            "gridcolor": "white",
            "linecolor": "white",
            "ticks": ""
           },
           "bgcolor": "#E5ECF6",
           "radialaxis": {
            "gridcolor": "white",
            "linecolor": "white",
            "ticks": ""
           }
          },
          "scene": {
           "xaxis": {
            "backgroundcolor": "#E5ECF6",
            "gridcolor": "white",
            "gridwidth": 2,
            "linecolor": "white",
            "showbackground": true,
            "ticks": "",
            "zerolinecolor": "white"
           },
           "yaxis": {
            "backgroundcolor": "#E5ECF6",
            "gridcolor": "white",
            "gridwidth": 2,
            "linecolor": "white",
            "showbackground": true,
            "ticks": "",
            "zerolinecolor": "white"
           },
           "zaxis": {
            "backgroundcolor": "#E5ECF6",
            "gridcolor": "white",
            "gridwidth": 2,
            "linecolor": "white",
            "showbackground": true,
            "ticks": "",
            "zerolinecolor": "white"
           }
          },
          "shapedefaults": {
           "line": {
            "color": "#2a3f5f"
           }
          },
          "ternary": {
           "aaxis": {
            "gridcolor": "white",
            "linecolor": "white",
            "ticks": ""
           },
           "baxis": {
            "gridcolor": "white",
            "linecolor": "white",
            "ticks": ""
           },
           "bgcolor": "#E5ECF6",
           "caxis": {
            "gridcolor": "white",
            "linecolor": "white",
            "ticks": ""
           }
          },
          "title": {
           "x": 0.05
          },
          "xaxis": {
           "automargin": true,
           "gridcolor": "white",
           "linecolor": "white",
           "ticks": "",
           "title": {
            "standoff": 15
           },
           "zerolinecolor": "white",
           "zerolinewidth": 2
          },
          "yaxis": {
           "automargin": true,
           "gridcolor": "white",
           "linecolor": "white",
           "ticks": "",
           "title": {
            "standoff": 15
           },
           "zerolinecolor": "white",
           "zerolinewidth": 2
          }
         }
        },
        "title": {
         "font": {
          "size": 30
         },
         "text": "Significant (0.05) feat - Map 1"
        },
        "xaxis": {
         "anchor": "y",
         "domain": [
          0,
          1
         ],
         "title": {
          "text": "count"
         }
        },
        "yaxis": {
         "anchor": "x",
         "domain": [
          0,
          1
         ],
         "title": {
          "text": "label"
         }
        }
       }
      }
     },
     "metadata": {},
     "output_type": "display_data"
    }
   ],
   "source": [
    "# run_name = \"trans_omic_covid_data.run_1_default\"\n",
    "run_name = \"trans_omic_covid_data.rsd_1_default_p\"\n",
    "mummichog_input_file=\"../input_data/mummichog_input_ttest_rsd_1.csv\"\n",
    "cut_off_p = 0.05\n",
    "map1(\n",
    "    run_name=run_name, \n",
    "    mummichog_input_file=mummichog_input_file,\n",
    "    name_map_file=f\"../runs/{run_name}/tables/name_map_on_mummichog_output_cpds.csv\",\n",
    "    cut_off_p=cut_off_p,\n",
    "    plot=True,\n",
    "    track=\"feat\"\n",
    ")"
   ]
  },
  {
   "cell_type": "markdown",
   "metadata": {},
   "source": [
    "# Map 2\n",
    "![Sample Plot](Figures/map2.png)\n",
    "\n",
    "Link to metabolanalyst converter"
   ]
  },
  {
   "cell_type": "code",
   "execution_count": 374,
   "metadata": {},
   "outputs": [],
   "source": [
    "def map2_process_mummichog_output(run_name, cut_off_p):\n",
    "    print(\"\\nMummichog Output (mo) - User input to emperical compounds\")\n",
    "\n",
    "    file_path = f\"../runs/{run_name}/tables/userInput_to_EmpiricalCompounds.tsv\"\n",
    "    mo_raw_df = pd.read_csv(file_path, sep=\"\\t\")\n",
    "    if cut_off_p:\n",
    "        sig_df = mo_raw_df[mo_raw_df['p_value'] < cut_off_p]\n",
    "        unique_eids = sig_df[\"EID\"].nunique()\n",
    "        unique_feats = sig_df[\"CompoundID_from_user\"].nunique()\n",
    "    else:\n",
    "        unique_eids = mo_raw_df[\"EID\"].nunique()\n",
    "        unique_feats = mo_raw_df[\"CompoundID_from_user\"].nunique()\n",
    "    \n",
    "    print(f\"Unique EIDS: {unique_eids}\")\n",
    "    print(f\"Unique features: {unique_feats}\")\n",
    "\n",
    "    mo_no_nan_df = mo_raw_df.dropna(subset=[\"compounds\"]).copy()\n",
    "\n",
    "    print(f\"Number of original ouput rows: {len(mo_raw_df)}\")\n",
    "    print(f\"Dropped {len(mo_raw_df)-len(mo_no_nan_df)} nan compounds (KEGG IDs) rows, {len(mo_no_nan_df)} rows\")\n",
    "\n",
    "    # a metabolite feature can have multiple annotations separated by a \";\" in compound and \"$\" in compound_names\n",
    "    mo_no_nan_df['compound_split'] = mo_no_nan_df['compounds'].str.split(';')\n",
    "    mo_df = mo_no_nan_df.explode('compound_split')\n",
    "    mo_df = mo_df.rename(columns={'compound_split': 'compound'})\n",
    "    mo_df = mo_df.drop(columns=['compounds'])\n",
    "    mo_df = mo_df[mo_df['compound'].str.strip() != \"\"]\n",
    "    print(f\"Number of rows after ; split: {len(mo_df)}\")\n",
    "\n",
    "\n",
    "    mo_df.to_csv(f\"../runs/{run_name}/tables/map2/userInput_to_EmpiricalCompounds_kegg_split.csv\", index=False)\n",
    "    mo_df = mo_df.reset_index(drop=True)\n",
    "    mo_df.head()\n",
    "\n",
    "    return mo_df, unique_eids, unique_feats\n",
    "\n"
   ]
  },
  {
   "cell_type": "code",
   "execution_count": 375,
   "metadata": {},
   "outputs": [],
   "source": [
    "def map2_merge_gt_to_kegg(gt_df, name_map_file):\n",
    "    KEGG_map = pd.read_csv(name_map_file)\n",
    "    KEGG_map['Query'] = \"CHEBI:\" + KEGG_map['Query'].astype(str)\n",
    "    KEGG_map['database_identifier'] = KEGG_map['Query']\n",
    "    KEGG_map = KEGG_map.drop(columns=['Query'])\n",
    "\n",
    "    gt_df = gt_df.merge(KEGG_map[['database_identifier', 'KEGG']], on='database_identifier', how='left')\n",
    "    print(f\"\\nNo of unique KEGG IDs: {gt_df[gt_df['KEGG'].notna()]['KEGG'].nunique()}\")\n",
    "\n",
    "    return gt_df"
   ]
  },
  {
   "cell_type": "code",
   "execution_count": 376,
   "metadata": {},
   "outputs": [],
   "source": [
    "def map2_run_KEGG_matches(run_name, mo_df, gt_df, cut_off_p):\n",
    "    matches = []\n",
    "\n",
    "    for index, row in mo_df.iterrows():\n",
    "        KEGG_id = row['compound']\n",
    "\n",
    "        if pd.notna(KEGG_id):     \n",
    "            match = gt_df[gt_df['KEGG'].str.fullmatch(KEGG_id, case=False, na=False)]\n",
    "            \n",
    "            if not match.empty:\n",
    "                matches.append({\n",
    "                    \"compound_names\": row['compound_names'],\n",
    "                    \"gt_compound_name\": match['metabolite_identification'].iloc[0],\n",
    "                    \"ui_retention_time\": row['retention_time'],\n",
    "                    \"gt_retention_time\": match['retention_time'].iloc[0],\n",
    "                    \"rt_difference\": abs(row['retention_time'] - match['retention_time'].iloc[0]),\n",
    "                    \"p_value\": row['p_value'],\n",
    "                    \"compoundID_from_user\": row['CompoundID_from_user'],\n",
    "                    \"gt_KEGG\": match['KEGG'].iloc[0],\n",
    "                    \"ui_KEGG\": str(KEGG_id),\n",
    "                    \"gt_index\": match.index[0],\n",
    "                    \"ui_index\": index,\n",
    "                    \"EID\": row[\"EID\"]\n",
    "                })\n",
    "            \n",
    "\n",
    "    matches_df = pd.DataFrame(matches)\n",
    "    matches_df.head()\n",
    "\n",
    "    end_name = run_name.split(\".\")[-1]\n",
    "    str_cut_off_p = str(cut_off_p).replace(\".\", \"_\") if cut_off_p else \"no_cut_off\"\n",
    "    save_filename = f'matches_{end_name}_chebi_dups_{str_cut_off_p}.csv'\n",
    "\n",
    "    if cut_off_p:\n",
    "        sig_df = matches_df[matches_df[\"p_value\"]<cut_off_p]\n",
    "        unique_match_feats = sig_df[\"compoundID_from_user\"].nunique()\n",
    "        unique_match_eids = sig_df[\"EID\"].nunique()\n",
    "        sig_df.to_csv(f'../runs/{run_name}/tables/map2/sig_{save_filename}')\n",
    "        print(f\"\\n{len(matches_df)} matches found of which {len(sig_df)} are significant features\")\n",
    "    else:\n",
    "        unique_match_feats = matches_df[\"compoundID_from_user\"].nunique()\n",
    "        unique_match_eids = matches_df[\"EID\"].nunique()\n",
    "        print(f\"\\n{len(matches_df)} matches found. Some may be duplicates!\")\n",
    "\n",
    "\n",
    "    matches_df.to_csv(f'../runs/{run_name}/tables/map2/{save_filename}')\n",
    "\n",
    "    return unique_match_feats, unique_match_eids"
   ]
  },
  {
   "cell_type": "code",
   "execution_count": 377,
   "metadata": {},
   "outputs": [],
   "source": [
    "def map2_generate_funnel_plot(\n",
    "    run_name,\n",
    "    cut_off_p,\n",
    "    track,\n",
    "    mummichog_input_file, \n",
    "    unique_eids,\n",
    "    unique_feats,\n",
    "    unique_match_eids,\n",
    "    unique_match_feats\n",
    "\n",
    "):\n",
    "    input_df = pd.read_csv(mummichog_input_file)\n",
    "    if cut_off_p:\n",
    "        input_df = input_df[input_df['p-value'] < cut_off_p]\n",
    "        title_prefix = f\"Significant ({str(cut_off_p)})\"\n",
    "        save_prefix = str(cut_off_p).replace(\".\", \"_\")\n",
    "    else:\n",
    "        title_prefix = f\"All\"\n",
    "        save_prefix = \"all\"\n",
    "\n",
    "    unique_feat_matrix = input_df[input_df[\"custom_id\"].notna()]['custom_id'].nunique()\n",
    "\n",
    "    if track==\"feat\":\n",
    "        label_to_count = {\n",
    "            \"Feature Matrix\": unique_feat_matrix,\n",
    "            \"Mummichog Output\": unique_feats,\n",
    "            \"Matches to KEGG and GT\": unique_match_feats,\n",
    "        }\n",
    "    elif track==\"eid\":\n",
    "        label_to_count = {\n",
    "            \"Feature Matrix\": unique_feat_matrix,\n",
    "            \"Mummichog Output\": unique_eids,\n",
    "            \"Matches to Chebi and GT\": unique_match_eids,\n",
    "        }\n",
    "    \n",
    "    title = f\"{title_prefix} {track} - Map 2\"\n",
    "    save_path = f\"../runs/{run_name}/tables/map2/funnel_{save_prefix}_{track}_map2.png\"\n",
    "    funnel_plot_func(label_to_count, title, save_path)"
   ]
  },
  {
   "cell_type": "code",
   "execution_count": 378,
   "metadata": {},
   "outputs": [],
   "source": [
    "def map2(run_name, mummichog_input_file=False, name_map_file=False, cut_off_p=False, plot=True, track=\"feat\"):\n",
    "    \n",
    "    assert track in [\"feat\", \"eid\"], f\"If provided, track must be either feat or eid not {track}\"\n",
    "    \n",
    "    if not os.path.exists(f\"../runs/{run_name}/tables/map2\"):\n",
    "        os.mkdir(f\"../runs/{run_name}/tables/map2\")\n",
    "    print(f\"Saving to ../runs/{run_name}/tables/map2\")\n",
    "\n",
    "    mo_df, unique_eids, unique_feats = map2_process_mummichog_output(run_name, cut_off_p)\n",
    "\n",
    "    if not name_map_file:\n",
    "        msg = (\n",
    "            \"\\nTo proceed with mapping, please map compound_name to ChEBI IDs using MetaboAnalyst.\\n\"\n",
    "            \"Paste the compound_name_no_colon column into MetaboAnalyst and download the name map.\\n\"\n",
    "            \"Pass the file path to that name map to continue. No API :(\"\n",
    "        )\n",
    "\n",
    "        print(msg)\n",
    "        return\n",
    "\n",
    "    gt_df = process_gt()\n",
    "    gt_df = map2_merge_gt_to_kegg(gt_df, name_map_file)\n",
    "\n",
    "    unique_match_feats, unique_match_eids = map2_run_KEGG_matches(run_name, mo_df, gt_df, cut_off_p)\n",
    "\n",
    "    if plot:\n",
    "        map2_generate_funnel_plot(\n",
    "            run_name,\n",
    "            cut_off_p,\n",
    "            track,\n",
    "            mummichog_input_file, \n",
    "            unique_eids,\n",
    "            unique_feats,\n",
    "            unique_match_eids,\n",
    "            unique_match_feats\n",
    "        )"
   ]
  },
  {
   "cell_type": "code",
   "execution_count": 379,
   "metadata": {},
   "outputs": [
    {
     "name": "stdout",
     "output_type": "stream",
     "text": [
      "Saving to ../runs/trans_omic_covid_data.rsd_1_default_p/tables/map2\n",
      "\n",
      "Mummichog Output (mo) - User input to emperical compounds\n",
      "Unique EIDS: 261\n",
      "Unique features: 315\n",
      "Number of original ouput rows: 1559\n",
      "Dropped 0 nan compounds (KEGG IDs) rows, 1559 rows\n",
      "Number of rows after ; split: 3078\n",
      "\n",
      "Ground Truth - True Metabolite info from COVID dataset\n",
      "No of rows: 515\n",
      "No of unique ChEBI IDs: 503\n",
      "\n",
      "No of unique KEGG IDs: 252\n",
      "\n",
      "374 matches found of which 96 are significant features\n"
     ]
    },
    {
     "data": {
      "application/vnd.plotly.v1+json": {
       "config": {
        "plotlyServerURL": "https://plot.ly"
       },
       "data": [
        {
         "hovertemplate": "count=%{x}<br>label=%{y}<extra></extra>",
         "legendgroup": "",
         "marker": {
          "color": "#636efa"
         },
         "name": "",
         "orientation": "h",
         "showlegend": false,
         "type": "funnel",
         "x": [
          2634,
          315,
          85
         ],
         "xaxis": "x",
         "y": [
          "Feature Matrix",
          "Mummichog Output",
          "Matches to KEGG and GT"
         ],
         "yaxis": "y"
        }
       ],
       "layout": {
        "font": {
         "color": "black",
         "family": "Arial, sans-serif",
         "size": 25
        },
        "legend": {
         "tracegroupgap": 0
        },
        "margin": {
         "t": 60
        },
        "template": {
         "data": {
          "bar": [
           {
            "error_x": {
             "color": "#2a3f5f"
            },
            "error_y": {
             "color": "#2a3f5f"
            },
            "marker": {
             "line": {
              "color": "#E5ECF6",
              "width": 0.5
             },
             "pattern": {
              "fillmode": "overlay",
              "size": 10,
              "solidity": 0.2
             }
            },
            "type": "bar"
           }
          ],
          "barpolar": [
           {
            "marker": {
             "line": {
              "color": "#E5ECF6",
              "width": 0.5
             },
             "pattern": {
              "fillmode": "overlay",
              "size": 10,
              "solidity": 0.2
             }
            },
            "type": "barpolar"
           }
          ],
          "carpet": [
           {
            "aaxis": {
             "endlinecolor": "#2a3f5f",
             "gridcolor": "white",
             "linecolor": "white",
             "minorgridcolor": "white",
             "startlinecolor": "#2a3f5f"
            },
            "baxis": {
             "endlinecolor": "#2a3f5f",
             "gridcolor": "white",
             "linecolor": "white",
             "minorgridcolor": "white",
             "startlinecolor": "#2a3f5f"
            },
            "type": "carpet"
           }
          ],
          "choropleth": [
           {
            "colorbar": {
             "outlinewidth": 0,
             "ticks": ""
            },
            "type": "choropleth"
           }
          ],
          "contour": [
           {
            "colorbar": {
             "outlinewidth": 0,
             "ticks": ""
            },
            "colorscale": [
             [
              0,
              "#0d0887"
             ],
             [
              0.1111111111111111,
              "#46039f"
             ],
             [
              0.2222222222222222,
              "#7201a8"
             ],
             [
              0.3333333333333333,
              "#9c179e"
             ],
             [
              0.4444444444444444,
              "#bd3786"
             ],
             [
              0.5555555555555556,
              "#d8576b"
             ],
             [
              0.6666666666666666,
              "#ed7953"
             ],
             [
              0.7777777777777778,
              "#fb9f3a"
             ],
             [
              0.8888888888888888,
              "#fdca26"
             ],
             [
              1,
              "#f0f921"
             ]
            ],
            "type": "contour"
           }
          ],
          "contourcarpet": [
           {
            "colorbar": {
             "outlinewidth": 0,
             "ticks": ""
            },
            "type": "contourcarpet"
           }
          ],
          "heatmap": [
           {
            "colorbar": {
             "outlinewidth": 0,
             "ticks": ""
            },
            "colorscale": [
             [
              0,
              "#0d0887"
             ],
             [
              0.1111111111111111,
              "#46039f"
             ],
             [
              0.2222222222222222,
              "#7201a8"
             ],
             [
              0.3333333333333333,
              "#9c179e"
             ],
             [
              0.4444444444444444,
              "#bd3786"
             ],
             [
              0.5555555555555556,
              "#d8576b"
             ],
             [
              0.6666666666666666,
              "#ed7953"
             ],
             [
              0.7777777777777778,
              "#fb9f3a"
             ],
             [
              0.8888888888888888,
              "#fdca26"
             ],
             [
              1,
              "#f0f921"
             ]
            ],
            "type": "heatmap"
           }
          ],
          "heatmapgl": [
           {
            "colorbar": {
             "outlinewidth": 0,
             "ticks": ""
            },
            "colorscale": [
             [
              0,
              "#0d0887"
             ],
             [
              0.1111111111111111,
              "#46039f"
             ],
             [
              0.2222222222222222,
              "#7201a8"
             ],
             [
              0.3333333333333333,
              "#9c179e"
             ],
             [
              0.4444444444444444,
              "#bd3786"
             ],
             [
              0.5555555555555556,
              "#d8576b"
             ],
             [
              0.6666666666666666,
              "#ed7953"
             ],
             [
              0.7777777777777778,
              "#fb9f3a"
             ],
             [
              0.8888888888888888,
              "#fdca26"
             ],
             [
              1,
              "#f0f921"
             ]
            ],
            "type": "heatmapgl"
           }
          ],
          "histogram": [
           {
            "marker": {
             "pattern": {
              "fillmode": "overlay",
              "size": 10,
              "solidity": 0.2
             }
            },
            "type": "histogram"
           }
          ],
          "histogram2d": [
           {
            "colorbar": {
             "outlinewidth": 0,
             "ticks": ""
            },
            "colorscale": [
             [
              0,
              "#0d0887"
             ],
             [
              0.1111111111111111,
              "#46039f"
             ],
             [
              0.2222222222222222,
              "#7201a8"
             ],
             [
              0.3333333333333333,
              "#9c179e"
             ],
             [
              0.4444444444444444,
              "#bd3786"
             ],
             [
              0.5555555555555556,
              "#d8576b"
             ],
             [
              0.6666666666666666,
              "#ed7953"
             ],
             [
              0.7777777777777778,
              "#fb9f3a"
             ],
             [
              0.8888888888888888,
              "#fdca26"
             ],
             [
              1,
              "#f0f921"
             ]
            ],
            "type": "histogram2d"
           }
          ],
          "histogram2dcontour": [
           {
            "colorbar": {
             "outlinewidth": 0,
             "ticks": ""
            },
            "colorscale": [
             [
              0,
              "#0d0887"
             ],
             [
              0.1111111111111111,
              "#46039f"
             ],
             [
              0.2222222222222222,
              "#7201a8"
             ],
             [
              0.3333333333333333,
              "#9c179e"
             ],
             [
              0.4444444444444444,
              "#bd3786"
             ],
             [
              0.5555555555555556,
              "#d8576b"
             ],
             [
              0.6666666666666666,
              "#ed7953"
             ],
             [
              0.7777777777777778,
              "#fb9f3a"
             ],
             [
              0.8888888888888888,
              "#fdca26"
             ],
             [
              1,
              "#f0f921"
             ]
            ],
            "type": "histogram2dcontour"
           }
          ],
          "mesh3d": [
           {
            "colorbar": {
             "outlinewidth": 0,
             "ticks": ""
            },
            "type": "mesh3d"
           }
          ],
          "parcoords": [
           {
            "line": {
             "colorbar": {
              "outlinewidth": 0,
              "ticks": ""
             }
            },
            "type": "parcoords"
           }
          ],
          "pie": [
           {
            "automargin": true,
            "type": "pie"
           }
          ],
          "scatter": [
           {
            "fillpattern": {
             "fillmode": "overlay",
             "size": 10,
             "solidity": 0.2
            },
            "type": "scatter"
           }
          ],
          "scatter3d": [
           {
            "line": {
             "colorbar": {
              "outlinewidth": 0,
              "ticks": ""
             }
            },
            "marker": {
             "colorbar": {
              "outlinewidth": 0,
              "ticks": ""
             }
            },
            "type": "scatter3d"
           }
          ],
          "scattercarpet": [
           {
            "marker": {
             "colorbar": {
              "outlinewidth": 0,
              "ticks": ""
             }
            },
            "type": "scattercarpet"
           }
          ],
          "scattergeo": [
           {
            "marker": {
             "colorbar": {
              "outlinewidth": 0,
              "ticks": ""
             }
            },
            "type": "scattergeo"
           }
          ],
          "scattergl": [
           {
            "marker": {
             "colorbar": {
              "outlinewidth": 0,
              "ticks": ""
             }
            },
            "type": "scattergl"
           }
          ],
          "scattermapbox": [
           {
            "marker": {
             "colorbar": {
              "outlinewidth": 0,
              "ticks": ""
             }
            },
            "type": "scattermapbox"
           }
          ],
          "scatterpolar": [
           {
            "marker": {
             "colorbar": {
              "outlinewidth": 0,
              "ticks": ""
             }
            },
            "type": "scatterpolar"
           }
          ],
          "scatterpolargl": [
           {
            "marker": {
             "colorbar": {
              "outlinewidth": 0,
              "ticks": ""
             }
            },
            "type": "scatterpolargl"
           }
          ],
          "scatterternary": [
           {
            "marker": {
             "colorbar": {
              "outlinewidth": 0,
              "ticks": ""
             }
            },
            "type": "scatterternary"
           }
          ],
          "surface": [
           {
            "colorbar": {
             "outlinewidth": 0,
             "ticks": ""
            },
            "colorscale": [
             [
              0,
              "#0d0887"
             ],
             [
              0.1111111111111111,
              "#46039f"
             ],
             [
              0.2222222222222222,
              "#7201a8"
             ],
             [
              0.3333333333333333,
              "#9c179e"
             ],
             [
              0.4444444444444444,
              "#bd3786"
             ],
             [
              0.5555555555555556,
              "#d8576b"
             ],
             [
              0.6666666666666666,
              "#ed7953"
             ],
             [
              0.7777777777777778,
              "#fb9f3a"
             ],
             [
              0.8888888888888888,
              "#fdca26"
             ],
             [
              1,
              "#f0f921"
             ]
            ],
            "type": "surface"
           }
          ],
          "table": [
           {
            "cells": {
             "fill": {
              "color": "#EBF0F8"
             },
             "line": {
              "color": "white"
             }
            },
            "header": {
             "fill": {
              "color": "#C8D4E3"
             },
             "line": {
              "color": "white"
             }
            },
            "type": "table"
           }
          ]
         },
         "layout": {
          "annotationdefaults": {
           "arrowcolor": "#2a3f5f",
           "arrowhead": 0,
           "arrowwidth": 1
          },
          "autotypenumbers": "strict",
          "coloraxis": {
           "colorbar": {
            "outlinewidth": 0,
            "ticks": ""
           }
          },
          "colorscale": {
           "diverging": [
            [
             0,
             "#8e0152"
            ],
            [
             0.1,
             "#c51b7d"
            ],
            [
             0.2,
             "#de77ae"
            ],
            [
             0.3,
             "#f1b6da"
            ],
            [
             0.4,
             "#fde0ef"
            ],
            [
             0.5,
             "#f7f7f7"
            ],
            [
             0.6,
             "#e6f5d0"
            ],
            [
             0.7,
             "#b8e186"
            ],
            [
             0.8,
             "#7fbc41"
            ],
            [
             0.9,
             "#4d9221"
            ],
            [
             1,
             "#276419"
            ]
           ],
           "sequential": [
            [
             0,
             "#0d0887"
            ],
            [
             0.1111111111111111,
             "#46039f"
            ],
            [
             0.2222222222222222,
             "#7201a8"
            ],
            [
             0.3333333333333333,
             "#9c179e"
            ],
            [
             0.4444444444444444,
             "#bd3786"
            ],
            [
             0.5555555555555556,
             "#d8576b"
            ],
            [
             0.6666666666666666,
             "#ed7953"
            ],
            [
             0.7777777777777778,
             "#fb9f3a"
            ],
            [
             0.8888888888888888,
             "#fdca26"
            ],
            [
             1,
             "#f0f921"
            ]
           ],
           "sequentialminus": [
            [
             0,
             "#0d0887"
            ],
            [
             0.1111111111111111,
             "#46039f"
            ],
            [
             0.2222222222222222,
             "#7201a8"
            ],
            [
             0.3333333333333333,
             "#9c179e"
            ],
            [
             0.4444444444444444,
             "#bd3786"
            ],
            [
             0.5555555555555556,
             "#d8576b"
            ],
            [
             0.6666666666666666,
             "#ed7953"
            ],
            [
             0.7777777777777778,
             "#fb9f3a"
            ],
            [
             0.8888888888888888,
             "#fdca26"
            ],
            [
             1,
             "#f0f921"
            ]
           ]
          },
          "colorway": [
           "#636efa",
           "#EF553B",
           "#00cc96",
           "#ab63fa",
           "#FFA15A",
           "#19d3f3",
           "#FF6692",
           "#B6E880",
           "#FF97FF",
           "#FECB52"
          ],
          "font": {
           "color": "#2a3f5f"
          },
          "geo": {
           "bgcolor": "white",
           "lakecolor": "white",
           "landcolor": "#E5ECF6",
           "showlakes": true,
           "showland": true,
           "subunitcolor": "white"
          },
          "hoverlabel": {
           "align": "left"
          },
          "hovermode": "closest",
          "mapbox": {
           "style": "light"
          },
          "paper_bgcolor": "white",
          "plot_bgcolor": "#E5ECF6",
          "polar": {
           "angularaxis": {
            "gridcolor": "white",
            "linecolor": "white",
            "ticks": ""
           },
           "bgcolor": "#E5ECF6",
           "radialaxis": {
            "gridcolor": "white",
            "linecolor": "white",
            "ticks": ""
           }
          },
          "scene": {
           "xaxis": {
            "backgroundcolor": "#E5ECF6",
            "gridcolor": "white",
            "gridwidth": 2,
            "linecolor": "white",
            "showbackground": true,
            "ticks": "",
            "zerolinecolor": "white"
           },
           "yaxis": {
            "backgroundcolor": "#E5ECF6",
            "gridcolor": "white",
            "gridwidth": 2,
            "linecolor": "white",
            "showbackground": true,
            "ticks": "",
            "zerolinecolor": "white"
           },
           "zaxis": {
            "backgroundcolor": "#E5ECF6",
            "gridcolor": "white",
            "gridwidth": 2,
            "linecolor": "white",
            "showbackground": true,
            "ticks": "",
            "zerolinecolor": "white"
           }
          },
          "shapedefaults": {
           "line": {
            "color": "#2a3f5f"
           }
          },
          "ternary": {
           "aaxis": {
            "gridcolor": "white",
            "linecolor": "white",
            "ticks": ""
           },
           "baxis": {
            "gridcolor": "white",
            "linecolor": "white",
            "ticks": ""
           },
           "bgcolor": "#E5ECF6",
           "caxis": {
            "gridcolor": "white",
            "linecolor": "white",
            "ticks": ""
           }
          },
          "title": {
           "x": 0.05
          },
          "xaxis": {
           "automargin": true,
           "gridcolor": "white",
           "linecolor": "white",
           "ticks": "",
           "title": {
            "standoff": 15
           },
           "zerolinecolor": "white",
           "zerolinewidth": 2
          },
          "yaxis": {
           "automargin": true,
           "gridcolor": "white",
           "linecolor": "white",
           "ticks": "",
           "title": {
            "standoff": 15
           },
           "zerolinecolor": "white",
           "zerolinewidth": 2
          }
         }
        },
        "title": {
         "font": {
          "size": 30
         },
         "text": "Significant (0.05) feat - Map 2"
        },
        "xaxis": {
         "anchor": "y",
         "domain": [
          0,
          1
         ],
         "title": {
          "text": "count"
         }
        },
        "yaxis": {
         "anchor": "x",
         "domain": [
          0,
          1
         ],
         "title": {
          "text": "label"
         }
        }
       }
      }
     },
     "metadata": {},
     "output_type": "display_data"
    }
   ],
   "source": [
    "# run_name = \"trans_omic_covid_data.run_1_default\"\n",
    "run_name = \"trans_omic_covid_data.rsd_1_default_p\"\n",
    "mummichog_input_file=\"../input_data/mummichog_input_ttest_rsd_1.csv\"\n",
    "cut_off_p = 0.05\n",
    "map2(\n",
    "    run_name=run_name, \n",
    "    mummichog_input_file=mummichog_input_file,\n",
    "    name_map_file=\"name_map_gt_chebi_to_kegg.csv\",\n",
    "    cut_off_p=cut_off_p,\n",
    "    plot=True,\n",
    "    track=\"feat\"\n",
    ")"
   ]
  },
  {
   "cell_type": "markdown",
   "metadata": {},
   "source": [
    "# Map 3\n",
    "![Sample Plot](Figures/map3.png)\n",
    "\n",
    "Link to metabolanalyst converter"
   ]
  },
  {
   "cell_type": "code",
   "execution_count": 380,
   "metadata": {},
   "outputs": [],
   "source": [
    "def map3_process_mummichog_output(run_name, cut_off_p):\n",
    "    print(\"\\nMummichog Output (mo) - User input to emperical compounds\")\n",
    "\n",
    "    file_path = f\"../runs/{run_name}/tables/userInput_to_EmpiricalCompounds.tsv\"\n",
    "    mo_raw_df = pd.read_csv(file_path, sep=\"\\t\")\n",
    "    if cut_off_p:\n",
    "        sig_df = mo_raw_df[mo_raw_df['p_value'] < cut_off_p]\n",
    "        unique_eids = sig_df[\"EID\"].nunique()\n",
    "        unique_feats = sig_df[\"CompoundID_from_user\"].nunique()\n",
    "    else:\n",
    "        unique_eids = mo_raw_df[\"EID\"].nunique()\n",
    "        unique_feats = mo_raw_df[\"CompoundID_from_user\"].nunique()\n",
    "    \n",
    "    print(f\"Unique EIDS: {unique_eids}\")\n",
    "    print(f\"Unique features: {unique_feats}\")\n",
    "\n",
    "    mo_no_nan_df = mo_raw_df.dropna(subset=[\"compounds\"]).copy()\n",
    "\n",
    "    print(f\"Number of original ouput rows: {len(mo_raw_df)}\")\n",
    "    print(f\"Dropped {len(mo_raw_df)-len(mo_no_nan_df)} nan compounds (KEGG IDs) rows, {len(mo_no_nan_df)} rows\")\n",
    "\n",
    "    # a metabolite feature can have multiple annotations separated by a \";\" in compound and \"$\" in compound_names\n",
    "    mo_no_nan_df['compound_split'] = mo_no_nan_df['compounds'].str.split(';')\n",
    "    mo_df = mo_no_nan_df.explode('compound_split')\n",
    "    mo_df = mo_df.rename(columns={'compound_split': 'compound'})\n",
    "    mo_df = mo_df.drop(columns=['compounds'])\n",
    "    mo_df = mo_df[mo_df['compound'].str.strip() != \"\"]\n",
    "    print(f\"Number of rows after ; split: {len(mo_df)}\")\n",
    "\n",
    "\n",
    "    mo_df.to_csv(f\"../runs/{run_name}/tables/map3/userInput_to_EmpiricalCompounds_kegg_split.csv\", index=False)\n",
    "    mo_df = mo_df.reset_index(drop=True)\n",
    "    mo_df.head()\n",
    "\n",
    "    return mo_df, unique_eids, unique_feats\n"
   ]
  },
  {
   "cell_type": "code",
   "execution_count": 381,
   "metadata": {},
   "outputs": [],
   "source": [
    "def map3_merge_mo_to_chebi(mo_df, name_map_file, cut_off_p):\n",
    "    chebi_map = pd.read_csv(name_map_file)\n",
    "    chebi_map['compound'] = chebi_map['Query']\n",
    "    chebi_map = chebi_map.drop(columns=['Query'])\n",
    "\n",
    "    mo_df = mo_df.merge(chebi_map[['compound', 'ChEBI']], on='compound', how='left')\n",
    "    \n",
    "    if cut_off_p:\n",
    "        fil_ui_cpd = mo_df[mo_df['p_value'] < cut_off_p]\n",
    "    else:\n",
    "        fil_ui_cpd = mo_df\n",
    "    \n",
    "    has_chebi = fil_ui_cpd[fil_ui_cpd['ChEBI'].notna()]\n",
    "    after_chebi_conv_count_eids = has_chebi['EID'].nunique()\n",
    "    after_chebi_conv_count_feats = has_chebi['CompoundID_from_user'].nunique()\n",
    "    print(f\"\\nNumber of unique EIDs and with chebi ids (p_value-{cut_off_p}): {has_chebi['EID'].nunique()}\") \n",
    "    print(f\"Number of unique input features and with chebi ids (p_value-{cut_off_p}): {has_chebi['CompoundID_from_user'].nunique()}\") \n",
    "\n",
    "    return mo_df, after_chebi_conv_count_eids, after_chebi_conv_count_feats\n"
   ]
  },
  {
   "cell_type": "code",
   "execution_count": 382,
   "metadata": {},
   "outputs": [],
   "source": [
    "def map3_generate_funnel_plot(\n",
    "    run_name,\n",
    "    cut_off_p,\n",
    "    track,\n",
    "    mummichog_input_file, \n",
    "    unique_eids,\n",
    "    unique_feats,\n",
    "    after_chebi_conv_count_eids,\n",
    "    after_chebi_conv_count_feats,\n",
    "    unique_match_eids,\n",
    "    unique_match_feats\n",
    "):\n",
    "    input_df = pd.read_csv(mummichog_input_file)\n",
    "    if cut_off_p:\n",
    "        input_df = input_df[input_df['p-value'] < cut_off_p]\n",
    "        title_prefix = f\"Significant ({str(cut_off_p)})\"\n",
    "        save_prefix = str(cut_off_p).replace(\".\", \"_\")\n",
    "    else:\n",
    "        title_prefix = f\"All\"\n",
    "        save_prefix = \"all\"\n",
    "\n",
    "    unique_feat_matrix = input_df[input_df[\"custom_id\"].notna()]['custom_id'].nunique()\n",
    "\n",
    "    if track==\"feat\":\n",
    "        label_to_count = {\n",
    "            \"Feature Matrix\": unique_feat_matrix,\n",
    "            \"Mummichog Output\": unique_feats,\n",
    "            \"Successful Conv to Chebi\": after_chebi_conv_count_feats,\n",
    "            \"Matches to Chebi and GT\": unique_match_feats,\n",
    "        }\n",
    "    elif track==\"eid\":\n",
    "        label_to_count = {\n",
    "            \"Feature Matrix\": unique_feat_matrix,\n",
    "            \"Mummichog Output\": unique_eids,\n",
    "            \"Successful Conv to Chebi\": after_chebi_conv_count_eids,\n",
    "            \"Matches to Chebi and GT\": unique_match_eids\n",
    "        }\n",
    "    \n",
    "    title = f\"{title_prefix} {track} - Map 3\"\n",
    "    save_path = f\"../runs/{run_name}/tables/map3/funnel_{save_prefix}_{track}_map3.png\"\n",
    "    funnel_plot_func(label_to_count, title, save_path)\n",
    "    "
   ]
  },
  {
   "cell_type": "code",
   "execution_count": 383,
   "metadata": {},
   "outputs": [],
   "source": [
    "def map3(run_name, mummichog_input_file=False, name_map_file=False, cut_off_p=False, plot=True, track=\"feat\"):\n",
    "    \n",
    "    assert track in [\"feat\", \"eid\"], f\"If provided, track must be either feat or eid not {track}\"\n",
    "    \n",
    "    if not os.path.exists(f\"../runs/{run_name}/tables/map3\"):\n",
    "        os.mkdir(f\"../runs/{run_name}/tables/map3\")\n",
    "    print(f\"Saving to ../runs/{run_name}/tables/map3\")\n",
    "\n",
    "    mo_df, unique_eids, unique_feats = map2_process_mummichog_output(run_name, cut_off_p)\n",
    "\n",
    "    if not name_map_file:\n",
    "        msg = (\n",
    "            \"\\nTo proceed with mapping, please map compound_name to ChEBI IDs using MetaboAnalyst.\\n\"\n",
    "            \"Paste the compound_name_no_colon column into MetaboAnalyst and download the name map.\\n\"\n",
    "            \"Pass the file path to that name map to continue. No API :(\"\n",
    "        )\n",
    "\n",
    "        print(msg)\n",
    "        return\n",
    "\n",
    "    mo_df, after_chebi_conv_count_eids, after_chebi_conv_count_feats = map3_merge_mo_to_chebi(mo_df, name_map_file, cut_off_p)\n",
    "    \n",
    "    gt_df = process_gt()\n",
    "    unique_match_feats, unique_match_eids = run_chebi_matches(run_name, mo_df, gt_df, cut_off_p)\n",
    "\n",
    "    if plot:\n",
    "        map3_generate_funnel_plot(\n",
    "            run_name,\n",
    "            cut_off_p,\n",
    "            track,\n",
    "            mummichog_input_file, \n",
    "            unique_eids,\n",
    "            unique_feats,\n",
    "            after_chebi_conv_count_eids,\n",
    "            after_chebi_conv_count_feats,\n",
    "            unique_match_eids,\n",
    "            unique_match_feats\n",
    "        )"
   ]
  },
  {
   "cell_type": "code",
   "execution_count": 384,
   "metadata": {},
   "outputs": [
    {
     "name": "stdout",
     "output_type": "stream",
     "text": [
      "Saving to ../runs/trans_omic_covid_data.rsd_1_default_p/tables/map3\n",
      "\n",
      "Mummichog Output (mo) - User input to emperical compounds\n",
      "Unique EIDS: 261\n",
      "Unique features: 315\n",
      "Number of original ouput rows: 1559\n",
      "Dropped 0 nan compounds (KEGG IDs) rows, 1559 rows\n",
      "Number of rows after ; split: 3078\n",
      "\n",
      "Number of unique EIDs and with chebi ids (p_value-0.05): 87\n",
      "Number of unique input features and with chebi ids (p_value-0.05): 120\n",
      "\n",
      "Ground Truth - True Metabolite info from COVID dataset\n",
      "No of rows: 515\n",
      "No of unique ChEBI IDs: 503\n",
      "\n",
      "200 matches found of which 54 are significant features\n"
     ]
    },
    {
     "data": {
      "application/vnd.plotly.v1+json": {
       "config": {
        "plotlyServerURL": "https://plot.ly"
       },
       "data": [
        {
         "hovertemplate": "count=%{x}<br>label=%{y}<extra></extra>",
         "legendgroup": "",
         "marker": {
          "color": "#636efa"
         },
         "name": "",
         "orientation": "h",
         "showlegend": false,
         "type": "funnel",
         "x": [
          2634,
          315,
          120,
          51
         ],
         "xaxis": "x",
         "y": [
          "Feature Matrix",
          "Mummichog Output",
          "Successful Conv to Chebi",
          "Matches to Chebi and GT"
         ],
         "yaxis": "y"
        }
       ],
       "layout": {
        "font": {
         "color": "black",
         "family": "Arial, sans-serif",
         "size": 25
        },
        "legend": {
         "tracegroupgap": 0
        },
        "margin": {
         "t": 60
        },
        "template": {
         "data": {
          "bar": [
           {
            "error_x": {
             "color": "#2a3f5f"
            },
            "error_y": {
             "color": "#2a3f5f"
            },
            "marker": {
             "line": {
              "color": "#E5ECF6",
              "width": 0.5
             },
             "pattern": {
              "fillmode": "overlay",
              "size": 10,
              "solidity": 0.2
             }
            },
            "type": "bar"
           }
          ],
          "barpolar": [
           {
            "marker": {
             "line": {
              "color": "#E5ECF6",
              "width": 0.5
             },
             "pattern": {
              "fillmode": "overlay",
              "size": 10,
              "solidity": 0.2
             }
            },
            "type": "barpolar"
           }
          ],
          "carpet": [
           {
            "aaxis": {
             "endlinecolor": "#2a3f5f",
             "gridcolor": "white",
             "linecolor": "white",
             "minorgridcolor": "white",
             "startlinecolor": "#2a3f5f"
            },
            "baxis": {
             "endlinecolor": "#2a3f5f",
             "gridcolor": "white",
             "linecolor": "white",
             "minorgridcolor": "white",
             "startlinecolor": "#2a3f5f"
            },
            "type": "carpet"
           }
          ],
          "choropleth": [
           {
            "colorbar": {
             "outlinewidth": 0,
             "ticks": ""
            },
            "type": "choropleth"
           }
          ],
          "contour": [
           {
            "colorbar": {
             "outlinewidth": 0,
             "ticks": ""
            },
            "colorscale": [
             [
              0,
              "#0d0887"
             ],
             [
              0.1111111111111111,
              "#46039f"
             ],
             [
              0.2222222222222222,
              "#7201a8"
             ],
             [
              0.3333333333333333,
              "#9c179e"
             ],
             [
              0.4444444444444444,
              "#bd3786"
             ],
             [
              0.5555555555555556,
              "#d8576b"
             ],
             [
              0.6666666666666666,
              "#ed7953"
             ],
             [
              0.7777777777777778,
              "#fb9f3a"
             ],
             [
              0.8888888888888888,
              "#fdca26"
             ],
             [
              1,
              "#f0f921"
             ]
            ],
            "type": "contour"
           }
          ],
          "contourcarpet": [
           {
            "colorbar": {
             "outlinewidth": 0,
             "ticks": ""
            },
            "type": "contourcarpet"
           }
          ],
          "heatmap": [
           {
            "colorbar": {
             "outlinewidth": 0,
             "ticks": ""
            },
            "colorscale": [
             [
              0,
              "#0d0887"
             ],
             [
              0.1111111111111111,
              "#46039f"
             ],
             [
              0.2222222222222222,
              "#7201a8"
             ],
             [
              0.3333333333333333,
              "#9c179e"
             ],
             [
              0.4444444444444444,
              "#bd3786"
             ],
             [
              0.5555555555555556,
              "#d8576b"
             ],
             [
              0.6666666666666666,
              "#ed7953"
             ],
             [
              0.7777777777777778,
              "#fb9f3a"
             ],
             [
              0.8888888888888888,
              "#fdca26"
             ],
             [
              1,
              "#f0f921"
             ]
            ],
            "type": "heatmap"
           }
          ],
          "heatmapgl": [
           {
            "colorbar": {
             "outlinewidth": 0,
             "ticks": ""
            },
            "colorscale": [
             [
              0,
              "#0d0887"
             ],
             [
              0.1111111111111111,
              "#46039f"
             ],
             [
              0.2222222222222222,
              "#7201a8"
             ],
             [
              0.3333333333333333,
              "#9c179e"
             ],
             [
              0.4444444444444444,
              "#bd3786"
             ],
             [
              0.5555555555555556,
              "#d8576b"
             ],
             [
              0.6666666666666666,
              "#ed7953"
             ],
             [
              0.7777777777777778,
              "#fb9f3a"
             ],
             [
              0.8888888888888888,
              "#fdca26"
             ],
             [
              1,
              "#f0f921"
             ]
            ],
            "type": "heatmapgl"
           }
          ],
          "histogram": [
           {
            "marker": {
             "pattern": {
              "fillmode": "overlay",
              "size": 10,
              "solidity": 0.2
             }
            },
            "type": "histogram"
           }
          ],
          "histogram2d": [
           {
            "colorbar": {
             "outlinewidth": 0,
             "ticks": ""
            },
            "colorscale": [
             [
              0,
              "#0d0887"
             ],
             [
              0.1111111111111111,
              "#46039f"
             ],
             [
              0.2222222222222222,
              "#7201a8"
             ],
             [
              0.3333333333333333,
              "#9c179e"
             ],
             [
              0.4444444444444444,
              "#bd3786"
             ],
             [
              0.5555555555555556,
              "#d8576b"
             ],
             [
              0.6666666666666666,
              "#ed7953"
             ],
             [
              0.7777777777777778,
              "#fb9f3a"
             ],
             [
              0.8888888888888888,
              "#fdca26"
             ],
             [
              1,
              "#f0f921"
             ]
            ],
            "type": "histogram2d"
           }
          ],
          "histogram2dcontour": [
           {
            "colorbar": {
             "outlinewidth": 0,
             "ticks": ""
            },
            "colorscale": [
             [
              0,
              "#0d0887"
             ],
             [
              0.1111111111111111,
              "#46039f"
             ],
             [
              0.2222222222222222,
              "#7201a8"
             ],
             [
              0.3333333333333333,
              "#9c179e"
             ],
             [
              0.4444444444444444,
              "#bd3786"
             ],
             [
              0.5555555555555556,
              "#d8576b"
             ],
             [
              0.6666666666666666,
              "#ed7953"
             ],
             [
              0.7777777777777778,
              "#fb9f3a"
             ],
             [
              0.8888888888888888,
              "#fdca26"
             ],
             [
              1,
              "#f0f921"
             ]
            ],
            "type": "histogram2dcontour"
           }
          ],
          "mesh3d": [
           {
            "colorbar": {
             "outlinewidth": 0,
             "ticks": ""
            },
            "type": "mesh3d"
           }
          ],
          "parcoords": [
           {
            "line": {
             "colorbar": {
              "outlinewidth": 0,
              "ticks": ""
             }
            },
            "type": "parcoords"
           }
          ],
          "pie": [
           {
            "automargin": true,
            "type": "pie"
           }
          ],
          "scatter": [
           {
            "fillpattern": {
             "fillmode": "overlay",
             "size": 10,
             "solidity": 0.2
            },
            "type": "scatter"
           }
          ],
          "scatter3d": [
           {
            "line": {
             "colorbar": {
              "outlinewidth": 0,
              "ticks": ""
             }
            },
            "marker": {
             "colorbar": {
              "outlinewidth": 0,
              "ticks": ""
             }
            },
            "type": "scatter3d"
           }
          ],
          "scattercarpet": [
           {
            "marker": {
             "colorbar": {
              "outlinewidth": 0,
              "ticks": ""
             }
            },
            "type": "scattercarpet"
           }
          ],
          "scattergeo": [
           {
            "marker": {
             "colorbar": {
              "outlinewidth": 0,
              "ticks": ""
             }
            },
            "type": "scattergeo"
           }
          ],
          "scattergl": [
           {
            "marker": {
             "colorbar": {
              "outlinewidth": 0,
              "ticks": ""
             }
            },
            "type": "scattergl"
           }
          ],
          "scattermapbox": [
           {
            "marker": {
             "colorbar": {
              "outlinewidth": 0,
              "ticks": ""
             }
            },
            "type": "scattermapbox"
           }
          ],
          "scatterpolar": [
           {
            "marker": {
             "colorbar": {
              "outlinewidth": 0,
              "ticks": ""
             }
            },
            "type": "scatterpolar"
           }
          ],
          "scatterpolargl": [
           {
            "marker": {
             "colorbar": {
              "outlinewidth": 0,
              "ticks": ""
             }
            },
            "type": "scatterpolargl"
           }
          ],
          "scatterternary": [
           {
            "marker": {
             "colorbar": {
              "outlinewidth": 0,
              "ticks": ""
             }
            },
            "type": "scatterternary"
           }
          ],
          "surface": [
           {
            "colorbar": {
             "outlinewidth": 0,
             "ticks": ""
            },
            "colorscale": [
             [
              0,
              "#0d0887"
             ],
             [
              0.1111111111111111,
              "#46039f"
             ],
             [
              0.2222222222222222,
              "#7201a8"
             ],
             [
              0.3333333333333333,
              "#9c179e"
             ],
             [
              0.4444444444444444,
              "#bd3786"
             ],
             [
              0.5555555555555556,
              "#d8576b"
             ],
             [
              0.6666666666666666,
              "#ed7953"
             ],
             [
              0.7777777777777778,
              "#fb9f3a"
             ],
             [
              0.8888888888888888,
              "#fdca26"
             ],
             [
              1,
              "#f0f921"
             ]
            ],
            "type": "surface"
           }
          ],
          "table": [
           {
            "cells": {
             "fill": {
              "color": "#EBF0F8"
             },
             "line": {
              "color": "white"
             }
            },
            "header": {
             "fill": {
              "color": "#C8D4E3"
             },
             "line": {
              "color": "white"
             }
            },
            "type": "table"
           }
          ]
         },
         "layout": {
          "annotationdefaults": {
           "arrowcolor": "#2a3f5f",
           "arrowhead": 0,
           "arrowwidth": 1
          },
          "autotypenumbers": "strict",
          "coloraxis": {
           "colorbar": {
            "outlinewidth": 0,
            "ticks": ""
           }
          },
          "colorscale": {
           "diverging": [
            [
             0,
             "#8e0152"
            ],
            [
             0.1,
             "#c51b7d"
            ],
            [
             0.2,
             "#de77ae"
            ],
            [
             0.3,
             "#f1b6da"
            ],
            [
             0.4,
             "#fde0ef"
            ],
            [
             0.5,
             "#f7f7f7"
            ],
            [
             0.6,
             "#e6f5d0"
            ],
            [
             0.7,
             "#b8e186"
            ],
            [
             0.8,
             "#7fbc41"
            ],
            [
             0.9,
             "#4d9221"
            ],
            [
             1,
             "#276419"
            ]
           ],
           "sequential": [
            [
             0,
             "#0d0887"
            ],
            [
             0.1111111111111111,
             "#46039f"
            ],
            [
             0.2222222222222222,
             "#7201a8"
            ],
            [
             0.3333333333333333,
             "#9c179e"
            ],
            [
             0.4444444444444444,
             "#bd3786"
            ],
            [
             0.5555555555555556,
             "#d8576b"
            ],
            [
             0.6666666666666666,
             "#ed7953"
            ],
            [
             0.7777777777777778,
             "#fb9f3a"
            ],
            [
             0.8888888888888888,
             "#fdca26"
            ],
            [
             1,
             "#f0f921"
            ]
           ],
           "sequentialminus": [
            [
             0,
             "#0d0887"
            ],
            [
             0.1111111111111111,
             "#46039f"
            ],
            [
             0.2222222222222222,
             "#7201a8"
            ],
            [
             0.3333333333333333,
             "#9c179e"
            ],
            [
             0.4444444444444444,
             "#bd3786"
            ],
            [
             0.5555555555555556,
             "#d8576b"
            ],
            [
             0.6666666666666666,
             "#ed7953"
            ],
            [
             0.7777777777777778,
             "#fb9f3a"
            ],
            [
             0.8888888888888888,
             "#fdca26"
            ],
            [
             1,
             "#f0f921"
            ]
           ]
          },
          "colorway": [
           "#636efa",
           "#EF553B",
           "#00cc96",
           "#ab63fa",
           "#FFA15A",
           "#19d3f3",
           "#FF6692",
           "#B6E880",
           "#FF97FF",
           "#FECB52"
          ],
          "font": {
           "color": "#2a3f5f"
          },
          "geo": {
           "bgcolor": "white",
           "lakecolor": "white",
           "landcolor": "#E5ECF6",
           "showlakes": true,
           "showland": true,
           "subunitcolor": "white"
          },
          "hoverlabel": {
           "align": "left"
          },
          "hovermode": "closest",
          "mapbox": {
           "style": "light"
          },
          "paper_bgcolor": "white",
          "plot_bgcolor": "#E5ECF6",
          "polar": {
           "angularaxis": {
            "gridcolor": "white",
            "linecolor": "white",
            "ticks": ""
           },
           "bgcolor": "#E5ECF6",
           "radialaxis": {
            "gridcolor": "white",
            "linecolor": "white",
            "ticks": ""
           }
          },
          "scene": {
           "xaxis": {
            "backgroundcolor": "#E5ECF6",
            "gridcolor": "white",
            "gridwidth": 2,
            "linecolor": "white",
            "showbackground": true,
            "ticks": "",
            "zerolinecolor": "white"
           },
           "yaxis": {
            "backgroundcolor": "#E5ECF6",
            "gridcolor": "white",
            "gridwidth": 2,
            "linecolor": "white",
            "showbackground": true,
            "ticks": "",
            "zerolinecolor": "white"
           },
           "zaxis": {
            "backgroundcolor": "#E5ECF6",
            "gridcolor": "white",
            "gridwidth": 2,
            "linecolor": "white",
            "showbackground": true,
            "ticks": "",
            "zerolinecolor": "white"
           }
          },
          "shapedefaults": {
           "line": {
            "color": "#2a3f5f"
           }
          },
          "ternary": {
           "aaxis": {
            "gridcolor": "white",
            "linecolor": "white",
            "ticks": ""
           },
           "baxis": {
            "gridcolor": "white",
            "linecolor": "white",
            "ticks": ""
           },
           "bgcolor": "#E5ECF6",
           "caxis": {
            "gridcolor": "white",
            "linecolor": "white",
            "ticks": ""
           }
          },
          "title": {
           "x": 0.05
          },
          "xaxis": {
           "automargin": true,
           "gridcolor": "white",
           "linecolor": "white",
           "ticks": "",
           "title": {
            "standoff": 15
           },
           "zerolinecolor": "white",
           "zerolinewidth": 2
          },
          "yaxis": {
           "automargin": true,
           "gridcolor": "white",
           "linecolor": "white",
           "ticks": "",
           "title": {
            "standoff": 15
           },
           "zerolinecolor": "white",
           "zerolinewidth": 2
          }
         }
        },
        "title": {
         "font": {
          "size": 30
         },
         "text": "Significant (0.05) feat - Map 3"
        },
        "xaxis": {
         "anchor": "y",
         "domain": [
          0,
          1
         ],
         "title": {
          "text": "count"
         }
        },
        "yaxis": {
         "anchor": "x",
         "domain": [
          0,
          1
         ],
         "title": {
          "text": "label"
         }
        }
       }
      }
     },
     "metadata": {},
     "output_type": "display_data"
    }
   ],
   "source": [
    "# run_name = \"trans_omic_covid_data.run_1_default\"\n",
    "run_name = \"trans_omic_covid_data.rsd_1_default_p\"\n",
    "mummichog_input_file=\"../input_data/mummichog_input_ttest_rsd_1.csv\"\n",
    "cut_off_p = 0.05\n",
    "map3(\n",
    "    run_name=run_name, \n",
    "    mummichog_input_file=mummichog_input_file,\n",
    "    name_map_file=f\"../runs/{run_name}/tables/name_map_mo_kegg_to_chebi.csv\",\n",
    "    cut_off_p=cut_off_p,\n",
    "    plot=True,\n",
    "    track=\"feat\"\n",
    ")"
   ]
  }
 ],
 "metadata": {
  "kernelspec": {
   "display_name": "mummichog_env",
   "language": "python",
   "name": "python3"
  },
  "language_info": {
   "codemirror_mode": {
    "name": "ipython",
    "version": 3
   },
   "file_extension": ".py",
   "mimetype": "text/x-python",
   "name": "python",
   "nbconvert_exporter": "python",
   "pygments_lexer": "ipython3",
   "version": "3.10.15"
  }
 },
 "nbformat": 4,
 "nbformat_minor": 2
}
